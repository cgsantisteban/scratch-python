{
 "cells": [
  {
   "cell_type": "markdown",
   "metadata": {},
   "source": [
    "# El teorema de Pitágoras\n"
   ]
  },
  {
   "cell_type": "markdown",
   "metadata": {},
   "source": [
    "<img src=\"./teorema-de-pitagoras.jpg\" height=\"250\" width=\"250\">"
   ]
  },
  {
   "cell_type": "markdown",
   "metadata": {},
   "source": [
    "#### En todos los ejercicios debéis borrar los puntos suspensisvos (...) y añadir el código en python correcto."
   ]
  },
  {
   "cell_type": "markdown",
   "metadata": {},
   "source": [
    "#### Ejercicio 1. \n",
    "\n",
    "Dibujad un triángulo como el que aparece en la siguiente imagen. \n",
    "\n",
    "<img src=\"./triangulo.jpg\">"
   ]
  },
  {
   "cell_type": "code",
   "execution_count": 12,
   "metadata": {},
   "outputs": [
    {
     "data": {
      "image/png": "[encoded data removed]",
      "text/plain": [
       "<matplotlib.figure.Figure at 0xab82014c>"
      ]
     },
     "metadata": {},
     "output_type": "display_data"
    }
   ],
   "source": [
    "import pylab\n",
    "\n",
    "pylab.xlim(0,4)\n",
    "pylab.ylim(0,5)\n",
    "\n",
    "pylab.grid(True)\n",
    "\n",
    "vertices = [[0, 0], [3, 4], [3, 0]]\n",
    "poligono = pylab.Polygon(vertices, closed=True, fill=None, edgecolor='r')\n",
    "pylab.gca().add_patch(poligono)\n",
    "\n",
    "pylab.show()"
   ]
  },
  {
   "cell_type": "markdown",
   "metadata": {},
   "source": [
    "#### Ejercicio 2.\n",
    "\n",
    "Calculad el valor de c aplicando el teorema de Pitágoras."
   ]
  },
  {
   "cell_type": "code",
   "execution_count": 8,
   "metadata": {},
   "outputs": [
    {
     "name": "stdout",
     "output_type": "stream",
     "text": [
      "El valor de c es igual a 5.0\n"
     ]
    }
   ],
   "source": [
    "import math\n",
    "a = 4\n",
    "b = 3\n",
    "c = math.sqrt(a**2 + b**2)\n",
    "print(\"El valor de c es igual a\", c)"
   ]
  },
  {
   "cell_type": "markdown",
   "metadata": {},
   "source": [
    "#### Ejercicio 3.\n",
    "\n",
    "Calculad el área del triángulo"
   ]
  },
  {
   "cell_type": "code",
   "execution_count": 9,
   "metadata": {},
   "outputs": [
    {
     "name": "stdout",
     "output_type": "stream",
     "text": [
      "El área es igual a 6.0\n"
     ]
    }
   ],
   "source": [
    "area = a*b/2\n",
    "print(\"El área es igual a\", area)"
   ]
  },
  {
   "cell_type": "markdown",
   "metadata": {
    "collapsed": true
   },
   "source": [
    "#### Ejercicio 4.\n",
    "\n",
    "Calculad el perímetro del triángulo"
   ]
  },
  {
   "cell_type": "code",
   "execution_count": 10,
   "metadata": {},
   "outputs": [
    {
     "name": "stdout",
     "output_type": "stream",
     "text": [
      "El perímetro es igual a 12.0\n"
     ]
    }
   ],
   "source": [
    "perimetro = a + b + c\n",
    "print(\"El perímetro es igual a\", perimetro)"
   ]
  },
  {
   "cell_type": "code",
   "execution_count": null,
   "metadata": {
    "collapsed": true
   },
   "outputs": [],
   "source": []
  }
 ],
 "metadata": {
  "kernelspec": {
   "display_name": "Python 3",
   "language": "python",
   "name": "python3"
  },
  "language_info": {
   "codemirror_mode": {
    "name": "ipython",
    "version": 3
   },
   "file_extension": ".py",
   "mimetype": "text/x-python",
   "name": "python",
   "nbconvert_exporter": "python",
   "pygments_lexer": "ipython3",
   "version": "3.6.3"
  }
 },
 "nbformat": 4,
 "nbformat_minor": 2
}
