{
 "cells": [
  {
   "cell_type": "markdown",
   "metadata": {},
   "source": [
    "# Donkey Kong y el teorema de Pitágoras.\n",
    "### Salva a Damsel calculando todos los lados de los triángulos para saber que ruta es la más corta.\n",
    "#### Ayuda: Define una función que calcule la hipotenusa de cada triángulo rectángulo para no tener que repetir los mismos cálculos "
   ]
  },
  {
   "cell_type": "markdown",
   "metadata": {},
   "source": [
    "<img src=\"./donkey.jpg\" width=\"450\" height=\"550\">"
   ]
  },
  {
   "cell_type": "code",
   "execution_count": 1,
   "metadata": {},
   "outputs": [
    {
     "name": "stdout",
     "output_type": "stream",
     "text": [
      "a = 8.602325267042627\n"
     ]
    }
   ],
   "source": [
    "import math\n",
    "\n",
    "def pitagoras(base,altura):\n",
    "    hipotenusa = math.sqrt(base**2 + altura**2)\n",
    "    \n",
    "    return hipotenusa\n",
    "\n",
    "#Lado a\n",
    "a = pitagoras(7,5)\n",
    "\n",
    "print(\"a =\",a)\n"
   ]
  },
  {
   "cell_type": "code",
   "execution_count": null,
   "metadata": {
    "collapsed": true
   },
   "outputs": [],
   "source": []
  }
 ],
 "metadata": {
  "kernelspec": {
   "display_name": "Python 3",
   "language": "python",
   "name": "python3"
  },
  "language_info": {
   "codemirror_mode": {
    "name": "ipython",
    "version": 3
   },
   "file_extension": ".py",
   "mimetype": "text/x-python",
   "name": "python",
   "nbconvert_exporter": "python",
   "pygments_lexer": "ipython3",
   "version": "3.6.3"
  }
 },
 "nbformat": 4,
 "nbformat_minor": 2
}
