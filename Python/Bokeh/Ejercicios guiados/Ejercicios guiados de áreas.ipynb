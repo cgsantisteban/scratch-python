{
 "cells": [
  {
   "cell_type": "code",
   "execution_count": 1,
   "metadata": {},
   "outputs": [
    {
     "data": {
      "text/html": [
       "\n",
       "    <div class=\"bk-root\">\n",
       "        <a href=\"https://bokeh.pydata.org\" target=\"_blank\" class=\"bk-logo bk-logo-small bk-logo-notebook\"></a>\n",
       "        <span id=\"64a803ce-3ff1-4cab-9348-b5a29325df4f\">Loading BokehJS ...</span>\n",
       "    </div>"
      ]
     },
     "metadata": {},
     "output_type": "display_data"
    },
    {
     "data": {
      "application/javascript": [
       "\n",
       "(function(root) {\n",
       "  function now() {\n",
       "    return new Date();\n",
       "  }\n",
       "\n",
       "  var force = true;\n",
       "\n",
       "  if (typeof (root._bokeh_onload_callbacks) === \"undefined\" || force === true) {\n",
       "    root._bokeh_onload_callbacks = [];\n",
       "    root._bokeh_is_loading = undefined;\n",
       "  }\n",
       "\n",
       "  var JS_MIME_TYPE = 'application/javascript';\n",
       "  var HTML_MIME_TYPE = 'text/html';\n",
       "  var EXEC_MIME_TYPE = 'application/vnd.bokehjs_exec.v0+json';\n",
       "  var CLASS_NAME = 'output_bokeh rendered_html';\n",
       "\n",
       "  /**\n",
       "   * Render data to the DOM node\n",
       "   */\n",
       "  function render(props, node) {\n",
       "    var script = document.createElement(\"script\");\n",
       "    node.appendChild(script);\n",
       "  }\n",
       "\n",
       "  /**\n",
       "   * Handle when an output is cleared or removed\n",
       "   */\n",
       "  function handleClearOutput(event, handle) {\n",
       "    var cell = handle.cell;\n",
       "\n",
       "    var id = cell.output_area._bokeh_element_id;\n",
       "    var server_id = cell.output_area._bokeh_server_id;\n",
       "    // Clean up Bokeh references\n",
       "    if (id !== undefined) {\n",
       "      Bokeh.index[id].model.document.clear();\n",
       "      delete Bokeh.index[id];\n",
       "    }\n",
       "\n",
       "    if (server_id !== undefined) {\n",
       "      // Clean up Bokeh references\n",
       "      var cmd = \"from bokeh.io.state import curstate; print(curstate().uuid_to_server['\" + server_id + \"'].get_sessions()[0].document.roots[0]._id)\";\n",
       "      cell.notebook.kernel.execute(cmd, {\n",
       "        iopub: {\n",
       "          output: function(msg) {\n",
       "            var element_id = msg.content.text.trim();\n",
       "            Bokeh.index[element_id].model.document.clear();\n",
       "            delete Bokeh.index[element_id];\n",
       "          }\n",
       "        }\n",
       "      });\n",
       "      // Destroy server and session\n",
       "      var cmd = \"import bokeh.io.notebook as ion; ion.destroy_server('\" + server_id + \"')\";\n",
       "      cell.notebook.kernel.execute(cmd);\n",
       "    }\n",
       "  }\n",
       "\n",
       "  /**\n",
       "   * Handle when a new output is added\n",
       "   */\n",
       "  function handleAddOutput(event, handle) {\n",
       "    var output_area = handle.output_area;\n",
       "    var output = handle.output;\n",
       "\n",
       "    // limit handleAddOutput to display_data with EXEC_MIME_TYPE content only\n",
       "    if ((output.output_type != \"display_data\") || (!output.data.hasOwnProperty(EXEC_MIME_TYPE))) {\n",
       "      return\n",
       "    }\n",
       "\n",
       "    var toinsert = output_area.element.find(`.${CLASS_NAME.split(' ')[0]}`);\n",
       "\n",
       "    if (output.metadata[EXEC_MIME_TYPE][\"id\"] !== undefined) {\n",
       "      toinsert[0].firstChild.textContent = output.data[JS_MIME_TYPE];\n",
       "      // store reference to embed id on output_area\n",
       "      output_area._bokeh_element_id = output.metadata[EXEC_MIME_TYPE][\"id\"];\n",
       "    }\n",
       "    if (output.metadata[EXEC_MIME_TYPE][\"server_id\"] !== undefined) {\n",
       "      var bk_div = document.createElement(\"div\");\n",
       "      bk_div.innerHTML = output.data[HTML_MIME_TYPE];\n",
       "      var script_attrs = bk_div.children[0].attributes;\n",
       "      for (var i = 0; i < script_attrs.length; i++) {\n",
       "        toinsert[0].firstChild.setAttribute(script_attrs[i].name, script_attrs[i].value);\n",
       "      }\n",
       "      // store reference to server id on output_area\n",
       "      output_area._bokeh_server_id = output.metadata[EXEC_MIME_TYPE][\"server_id\"];\n",
       "    }\n",
       "  }\n",
       "\n",
       "  function register_renderer(events, OutputArea) {\n",
       "\n",
       "    function append_mime(data, metadata, element) {\n",
       "      // create a DOM node to render to\n",
       "      var toinsert = this.create_output_subarea(\n",
       "        metadata,\n",
       "        CLASS_NAME,\n",
       "        EXEC_MIME_TYPE\n",
       "      );\n",
       "      this.keyboard_manager.register_events(toinsert);\n",
       "      // Render to node\n",
       "      var props = {data: data, metadata: metadata[EXEC_MIME_TYPE]};\n",
       "      render(props, toinsert[0]);\n",
       "      element.append(toinsert);\n",
       "      return toinsert\n",
       "    }\n",
       "\n",
       "    /* Handle when an output is cleared or removed */\n",
       "    events.on('clear_output.CodeCell', handleClearOutput);\n",
       "    events.on('delete.Cell', handleClearOutput);\n",
       "\n",
       "    /* Handle when a new output is added */\n",
       "    events.on('output_added.OutputArea', handleAddOutput);\n",
       "\n",
       "    /**\n",
       "     * Register the mime type and append_mime function with output_area\n",
       "     */\n",
       "    OutputArea.prototype.register_mime_type(EXEC_MIME_TYPE, append_mime, {\n",
       "      /* Is output safe? */\n",
       "      safe: true,\n",
       "      /* Index of renderer in `output_area.display_order` */\n",
       "      index: 0\n",
       "    });\n",
       "  }\n",
       "\n",
       "  // register the mime type if in Jupyter Notebook environment and previously unregistered\n",
       "  if (root.Jupyter !== undefined) {\n",
       "    var events = require('base/js/events');\n",
       "    var OutputArea = require('notebook/js/outputarea').OutputArea;\n",
       "\n",
       "    if (OutputArea.prototype.mime_types().indexOf(EXEC_MIME_TYPE) == -1) {\n",
       "      register_renderer(events, OutputArea);\n",
       "    }\n",
       "  }\n",
       "\n",
       "  \n",
       "  if (typeof (root._bokeh_timeout) === \"undefined\" || force === true) {\n",
       "    root._bokeh_timeout = Date.now() + 5000;\n",
       "    root._bokeh_failed_load = false;\n",
       "  }\n",
       "\n",
       "  var NB_LOAD_WARNING = {'data': {'text/html':\n",
       "     \"<div style='background-color: #fdd'>\\n\"+\n",
       "     \"<p>\\n\"+\n",
       "     \"BokehJS does not appear to have successfully loaded. If loading BokehJS from CDN, this \\n\"+\n",
       "     \"may be due to a slow or bad network connection. Possible fixes:\\n\"+\n",
       "     \"</p>\\n\"+\n",
       "     \"<ul>\\n\"+\n",
       "     \"<li>re-rerun `output_notebook()` to attempt to load from CDN again, or</li>\\n\"+\n",
       "     \"<li>use INLINE resources instead, as so:</li>\\n\"+\n",
       "     \"</ul>\\n\"+\n",
       "     \"<code>\\n\"+\n",
       "     \"from bokeh.resources import INLINE\\n\"+\n",
       "     \"output_notebook(resources=INLINE)\\n\"+\n",
       "     \"</code>\\n\"+\n",
       "     \"</div>\"}};\n",
       "\n",
       "  function display_loaded() {\n",
       "    var el = document.getElementById(\"64a803ce-3ff1-4cab-9348-b5a29325df4f\");\n",
       "    if (el != null) {\n",
       "      el.textContent = \"BokehJS is loading...\";\n",
       "    }\n",
       "    if (root.Bokeh !== undefined) {\n",
       "      if (el != null) {\n",
       "        el.textContent = \"BokehJS \" + root.Bokeh.version + \" successfully loaded.\";\n",
       "      }\n",
       "    } else if (Date.now() < root._bokeh_timeout) {\n",
       "      setTimeout(display_loaded, 100)\n",
       "    }\n",
       "  }\n",
       "\n",
       "\n",
       "  function run_callbacks() {\n",
       "    try {\n",
       "      root._bokeh_onload_callbacks.forEach(function(callback) { callback() });\n",
       "    }\n",
       "    finally {\n",
       "      delete root._bokeh_onload_callbacks\n",
       "    }\n",
       "    console.info(\"Bokeh: all callbacks have finished\");\n",
       "  }\n",
       "\n",
       "  function load_libs(js_urls, callback) {\n",
       "    root._bokeh_onload_callbacks.push(callback);\n",
       "    if (root._bokeh_is_loading > 0) {\n",
       "      console.log(\"Bokeh: BokehJS is being loaded, scheduling callback at\", now());\n",
       "      return null;\n",
       "    }\n",
       "    if (js_urls == null || js_urls.length === 0) {\n",
       "      run_callbacks();\n",
       "      return null;\n",
       "    }\n",
       "    console.log(\"Bokeh: BokehJS not loaded, scheduling load and callback at\", now());\n",
       "    root._bokeh_is_loading = js_urls.length;\n",
       "    for (var i = 0; i < js_urls.length; i++) {\n",
       "      var url = js_urls[i];\n",
       "      var s = document.createElement('script');\n",
       "      s.src = url;\n",
       "      s.async = false;\n",
       "      s.onreadystatechange = s.onload = function() {\n",
       "        root._bokeh_is_loading--;\n",
       "        if (root._bokeh_is_loading === 0) {\n",
       "          console.log(\"Bokeh: all BokehJS libraries loaded\");\n",
       "          run_callbacks()\n",
       "        }\n",
       "      };\n",
       "      s.onerror = function() {\n",
       "        console.warn(\"failed to load library \" + url);\n",
       "      };\n",
       "      console.log(\"Bokeh: injecting script tag for BokehJS library: \", url);\n",
       "      document.getElementsByTagName(\"head\")[0].appendChild(s);\n",
       "    }\n",
       "  };var element = document.getElementById(\"64a803ce-3ff1-4cab-9348-b5a29325df4f\");\n",
       "  if (element == null) {\n",
       "    console.log(\"Bokeh: ERROR: autoload.js configured with elementid '64a803ce-3ff1-4cab-9348-b5a29325df4f' but no matching script tag was found. \")\n",
       "    return false;\n",
       "  }\n",
       "\n",
       "  var js_urls = [\"https://cdn.pydata.org/bokeh/release/bokeh-0.12.10.min.js\", \"https://cdn.pydata.org/bokeh/release/bokeh-widgets-0.12.10.min.js\", \"https://cdn.pydata.org/bokeh/release/bokeh-tables-0.12.10.min.js\", \"https://cdn.pydata.org/bokeh/release/bokeh-gl-0.12.10.min.js\"];\n",
       "\n",
       "  var inline_js = [\n",
       "    function(Bokeh) {\n",
       "      Bokeh.set_log_level(\"info\");\n",
       "    },\n",
       "    \n",
       "    function(Bokeh) {\n",
       "      \n",
       "    },\n",
       "    function(Bokeh) {\n",
       "      console.log(\"Bokeh: injecting CSS: https://cdn.pydata.org/bokeh/release/bokeh-0.12.10.min.css\");\n",
       "      Bokeh.embed.inject_css(\"https://cdn.pydata.org/bokeh/release/bokeh-0.12.10.min.css\");\n",
       "      console.log(\"Bokeh: injecting CSS: https://cdn.pydata.org/bokeh/release/bokeh-widgets-0.12.10.min.css\");\n",
       "      Bokeh.embed.inject_css(\"https://cdn.pydata.org/bokeh/release/bokeh-widgets-0.12.10.min.css\");\n",
       "      console.log(\"Bokeh: injecting CSS: https://cdn.pydata.org/bokeh/release/bokeh-tables-0.12.10.min.css\");\n",
       "      Bokeh.embed.inject_css(\"https://cdn.pydata.org/bokeh/release/bokeh-tables-0.12.10.min.css\");\n",
       "    }\n",
       "  ];\n",
       "\n",
       "  function run_inline_js() {\n",
       "    \n",
       "    if ((root.Bokeh !== undefined) || (force === true)) {\n",
       "      for (var i = 0; i < inline_js.length; i++) {\n",
       "        inline_js[i].call(root, root.Bokeh);\n",
       "      }if (force === true) {\n",
       "        display_loaded();\n",
       "      }} else if (Date.now() < root._bokeh_timeout) {\n",
       "      setTimeout(run_inline_js, 100);\n",
       "    } else if (!root._bokeh_failed_load) {\n",
       "      console.log(\"Bokeh: BokehJS failed to load within specified timeout.\");\n",
       "      root._bokeh_failed_load = true;\n",
       "    } else if (force !== true) {\n",
       "      var cell = $(document.getElementById(\"64a803ce-3ff1-4cab-9348-b5a29325df4f\")).parents('.cell').data().cell;\n",
       "      cell.output_area.append_execute_result(NB_LOAD_WARNING)\n",
       "    }\n",
       "\n",
       "  }\n",
       "\n",
       "  if (root._bokeh_is_loading === 0) {\n",
       "    console.log(\"Bokeh: BokehJS loaded, going straight to plotting\");\n",
       "    run_inline_js();\n",
       "  } else {\n",
       "    load_libs(js_urls, function() {\n",
       "      console.log(\"Bokeh: BokehJS plotting callback run at\", now());\n",
       "      run_inline_js();\n",
       "    });\n",
       "  }\n",
       "}(window));"
      ],
      "application/vnd.bokehjs_load.v0+json": "\n(function(root) {\n  function now() {\n    return new Date();\n  }\n\n  var force = true;\n\n  if (typeof (root._bokeh_onload_callbacks) === \"undefined\" || force === true) {\n    root._bokeh_onload_callbacks = [];\n    root._bokeh_is_loading = undefined;\n  }\n\n  \n\n  \n  if (typeof (root._bokeh_timeout) === \"undefined\" || force === true) {\n    root._bokeh_timeout = Date.now() + 5000;\n    root._bokeh_failed_load = false;\n  }\n\n  var NB_LOAD_WARNING = {'data': {'text/html':\n     \"<div style='background-color: #fdd'>\\n\"+\n     \"<p>\\n\"+\n     \"BokehJS does not appear to have successfully loaded. If loading BokehJS from CDN, this \\n\"+\n     \"may be due to a slow or bad network connection. Possible fixes:\\n\"+\n     \"</p>\\n\"+\n     \"<ul>\\n\"+\n     \"<li>re-rerun `output_notebook()` to attempt to load from CDN again, or</li>\\n\"+\n     \"<li>use INLINE resources instead, as so:</li>\\n\"+\n     \"</ul>\\n\"+\n     \"<code>\\n\"+\n     \"from bokeh.resources import INLINE\\n\"+\n     \"output_notebook(resources=INLINE)\\n\"+\n     \"</code>\\n\"+\n     \"</div>\"}};\n\n  function display_loaded() {\n    var el = document.getElementById(\"64a803ce-3ff1-4cab-9348-b5a29325df4f\");\n    if (el != null) {\n      el.textContent = \"BokehJS is loading...\";\n    }\n    if (root.Bokeh !== undefined) {\n      if (el != null) {\n        el.textContent = \"BokehJS \" + root.Bokeh.version + \" successfully loaded.\";\n      }\n    } else if (Date.now() < root._bokeh_timeout) {\n      setTimeout(display_loaded, 100)\n    }\n  }\n\n\n  function run_callbacks() {\n    try {\n      root._bokeh_onload_callbacks.forEach(function(callback) { callback() });\n    }\n    finally {\n      delete root._bokeh_onload_callbacks\n    }\n    console.info(\"Bokeh: all callbacks have finished\");\n  }\n\n  function load_libs(js_urls, callback) {\n    root._bokeh_onload_callbacks.push(callback);\n    if (root._bokeh_is_loading > 0) {\n      console.log(\"Bokeh: BokehJS is being loaded, scheduling callback at\", now());\n      return null;\n    }\n    if (js_urls == null || js_urls.length === 0) {\n      run_callbacks();\n      return null;\n    }\n    console.log(\"Bokeh: BokehJS not loaded, scheduling load and callback at\", now());\n    root._bokeh_is_loading = js_urls.length;\n    for (var i = 0; i < js_urls.length; i++) {\n      var url = js_urls[i];\n      var s = document.createElement('script');\n      s.src = url;\n      s.async = false;\n      s.onreadystatechange = s.onload = function() {\n        root._bokeh_is_loading--;\n        if (root._bokeh_is_loading === 0) {\n          console.log(\"Bokeh: all BokehJS libraries loaded\");\n          run_callbacks()\n        }\n      };\n      s.onerror = function() {\n        console.warn(\"failed to load library \" + url);\n      };\n      console.log(\"Bokeh: injecting script tag for BokehJS library: \", url);\n      document.getElementsByTagName(\"head\")[0].appendChild(s);\n    }\n  };var element = document.getElementById(\"64a803ce-3ff1-4cab-9348-b5a29325df4f\");\n  if (element == null) {\n    console.log(\"Bokeh: ERROR: autoload.js configured with elementid '64a803ce-3ff1-4cab-9348-b5a29325df4f' but no matching script tag was found. \")\n    return false;\n  }\n\n  var js_urls = [\"https://cdn.pydata.org/bokeh/release/bokeh-0.12.10.min.js\", \"https://cdn.pydata.org/bokeh/release/bokeh-widgets-0.12.10.min.js\", \"https://cdn.pydata.org/bokeh/release/bokeh-tables-0.12.10.min.js\", \"https://cdn.pydata.org/bokeh/release/bokeh-gl-0.12.10.min.js\"];\n\n  var inline_js = [\n    function(Bokeh) {\n      Bokeh.set_log_level(\"info\");\n    },\n    \n    function(Bokeh) {\n      \n    },\n    function(Bokeh) {\n      console.log(\"Bokeh: injecting CSS: https://cdn.pydata.org/bokeh/release/bokeh-0.12.10.min.css\");\n      Bokeh.embed.inject_css(\"https://cdn.pydata.org/bokeh/release/bokeh-0.12.10.min.css\");\n      console.log(\"Bokeh: injecting CSS: https://cdn.pydata.org/bokeh/release/bokeh-widgets-0.12.10.min.css\");\n      Bokeh.embed.inject_css(\"https://cdn.pydata.org/bokeh/release/bokeh-widgets-0.12.10.min.css\");\n      console.log(\"Bokeh: injecting CSS: https://cdn.pydata.org/bokeh/release/bokeh-tables-0.12.10.min.css\");\n      Bokeh.embed.inject_css(\"https://cdn.pydata.org/bokeh/release/bokeh-tables-0.12.10.min.css\");\n    }\n  ];\n\n  function run_inline_js() {\n    \n    if ((root.Bokeh !== undefined) || (force === true)) {\n      for (var i = 0; i < inline_js.length; i++) {\n        inline_js[i].call(root, root.Bokeh);\n      }if (force === true) {\n        display_loaded();\n      }} else if (Date.now() < root._bokeh_timeout) {\n      setTimeout(run_inline_js, 100);\n    } else if (!root._bokeh_failed_load) {\n      console.log(\"Bokeh: BokehJS failed to load within specified timeout.\");\n      root._bokeh_failed_load = true;\n    } else if (force !== true) {\n      var cell = $(document.getElementById(\"64a803ce-3ff1-4cab-9348-b5a29325df4f\")).parents('.cell').data().cell;\n      cell.output_area.append_execute_result(NB_LOAD_WARNING)\n    }\n\n  }\n\n  if (root._bokeh_is_loading === 0) {\n    console.log(\"Bokeh: BokehJS loaded, going straight to plotting\");\n    run_inline_js();\n  } else {\n    load_libs(js_urls, function() {\n      console.log(\"Bokeh: BokehJS plotting callback run at\", now());\n      run_inline_js();\n    });\n  }\n}(window));"
     },
     "metadata": {},
     "output_type": "display_data"
    }
   ],
   "source": [
    "from bokeh.plotting import figure, output_notebook, show\n",
    "from math import pi\n",
    "output_notebook()\n",
    "\n"
   ]
  },
  {
   "cell_type": "markdown",
   "metadata": {},
   "source": [
    "### Ejecicio 1. Calcular el área de la figura formada por los puntos (2,0), (2,6), (4,8), (6,6) y (6,0). El color de la figura debe ser verde. "
   ]
  },
  {
   "cell_type": "code",
   "execution_count": 2,
   "metadata": {},
   "outputs": [
    {
     "data": {
      "text/html": [
       "\n",
       "<div class=\"bk-root\">\n",
       "    <div class=\"bk-plotdiv\" id=\"c4b05902-d0c7-4c3f-9153-8b0b934229fd\"></div>\n",
       "</div>"
      ]
     },
     "metadata": {},
     "output_type": "display_data"
    },
    {
     "data": {
      "application/javascript": [
       "(function(root) {\n",
       "  function embed_document(root) {\n",
       "    var docs_json = {\"6fe75a18-c9a7-47b5-8761-d44e03cf55cc\":{\"roots\":{\"references\":[{\"attributes\":{\"bottom_units\":\"screen\",\"fill_alpha\":{\"value\":0.5},\"fill_color\":{\"value\":\"lightgrey\"},\"left_units\":\"screen\",\"level\":\"overlay\",\"line_alpha\":{\"value\":1.0},\"line_color\":{\"value\":\"black\"},\"line_dash\":[4,4],\"line_width\":{\"value\":2},\"plot\":null,\"render_mode\":\"css\",\"right_units\":\"screen\",\"top_units\":\"screen\"},\"id\":\"3658a41f-54d5-44c2-9aa6-4eed9d9b31c8\",\"type\":\"BoxAnnotation\"},{\"attributes\":{},\"id\":\"0a2ce12d-a9e9-4fd3-8ac0-98c44b2e819f\",\"type\":\"PanTool\"},{\"attributes\":{},\"id\":\"4ad4d96f-ad4a-4d31-8d6e-6a4820a22d70\",\"type\":\"ResetTool\"},{\"attributes\":{},\"id\":\"b9ebb094-e01d-4fd5-9030-b5088f83c61b\",\"type\":\"BasicTickFormatter\"},{\"attributes\":{},\"id\":\"c37f820e-7f59-4771-8a94-b8108c7540af\",\"type\":\"WheelZoomTool\"},{\"attributes\":{\"callback\":null,\"column_names\":[\"x\",\"y\"],\"data\":{\"x\":[2,2,4,6,6],\"y\":[0,6,8,6,0]}},\"id\":\"39612c3a-1af2-4e13-8c05-17710f0cbf93\",\"type\":\"ColumnDataSource\"},{\"attributes\":{\"overlay\":{\"id\":\"3658a41f-54d5-44c2-9aa6-4eed9d9b31c8\",\"type\":\"BoxAnnotation\"}},\"id\":\"ec890119-1b67-4226-8f0a-f45073dc0613\",\"type\":\"BoxZoomTool\"},{\"attributes\":{\"below\":[{\"id\":\"2fb2cbad-9dfd-4ec9-97a5-012b8d1d2131\",\"type\":\"LinearAxis\"}],\"left\":[{\"id\":\"3004e660-d525-4f93-89c7-667a02c3b190\",\"type\":\"LinearAxis\"}],\"renderers\":[{\"id\":\"2fb2cbad-9dfd-4ec9-97a5-012b8d1d2131\",\"type\":\"LinearAxis\"},{\"id\":\"9d5877a3-8c25-4f19-a5aa-8c2fc66cfacb\",\"type\":\"Grid\"},{\"id\":\"3004e660-d525-4f93-89c7-667a02c3b190\",\"type\":\"LinearAxis\"},{\"id\":\"b59f8496-bceb-41ca-a3ba-991ccc1babc8\",\"type\":\"Grid\"},{\"id\":\"3658a41f-54d5-44c2-9aa6-4eed9d9b31c8\",\"type\":\"BoxAnnotation\"},{\"id\":\"e5a6342f-4b85-4b41-8f6d-628b9bd41bbf\",\"type\":\"GlyphRenderer\"}],\"title\":{\"id\":\"705b22ad-6a7d-4234-8b47-b55240b5fd43\",\"type\":\"Title\"},\"toolbar\":{\"id\":\"042611e3-c270-4e0a-9188-c4dad517f205\",\"type\":\"Toolbar\"},\"x_range\":{\"id\":\"c66aefb3-b04d-4fac-9c8b-5fff1e0a0b9e\",\"type\":\"Range1d\"},\"x_scale\":{\"id\":\"1cb22975-7a22-49ce-8476-cb7a2e018310\",\"type\":\"LinearScale\"},\"y_range\":{\"id\":\"ebdba9dc-581d-475a-bc43-736db07c766a\",\"type\":\"Range1d\"},\"y_scale\":{\"id\":\"bd59e7c1-88a6-42f8-9ef6-7e6ac3ef67d3\",\"type\":\"LinearScale\"}},\"id\":\"74b1baed-3646-4d29-80dc-23599c418e68\",\"subtype\":\"Figure\",\"type\":\"Plot\"},{\"attributes\":{},\"id\":\"06a23a7f-04d1-41ca-b55c-1e1264d19fa0\",\"type\":\"SaveTool\"},{\"attributes\":{\"plot\":null,\"text\":\"Gr\\u00e1ficos\"},\"id\":\"705b22ad-6a7d-4234-8b47-b55240b5fd43\",\"type\":\"Title\"},{\"attributes\":{},\"id\":\"c218854e-10c9-44f2-a514-0a74fa68a687\",\"type\":\"HelpTool\"},{\"attributes\":{\"axis_label\":\"y\",\"formatter\":{\"id\":\"e049927f-e590-44df-bf8e-dcd1f52b05dd\",\"type\":\"BasicTickFormatter\"},\"plot\":{\"id\":\"74b1baed-3646-4d29-80dc-23599c418e68\",\"subtype\":\"Figure\",\"type\":\"Plot\"},\"ticker\":{\"id\":\"641c8156-4c04-45d1-85c0-37a238fe7cf0\",\"type\":\"BasicTicker\"}},\"id\":\"3004e660-d525-4f93-89c7-667a02c3b190\",\"type\":\"LinearAxis\"},{\"attributes\":{},\"id\":\"1cb22975-7a22-49ce-8476-cb7a2e018310\",\"type\":\"LinearScale\"},{\"attributes\":{\"callback\":null,\"end\":10},\"id\":\"c66aefb3-b04d-4fac-9c8b-5fff1e0a0b9e\",\"type\":\"Range1d\"},{\"attributes\":{\"callback\":null,\"end\":10},\"id\":\"ebdba9dc-581d-475a-bc43-736db07c766a\",\"type\":\"Range1d\"},{\"attributes\":{},\"id\":\"d9448c2b-1e4a-453f-84ab-5fcc8c13fb09\",\"type\":\"BasicTicker\"},{\"attributes\":{\"data_source\":{\"id\":\"39612c3a-1af2-4e13-8c05-17710f0cbf93\",\"type\":\"ColumnDataSource\"},\"glyph\":{\"id\":\"1ecc897a-0018-4b2e-a838-1318c58d6c62\",\"type\":\"Patch\"},\"hover_glyph\":null,\"muted_glyph\":null,\"nonselection_glyph\":{\"id\":\"98cfe611-d4e9-4c6a-a377-c077e0cc94e9\",\"type\":\"Patch\"},\"selection_glyph\":null,\"view\":{\"id\":\"c40abab3-58c3-4317-8b11-0c1b5723bd54\",\"type\":\"CDSView\"}},\"id\":\"e5a6342f-4b85-4b41-8f6d-628b9bd41bbf\",\"type\":\"GlyphRenderer\"},{\"attributes\":{\"active_drag\":\"auto\",\"active_inspect\":\"auto\",\"active_scroll\":\"auto\",\"active_tap\":\"auto\",\"tools\":[{\"id\":\"0a2ce12d-a9e9-4fd3-8ac0-98c44b2e819f\",\"type\":\"PanTool\"},{\"id\":\"c37f820e-7f59-4771-8a94-b8108c7540af\",\"type\":\"WheelZoomTool\"},{\"id\":\"ec890119-1b67-4226-8f0a-f45073dc0613\",\"type\":\"BoxZoomTool\"},{\"id\":\"06a23a7f-04d1-41ca-b55c-1e1264d19fa0\",\"type\":\"SaveTool\"},{\"id\":\"4ad4d96f-ad4a-4d31-8d6e-6a4820a22d70\",\"type\":\"ResetTool\"},{\"id\":\"c218854e-10c9-44f2-a514-0a74fa68a687\",\"type\":\"HelpTool\"}]},\"id\":\"042611e3-c270-4e0a-9188-c4dad517f205\",\"type\":\"Toolbar\"},{\"attributes\":{\"fill_alpha\":{\"value\":0.1},\"fill_color\":{\"value\":\"#1f77b4\"},\"line_alpha\":{\"value\":0.1},\"line_color\":{\"value\":\"#1f77b4\"},\"x\":{\"field\":\"x\"},\"y\":{\"field\":\"y\"}},\"id\":\"98cfe611-d4e9-4c6a-a377-c077e0cc94e9\",\"type\":\"Patch\"},{\"attributes\":{},\"id\":\"bd59e7c1-88a6-42f8-9ef6-7e6ac3ef67d3\",\"type\":\"LinearScale\"},{\"attributes\":{\"axis_label\":\"x\",\"formatter\":{\"id\":\"b9ebb094-e01d-4fd5-9030-b5088f83c61b\",\"type\":\"BasicTickFormatter\"},\"plot\":{\"id\":\"74b1baed-3646-4d29-80dc-23599c418e68\",\"subtype\":\"Figure\",\"type\":\"Plot\"},\"ticker\":{\"id\":\"d9448c2b-1e4a-453f-84ab-5fcc8c13fb09\",\"type\":\"BasicTicker\"}},\"id\":\"2fb2cbad-9dfd-4ec9-97a5-012b8d1d2131\",\"type\":\"LinearAxis\"},{\"attributes\":{\"plot\":{\"id\":\"74b1baed-3646-4d29-80dc-23599c418e68\",\"subtype\":\"Figure\",\"type\":\"Plot\"},\"ticker\":{\"id\":\"d9448c2b-1e4a-453f-84ab-5fcc8c13fb09\",\"type\":\"BasicTicker\"}},\"id\":\"9d5877a3-8c25-4f19-a5aa-8c2fc66cfacb\",\"type\":\"Grid\"},{\"attributes\":{},\"id\":\"641c8156-4c04-45d1-85c0-37a238fe7cf0\",\"type\":\"BasicTicker\"},{\"attributes\":{\"source\":{\"id\":\"39612c3a-1af2-4e13-8c05-17710f0cbf93\",\"type\":\"ColumnDataSource\"}},\"id\":\"c40abab3-58c3-4317-8b11-0c1b5723bd54\",\"type\":\"CDSView\"},{\"attributes\":{\"fill_color\":{\"value\":\"green\"},\"line_color\":{\"value\":\"green\"},\"x\":{\"field\":\"x\"},\"y\":{\"field\":\"y\"}},\"id\":\"1ecc897a-0018-4b2e-a838-1318c58d6c62\",\"type\":\"Patch\"},{\"attributes\":{\"dimension\":1,\"plot\":{\"id\":\"74b1baed-3646-4d29-80dc-23599c418e68\",\"subtype\":\"Figure\",\"type\":\"Plot\"},\"ticker\":{\"id\":\"641c8156-4c04-45d1-85c0-37a238fe7cf0\",\"type\":\"BasicTicker\"}},\"id\":\"b59f8496-bceb-41ca-a3ba-991ccc1babc8\",\"type\":\"Grid\"},{\"attributes\":{},\"id\":\"e049927f-e590-44df-bf8e-dcd1f52b05dd\",\"type\":\"BasicTickFormatter\"}],\"root_ids\":[\"74b1baed-3646-4d29-80dc-23599c418e68\"]},\"title\":\"Bokeh Application\",\"version\":\"0.12.10\"}};\n",
       "    var render_items = [{\"docid\":\"6fe75a18-c9a7-47b5-8761-d44e03cf55cc\",\"elementid\":\"c4b05902-d0c7-4c3f-9153-8b0b934229fd\",\"modelid\":\"74b1baed-3646-4d29-80dc-23599c418e68\"}];\n",
       "\n",
       "    root.Bokeh.embed.embed_items(docs_json, render_items);\n",
       "  }\n",
       "\n",
       "  if (root.Bokeh !== undefined) {\n",
       "    embed_document(root);\n",
       "  } else {\n",
       "    var attempts = 0;\n",
       "    var timer = setInterval(function(root) {\n",
       "      if (root.Bokeh !== undefined) {\n",
       "        embed_document(root);\n",
       "        clearInterval(timer);\n",
       "      }\n",
       "      attempts++;\n",
       "      if (attempts > 100) {\n",
       "        console.log(\"Bokeh: ERROR: Unable to embed document because BokehJS library is missing\")\n",
       "        clearInterval(timer);\n",
       "      }\n",
       "    }, 10, root)\n",
       "  }\n",
       "})(window);"
      ],
      "application/vnd.bokehjs_exec.v0+json": ""
     },
     "metadata": {
      "application/vnd.bokehjs_exec.v0+json": {
       "id": "74b1baed-3646-4d29-80dc-23599c418e68"
      }
     },
     "output_type": "display_data"
    }
   ],
   "source": [
    "p = figure(title=\"Gráficos\", x_axis_label='x', y_axis_label='y', x_range=[0,10], y_range=[0,10])\n",
    "\n",
    "coordenadas_x= [...]\n",
    "coordenadas_y=[...]\n",
    "p.patch(...)\n",
    "\n",
    "show(p)"
   ]
  },
  {
   "cell_type": "markdown",
   "metadata": {},
   "source": [
    "### Ejercicio 2. Dibuja la siguiente figura y calcula su área.\n"
   ]
  },
  {
   "cell_type": "code",
   "execution_count": 3,
   "metadata": {},
   "outputs": [
    {
     "data": {
      "text/html": [
       "\n",
       "<div class=\"bk-root\">\n",
       "    <div class=\"bk-plotdiv\" id=\"7faaca15-dc87-420d-9de0-0a92136ea6f6\"></div>\n",
       "</div>"
      ]
     },
     "metadata": {},
     "output_type": "display_data"
    },
    {
     "data": {
      "application/javascript": [
       "(function(root) {\n",
       "  function embed_document(root) {\n",
       "    var docs_json = {\"95691dcc-62f2-4289-a120-3a3d64f10802\":{\"roots\":{\"references\":[{\"attributes\":{\"axis_label\":\"y\",\"formatter\":{\"id\":\"80d0921e-7136-4d20-8473-fa7b5c070a51\",\"type\":\"BasicTickFormatter\"},\"plot\":{\"id\":\"c2a0f010-8544-4082-b617-8029b89fdc3a\",\"subtype\":\"Figure\",\"type\":\"Plot\"},\"ticker\":{\"id\":\"6c98aa3b-a007-4f8e-80bb-6655dd90920e\",\"type\":\"BasicTicker\"}},\"id\":\"489a1e27-26c7-4471-ae1f-f8398d9047f6\",\"type\":\"LinearAxis\"},{\"attributes\":{},\"id\":\"80d0921e-7136-4d20-8473-fa7b5c070a51\",\"type\":\"BasicTickFormatter\"},{\"attributes\":{},\"id\":\"0c125052-0fbc-439f-aa6e-51eb00af5837\",\"type\":\"ResetTool\"},{\"attributes\":{},\"id\":\"3ed63634-6e69-4c47-ae01-ee93c00197a5\",\"type\":\"HelpTool\"},{\"attributes\":{},\"id\":\"8c70c999-5042-422a-bd1f-fe97128f9d9d\",\"type\":\"WheelZoomTool\"},{\"attributes\":{},\"id\":\"e5f0397a-b8e9-45bd-a2cb-5ff036d13bfe\",\"type\":\"PanTool\"},{\"attributes\":{\"bottom_units\":\"screen\",\"fill_alpha\":{\"value\":0.5},\"fill_color\":{\"value\":\"lightgrey\"},\"left_units\":\"screen\",\"level\":\"overlay\",\"line_alpha\":{\"value\":1.0},\"line_color\":{\"value\":\"black\"},\"line_dash\":[4,4],\"line_width\":{\"value\":2},\"plot\":null,\"render_mode\":\"css\",\"right_units\":\"screen\",\"top_units\":\"screen\"},\"id\":\"0ccded3e-fc22-41f9-abc6-93310aeeadf0\",\"type\":\"BoxAnnotation\"},{\"attributes\":{\"overlay\":{\"id\":\"0ccded3e-fc22-41f9-abc6-93310aeeadf0\",\"type\":\"BoxAnnotation\"}},\"id\":\"2dede805-18f7-42c2-a8af-dce0cc707ec4\",\"type\":\"BoxZoomTool\"},{\"attributes\":{},\"id\":\"e1a1508b-6ab4-48de-aa7f-ea797f40afca\",\"type\":\"SaveTool\"},{\"attributes\":{\"below\":[{\"id\":\"d72b6a75-719a-4ea0-b1a0-792f019761c7\",\"type\":\"LinearAxis\"}],\"left\":[{\"id\":\"489a1e27-26c7-4471-ae1f-f8398d9047f6\",\"type\":\"LinearAxis\"}],\"renderers\":[{\"id\":\"d72b6a75-719a-4ea0-b1a0-792f019761c7\",\"type\":\"LinearAxis\"},{\"id\":\"b267f884-eee8-4d0d-91b0-20e4c97e9e82\",\"type\":\"Grid\"},{\"id\":\"489a1e27-26c7-4471-ae1f-f8398d9047f6\",\"type\":\"LinearAxis\"},{\"id\":\"2ee0c41b-510c-443a-8fa2-49c75c5ff77b\",\"type\":\"Grid\"},{\"id\":\"0ccded3e-fc22-41f9-abc6-93310aeeadf0\",\"type\":\"BoxAnnotation\"},{\"id\":\"89f38669-deb9-4d55-87d1-f6cd983ebfe5\",\"type\":\"GlyphRenderer\"}],\"title\":{\"id\":\"a5ed44bd-4278-4b63-a209-f45ef806fad5\",\"type\":\"Title\"},\"toolbar\":{\"id\":\"201800fc-d90f-4533-86ba-cad8e71601b0\",\"type\":\"Toolbar\"},\"x_range\":{\"id\":\"c9607ea7-38ad-4936-8e80-a2f0340c4bef\",\"type\":\"Range1d\"},\"x_scale\":{\"id\":\"1db1b299-ec2f-4cd9-991e-8f3b4dd69a64\",\"type\":\"LinearScale\"},\"y_range\":{\"id\":\"213c3b87-e891-4344-992a-affd957c34f0\",\"type\":\"Range1d\"},\"y_scale\":{\"id\":\"133b5640-9f60-4e31-9240-814c9d278751\",\"type\":\"LinearScale\"}},\"id\":\"c2a0f010-8544-4082-b617-8029b89fdc3a\",\"subtype\":\"Figure\",\"type\":\"Plot\"},{\"attributes\":{\"plot\":null,\"text\":\"Semic\\u00edrculos\"},\"id\":\"a5ed44bd-4278-4b63-a209-f45ef806fad5\",\"type\":\"Title\"},{\"attributes\":{\"callback\":null,\"end\":4},\"id\":\"c9607ea7-38ad-4936-8e80-a2f0340c4bef\",\"type\":\"Range1d\"},{\"attributes\":{\"plot\":{\"id\":\"c2a0f010-8544-4082-b617-8029b89fdc3a\",\"subtype\":\"Figure\",\"type\":\"Plot\"},\"ticker\":{\"id\":\"a68c1f86-995c-4811-b992-cbe344ecaffb\",\"type\":\"BasicTicker\"}},\"id\":\"b267f884-eee8-4d0d-91b0-20e4c97e9e82\",\"type\":\"Grid\"},{\"attributes\":{\"callback\":null,\"end\":4},\"id\":\"213c3b87-e891-4344-992a-affd957c34f0\",\"type\":\"Range1d\"},{\"attributes\":{\"active_drag\":\"auto\",\"active_inspect\":\"auto\",\"active_scroll\":\"auto\",\"active_tap\":\"auto\",\"tools\":[{\"id\":\"e5f0397a-b8e9-45bd-a2cb-5ff036d13bfe\",\"type\":\"PanTool\"},{\"id\":\"8c70c999-5042-422a-bd1f-fe97128f9d9d\",\"type\":\"WheelZoomTool\"},{\"id\":\"2dede805-18f7-42c2-a8af-dce0cc707ec4\",\"type\":\"BoxZoomTool\"},{\"id\":\"e1a1508b-6ab4-48de-aa7f-ea797f40afca\",\"type\":\"SaveTool\"},{\"id\":\"0c125052-0fbc-439f-aa6e-51eb00af5837\",\"type\":\"ResetTool\"},{\"id\":\"3ed63634-6e69-4c47-ae01-ee93c00197a5\",\"type\":\"HelpTool\"}]},\"id\":\"201800fc-d90f-4533-86ba-cad8e71601b0\",\"type\":\"Toolbar\"},{\"attributes\":{},\"id\":\"1db1b299-ec2f-4cd9-991e-8f3b4dd69a64\",\"type\":\"LinearScale\"},{\"attributes\":{},\"id\":\"133b5640-9f60-4e31-9240-814c9d278751\",\"type\":\"LinearScale\"},{\"attributes\":{},\"id\":\"a68c1f86-995c-4811-b992-cbe344ecaffb\",\"type\":\"BasicTicker\"},{\"attributes\":{\"fill_color\":{\"value\":\"orange\"},\"line_color\":{\"value\":\"orange\"},\"x\":{\"field\":\"x\"},\"y\":{\"field\":\"y\"}},\"id\":\"c540e616-e215-4452-9799-d34438864ec1\",\"type\":\"Patch\"},{\"attributes\":{\"axis_label\":\"x\",\"formatter\":{\"id\":\"97dfcb0c-455d-40b8-a6d0-29f41133a42a\",\"type\":\"BasicTickFormatter\"},\"plot\":{\"id\":\"c2a0f010-8544-4082-b617-8029b89fdc3a\",\"subtype\":\"Figure\",\"type\":\"Plot\"},\"ticker\":{\"id\":\"a68c1f86-995c-4811-b992-cbe344ecaffb\",\"type\":\"BasicTicker\"}},\"id\":\"d72b6a75-719a-4ea0-b1a0-792f019761c7\",\"type\":\"LinearAxis\"},{\"attributes\":{\"fill_alpha\":{\"value\":0.1},\"fill_color\":{\"value\":\"#1f77b4\"},\"line_alpha\":{\"value\":0.1},\"line_color\":{\"value\":\"#1f77b4\"},\"x\":{\"field\":\"x\"},\"y\":{\"field\":\"y\"}},\"id\":\"8c912656-7ffb-4d72-b734-eb04315ed19b\",\"type\":\"Patch\"},{\"attributes\":{},\"id\":\"6c98aa3b-a007-4f8e-80bb-6655dd90920e\",\"type\":\"BasicTicker\"},{\"attributes\":{\"data_source\":{\"id\":\"08be07c1-8e77-4568-b55e-c2fbe623b86e\",\"type\":\"ColumnDataSource\"},\"glyph\":{\"id\":\"c540e616-e215-4452-9799-d34438864ec1\",\"type\":\"Patch\"},\"hover_glyph\":null,\"muted_glyph\":null,\"nonselection_glyph\":{\"id\":\"8c912656-7ffb-4d72-b734-eb04315ed19b\",\"type\":\"Patch\"},\"selection_glyph\":null,\"view\":{\"id\":\"59e2559c-b84e-472a-9ad4-32003307ae0a\",\"type\":\"CDSView\"}},\"id\":\"89f38669-deb9-4d55-87d1-f6cd983ebfe5\",\"type\":\"GlyphRenderer\"},{\"attributes\":{\"source\":{\"id\":\"08be07c1-8e77-4568-b55e-c2fbe623b86e\",\"type\":\"ColumnDataSource\"}},\"id\":\"59e2559c-b84e-472a-9ad4-32003307ae0a\",\"type\":\"CDSView\"},{\"attributes\":{\"dimension\":1,\"plot\":{\"id\":\"c2a0f010-8544-4082-b617-8029b89fdc3a\",\"subtype\":\"Figure\",\"type\":\"Plot\"},\"ticker\":{\"id\":\"6c98aa3b-a007-4f8e-80bb-6655dd90920e\",\"type\":\"BasicTicker\"}},\"id\":\"2ee0c41b-510c-443a-8fa2-49c75c5ff77b\",\"type\":\"Grid\"},{\"attributes\":{\"callback\":null,\"column_names\":[\"x\",\"y\"],\"data\":{\"x\":[0,0,2,4,4,3,2,1],\"y\":[1,2,4,2,1,0,0,1]}},\"id\":\"08be07c1-8e77-4568-b55e-c2fbe623b86e\",\"type\":\"ColumnDataSource\"},{\"attributes\":{},\"id\":\"97dfcb0c-455d-40b8-a6d0-29f41133a42a\",\"type\":\"BasicTickFormatter\"}],\"root_ids\":[\"c2a0f010-8544-4082-b617-8029b89fdc3a\"]},\"title\":\"Bokeh Application\",\"version\":\"0.12.10\"}};\n",
       "    var render_items = [{\"docid\":\"95691dcc-62f2-4289-a120-3a3d64f10802\",\"elementid\":\"7faaca15-dc87-420d-9de0-0a92136ea6f6\",\"modelid\":\"c2a0f010-8544-4082-b617-8029b89fdc3a\"}];\n",
       "\n",
       "    root.Bokeh.embed.embed_items(docs_json, render_items);\n",
       "  }\n",
       "\n",
       "  if (root.Bokeh !== undefined) {\n",
       "    embed_document(root);\n",
       "  } else {\n",
       "    var attempts = 0;\n",
       "    var timer = setInterval(function(root) {\n",
       "      if (root.Bokeh !== undefined) {\n",
       "        embed_document(root);\n",
       "        clearInterval(timer);\n",
       "      }\n",
       "      attempts++;\n",
       "      if (attempts > 100) {\n",
       "        console.log(\"Bokeh: ERROR: Unable to embed document because BokehJS library is missing\")\n",
       "        clearInterval(timer);\n",
       "      }\n",
       "    }, 10, root)\n",
       "  }\n",
       "})(window);"
      ],
      "application/vnd.bokehjs_exec.v0+json": ""
     },
     "metadata": {
      "application/vnd.bokehjs_exec.v0+json": {
       "id": "c2a0f010-8544-4082-b617-8029b89fdc3a"
      }
     },
     "output_type": "display_data"
    }
   ],
   "source": [
    "p = figure(title=\"Semicírculos\", x_axis_label='x', y_axis_label='y', x_range=[0,4], y_range=[0,4])\n",
    "\n",
    "coordenadas_x= [0,0,2,4,4,3,2,1]\n",
    "coordenadas_y=[1,2,4,2,1,0,0,1]\n",
    "p.patch(coordenadas_x, coordenadas_y, color=\"orange\")\n",
    "show(p)\n",
    "\n",
    "#Cálculo del área."
   ]
  },
  {
   "cell_type": "markdown",
   "metadata": {},
   "source": [
    "### Ejercicio 2. Calcular el área de la figura que está formada por dos semicírculos de radio 3 y radio 5.\n",
    "### La posición de las figuras es como aparece en la imagen con colores de fondo rojo y amarillo."
   ]
  },
  {
   "cell_type": "code",
   "execution_count": 4,
   "metadata": {},
   "outputs": [
    {
     "data": {
      "text/html": [
       "\n",
       "<div class=\"bk-root\">\n",
       "    <div class=\"bk-plotdiv\" id=\"0d57543c-eeb4-4a45-9440-81985a7ba1f3\"></div>\n",
       "</div>"
      ]
     },
     "metadata": {},
     "output_type": "display_data"
    },
    {
     "data": {
      "application/javascript": [
       "(function(root) {\n",
       "  function embed_document(root) {\n",
       "    var docs_json = {\"e54f1864-dc1e-4693-a728-e90cf51245d7\":{\"roots\":{\"references\":[{\"attributes\":{\"axis_label\":\"y\",\"formatter\":{\"id\":\"fe14baa7-d5ea-4a4f-9cb0-c3912abcdc94\",\"type\":\"BasicTickFormatter\"},\"plot\":{\"id\":\"c2e35ed7-6c9f-4557-9b6a-555d37043482\",\"subtype\":\"Figure\",\"type\":\"Plot\"},\"ticker\":{\"id\":\"4d4ac8d7-9fa7-451e-9ee4-842bc5187dba\",\"type\":\"BasicTicker\"}},\"id\":\"f39e77c3-5564-4888-8e90-3fb82792bb22\",\"type\":\"LinearAxis\"},{\"attributes\":{},\"id\":\"fdbf4122-8119-4d67-adf2-3a5f8b25acd3\",\"type\":\"LinearScale\"},{\"attributes\":{\"plot\":{\"id\":\"c2e35ed7-6c9f-4557-9b6a-555d37043482\",\"subtype\":\"Figure\",\"type\":\"Plot\"},\"ticker\":{\"id\":\"c5fafb4f-ace5-4100-b24f-49b783ad4bb3\",\"type\":\"BasicTicker\"}},\"id\":\"50fd5bff-243e-4183-b282-fc3ac90a06cf\",\"type\":\"Grid\"},{\"attributes\":{},\"id\":\"575790f6-e93d-4ff5-9217-f6343ad72c3b\",\"type\":\"LinearScale\"},{\"attributes\":{\"axis_label\":\"x\",\"formatter\":{\"id\":\"9b5bfe44-0c96-4f7e-bbe0-8df03a02ccb8\",\"type\":\"BasicTickFormatter\"},\"plot\":{\"id\":\"c2e35ed7-6c9f-4557-9b6a-555d37043482\",\"subtype\":\"Figure\",\"type\":\"Plot\"},\"ticker\":{\"id\":\"c5fafb4f-ace5-4100-b24f-49b783ad4bb3\",\"type\":\"BasicTicker\"}},\"id\":\"a3ce252d-4531-4884-959b-5eceb5962503\",\"type\":\"LinearAxis\"},{\"attributes\":{},\"id\":\"c5fafb4f-ace5-4100-b24f-49b783ad4bb3\",\"type\":\"BasicTicker\"},{\"attributes\":{},\"id\":\"4d4ac8d7-9fa7-451e-9ee4-842bc5187dba\",\"type\":\"BasicTicker\"},{\"attributes\":{\"dimension\":1,\"plot\":{\"id\":\"c2e35ed7-6c9f-4557-9b6a-555d37043482\",\"subtype\":\"Figure\",\"type\":\"Plot\"},\"ticker\":{\"id\":\"4d4ac8d7-9fa7-451e-9ee4-842bc5187dba\",\"type\":\"BasicTicker\"}},\"id\":\"fda4dd33-8396-434b-986f-dcad06ad353e\",\"type\":\"Grid\"},{\"attributes\":{\"end_angle\":{\"units\":\"rad\",\"value\":3.141592653589793},\"fill_alpha\":{\"value\":0.1},\"fill_color\":{\"value\":\"#1f77b4\"},\"line_alpha\":{\"value\":0.1},\"line_color\":{\"value\":\"#1f77b4\"},\"radius\":{\"units\":\"data\",\"value\":3},\"start_angle\":{\"units\":\"rad\",\"value\":0},\"x\":{\"value\":3},\"y\":{\"value\":0}},\"id\":\"d6d84c09-a726-4aa2-be66-80ea1d1d85f6\",\"type\":\"Wedge\"},{\"attributes\":{\"bottom_units\":\"screen\",\"fill_alpha\":{\"value\":0.5},\"fill_color\":{\"value\":\"lightgrey\"},\"left_units\":\"screen\",\"level\":\"overlay\",\"line_alpha\":{\"value\":1.0},\"line_color\":{\"value\":\"black\"},\"line_dash\":[4,4],\"line_width\":{\"value\":2},\"plot\":null,\"render_mode\":\"css\",\"right_units\":\"screen\",\"top_units\":\"screen\"},\"id\":\"183d8e01-a59b-4b6b-bbd5-ea8ae1618614\",\"type\":\"BoxAnnotation\"},{\"attributes\":{},\"id\":\"849fab1e-1b70-4c18-a317-6e9b0f6f1e27\",\"type\":\"PanTool\"},{\"attributes\":{},\"id\":\"22bce0f3-b028-4532-a75d-0e957feb25c9\",\"type\":\"ResetTool\"},{\"attributes\":{},\"id\":\"433518c8-b869-4025-b73c-ff98284927fc\",\"type\":\"WheelZoomTool\"},{\"attributes\":{\"overlay\":{\"id\":\"183d8e01-a59b-4b6b-bbd5-ea8ae1618614\",\"type\":\"BoxAnnotation\"}},\"id\":\"c711c36e-c5f5-45bb-babc-8599f7bf3f0d\",\"type\":\"BoxZoomTool\"},{\"attributes\":{},\"id\":\"f7667a1c-6ee2-4dae-b96b-911f5919d48d\",\"type\":\"SaveTool\"},{\"attributes\":{},\"id\":\"f542723f-294f-4f7c-8440-9cdb1f9b6dbf\",\"type\":\"HelpTool\"},{\"attributes\":{\"end_angle\":{\"units\":\"rad\",\"value\":3.141592653589793},\"fill_color\":{\"value\":\"red\"},\"line_color\":{\"value\":\"red\"},\"radius\":{\"units\":\"data\",\"value\":3},\"start_angle\":{\"units\":\"rad\",\"value\":0},\"x\":{\"value\":3},\"y\":{\"value\":0}},\"id\":\"a501799e-bba7-458c-803a-8ba749e20079\",\"type\":\"Wedge\"},{\"attributes\":{\"source\":{\"id\":\"902e28d2-cef9-4bc0-b44d-d1a5abcec21d\",\"type\":\"ColumnDataSource\"}},\"id\":\"9cc8c06f-c9f1-4777-a220-a125b46bc737\",\"type\":\"CDSView\"},{\"attributes\":{\"data_source\":{\"id\":\"902e28d2-cef9-4bc0-b44d-d1a5abcec21d\",\"type\":\"ColumnDataSource\"},\"glyph\":{\"id\":\"a501799e-bba7-458c-803a-8ba749e20079\",\"type\":\"Wedge\"},\"hover_glyph\":null,\"muted_glyph\":null,\"nonselection_glyph\":{\"id\":\"d6d84c09-a726-4aa2-be66-80ea1d1d85f6\",\"type\":\"Wedge\"},\"selection_glyph\":null,\"view\":{\"id\":\"9cc8c06f-c9f1-4777-a220-a125b46bc737\",\"type\":\"CDSView\"}},\"id\":\"1467ed83-3c67-4f11-80d6-89e50873fb34\",\"type\":\"GlyphRenderer\"},{\"attributes\":{\"source\":{\"id\":\"4466f009-f1a5-4e4e-9783-0316b36f9052\",\"type\":\"ColumnDataSource\"}},\"id\":\"e3c64e9e-4d56-4878-afa9-c78d7447c155\",\"type\":\"CDSView\"},{\"attributes\":{\"data_source\":{\"id\":\"4466f009-f1a5-4e4e-9783-0316b36f9052\",\"type\":\"ColumnDataSource\"},\"glyph\":{\"id\":\"c941881a-2401-4617-9045-446f3d4fab50\",\"type\":\"Wedge\"},\"hover_glyph\":null,\"muted_glyph\":null,\"nonselection_glyph\":{\"id\":\"94dc5756-7901-4cc1-b2df-159f25e5d3d4\",\"type\":\"Wedge\"},\"selection_glyph\":null,\"view\":{\"id\":\"e3c64e9e-4d56-4878-afa9-c78d7447c155\",\"type\":\"CDSView\"}},\"id\":\"e62ab36c-e6c5-4824-9a24-428c4971be6a\",\"type\":\"GlyphRenderer\"},{\"attributes\":{\"end_angle\":{\"units\":\"rad\",\"value\":3.141592653589793},\"fill_color\":{\"value\":\"yellow\"},\"line_color\":{\"value\":\"yellow\"},\"radius\":{\"units\":\"data\",\"value\":5},\"start_angle\":{\"units\":\"rad\",\"value\":0},\"x\":{\"value\":11},\"y\":{\"value\":0}},\"id\":\"c941881a-2401-4617-9045-446f3d4fab50\",\"type\":\"Wedge\"},{\"attributes\":{},\"id\":\"9b5bfe44-0c96-4f7e-bbe0-8df03a02ccb8\",\"type\":\"BasicTickFormatter\"},{\"attributes\":{},\"id\":\"fe14baa7-d5ea-4a4f-9cb0-c3912abcdc94\",\"type\":\"BasicTickFormatter\"},{\"attributes\":{\"end_angle\":{\"units\":\"rad\",\"value\":3.141592653589793},\"fill_alpha\":{\"value\":0.1},\"fill_color\":{\"value\":\"#1f77b4\"},\"line_alpha\":{\"value\":0.1},\"line_color\":{\"value\":\"#1f77b4\"},\"radius\":{\"units\":\"data\",\"value\":5},\"start_angle\":{\"units\":\"rad\",\"value\":0},\"x\":{\"value\":11},\"y\":{\"value\":0}},\"id\":\"94dc5756-7901-4cc1-b2df-159f25e5d3d4\",\"type\":\"Wedge\"},{\"attributes\":{\"callback\":null,\"data\":{}},\"id\":\"902e28d2-cef9-4bc0-b44d-d1a5abcec21d\",\"type\":\"ColumnDataSource\"},{\"attributes\":{\"below\":[{\"id\":\"a3ce252d-4531-4884-959b-5eceb5962503\",\"type\":\"LinearAxis\"}],\"left\":[{\"id\":\"f39e77c3-5564-4888-8e90-3fb82792bb22\",\"type\":\"LinearAxis\"}],\"renderers\":[{\"id\":\"a3ce252d-4531-4884-959b-5eceb5962503\",\"type\":\"LinearAxis\"},{\"id\":\"50fd5bff-243e-4183-b282-fc3ac90a06cf\",\"type\":\"Grid\"},{\"id\":\"f39e77c3-5564-4888-8e90-3fb82792bb22\",\"type\":\"LinearAxis\"},{\"id\":\"fda4dd33-8396-434b-986f-dcad06ad353e\",\"type\":\"Grid\"},{\"id\":\"183d8e01-a59b-4b6b-bbd5-ea8ae1618614\",\"type\":\"BoxAnnotation\"},{\"id\":\"1467ed83-3c67-4f11-80d6-89e50873fb34\",\"type\":\"GlyphRenderer\"},{\"id\":\"e62ab36c-e6c5-4824-9a24-428c4971be6a\",\"type\":\"GlyphRenderer\"}],\"title\":{\"id\":\"74d5eefa-1703-4669-a6f2-999d8e38336e\",\"type\":\"Title\"},\"toolbar\":{\"id\":\"c6bae038-bcc0-4aa9-bbd9-1e6403ca1a17\",\"type\":\"Toolbar\"},\"x_range\":{\"id\":\"5bf1ecd0-a618-403b-90d2-1e844a6fb6c1\",\"type\":\"Range1d\"},\"x_scale\":{\"id\":\"fdbf4122-8119-4d67-adf2-3a5f8b25acd3\",\"type\":\"LinearScale\"},\"y_range\":{\"id\":\"6a6c190c-7b5d-46de-92f5-a363746ce413\",\"type\":\"Range1d\"},\"y_scale\":{\"id\":\"575790f6-e93d-4ff5-9217-f6343ad72c3b\",\"type\":\"LinearScale\"}},\"id\":\"c2e35ed7-6c9f-4557-9b6a-555d37043482\",\"subtype\":\"Figure\",\"type\":\"Plot\"},{\"attributes\":{\"callback\":null,\"data\":{}},\"id\":\"4466f009-f1a5-4e4e-9783-0316b36f9052\",\"type\":\"ColumnDataSource\"},{\"attributes\":{\"plot\":null,\"text\":\"Semic\\u00edrculos\"},\"id\":\"74d5eefa-1703-4669-a6f2-999d8e38336e\",\"type\":\"Title\"},{\"attributes\":{\"callback\":null,\"end\":20},\"id\":\"5bf1ecd0-a618-403b-90d2-1e844a6fb6c1\",\"type\":\"Range1d\"},{\"attributes\":{\"callback\":null,\"end\":20},\"id\":\"6a6c190c-7b5d-46de-92f5-a363746ce413\",\"type\":\"Range1d\"},{\"attributes\":{\"active_drag\":\"auto\",\"active_inspect\":\"auto\",\"active_scroll\":\"auto\",\"active_tap\":\"auto\",\"tools\":[{\"id\":\"849fab1e-1b70-4c18-a317-6e9b0f6f1e27\",\"type\":\"PanTool\"},{\"id\":\"433518c8-b869-4025-b73c-ff98284927fc\",\"type\":\"WheelZoomTool\"},{\"id\":\"c711c36e-c5f5-45bb-babc-8599f7bf3f0d\",\"type\":\"BoxZoomTool\"},{\"id\":\"f7667a1c-6ee2-4dae-b96b-911f5919d48d\",\"type\":\"SaveTool\"},{\"id\":\"22bce0f3-b028-4532-a75d-0e957feb25c9\",\"type\":\"ResetTool\"},{\"id\":\"f542723f-294f-4f7c-8440-9cdb1f9b6dbf\",\"type\":\"HelpTool\"}]},\"id\":\"c6bae038-bcc0-4aa9-bbd9-1e6403ca1a17\",\"type\":\"Toolbar\"}],\"root_ids\":[\"c2e35ed7-6c9f-4557-9b6a-555d37043482\"]},\"title\":\"Bokeh Application\",\"version\":\"0.12.10\"}};\n",
       "    var render_items = [{\"docid\":\"e54f1864-dc1e-4693-a728-e90cf51245d7\",\"elementid\":\"0d57543c-eeb4-4a45-9440-81985a7ba1f3\",\"modelid\":\"c2e35ed7-6c9f-4557-9b6a-555d37043482\"}];\n",
       "\n",
       "    root.Bokeh.embed.embed_items(docs_json, render_items);\n",
       "  }\n",
       "\n",
       "  if (root.Bokeh !== undefined) {\n",
       "    embed_document(root);\n",
       "  } else {\n",
       "    var attempts = 0;\n",
       "    var timer = setInterval(function(root) {\n",
       "      if (root.Bokeh !== undefined) {\n",
       "        embed_document(root);\n",
       "        clearInterval(timer);\n",
       "      }\n",
       "      attempts++;\n",
       "      if (attempts > 100) {\n",
       "        console.log(\"Bokeh: ERROR: Unable to embed document because BokehJS library is missing\")\n",
       "        clearInterval(timer);\n",
       "      }\n",
       "    }, 10, root)\n",
       "  }\n",
       "})(window);"
      ],
      "application/vnd.bokehjs_exec.v0+json": ""
     },
     "metadata": {
      "application/vnd.bokehjs_exec.v0+json": {
       "id": "c2e35ed7-6c9f-4557-9b6a-555d37043482"
      }
     },
     "output_type": "display_data"
    },
    {
     "name": "stdout",
     "output_type": "stream",
     "text": [
      "El área total es 53.40707511102649\n"
     ]
    }
   ],
   "source": [
    "p = figure(title=\"Semicírculos\", x_axis_label='x', y_axis_label='y', x_range=[0,20], y_range=[0,20])\n",
    "radio_rojo = 3\n",
    "radio_amarillo = 5\n",
    "\n",
    "p.wedge(x=3, y=0, radius=3, start_angle=0, end_angle=180*pi/180, color=\"red\")\n",
    "p.wedge(x=11, y=0, radius=5, start_angle=0, end_angle=180*pi/180, color=\"yellow\")\n",
    "show(p)\n",
    "\n",
    "##Cálculo de las áreas\n",
    "area_rojo = pi*radio_rojo**2/2 \n",
    "area_amarillo = pi*radio_amarillo**2/2\n",
    "area_total = area_rojo + area_amarillo\n",
    "print(\"El área total es\", area_total)"
   ]
  },
  {
   "cell_type": "markdown",
   "metadata": {},
   "source": [
    "### Ejercicio para nota. Calcula el área de la figura. El radio del segmento de círculo es de 6, comienza en el águlo 45º y llega hasta el ángulo 315º. La figura es verde oscuro."
   ]
  },
  {
   "cell_type": "code",
   "execution_count": 5,
   "metadata": {},
   "outputs": [
    {
     "data": {
      "text/html": [
       "\n",
       "<div class=\"bk-root\">\n",
       "    <div class=\"bk-plotdiv\" id=\"b6949d33-c090-47a5-8fc2-8ecb8de84756\"></div>\n",
       "</div>"
      ]
     },
     "metadata": {},
     "output_type": "display_data"
    },
    {
     "data": {
      "application/javascript": [
       "(function(root) {\n",
       "  function embed_document(root) {\n",
       "    var docs_json = {\"8261c896-11aa-455d-a2ee-71670be3f3ca\":{\"roots\":{\"references\":[{\"attributes\":{\"end_angle\":{\"units\":\"rad\",\"value\":5.497787143782138},\"fill_alpha\":{\"value\":0.1},\"fill_color\":{\"value\":\"#1f77b4\"},\"line_alpha\":{\"value\":0.1},\"line_color\":{\"value\":\"#1f77b4\"},\"radius\":{\"units\":\"data\",\"value\":6},\"start_angle\":{\"units\":\"rad\",\"value\":0.7853981633974483},\"x\":{\"value\":0},\"y\":{\"value\":0}},\"id\":\"0c62fa13-b955-4196-bdb7-ab0057672c83\",\"type\":\"Wedge\"},{\"attributes\":{\"dimension\":1,\"plot\":{\"id\":\"d9d25000-2398-49c2-9f6e-b938298ea089\",\"subtype\":\"Figure\",\"type\":\"Plot\"},\"ticker\":{\"id\":\"60dcad7d-ad0a-44d5-9211-d57f2e24b0e8\",\"type\":\"BasicTicker\"}},\"id\":\"4a97a6f6-8a49-4937-ba0c-8183b6c4ec9d\",\"type\":\"Grid\"},{\"attributes\":{\"callback\":null,\"data\":{}},\"id\":\"71952995-7115-4644-b1aa-adae2f6fcf6c\",\"type\":\"ColumnDataSource\"},{\"attributes\":{\"axis_label\":\"y\",\"formatter\":{\"id\":\"37c41634-2f48-472d-850b-0002fa315c89\",\"type\":\"BasicTickFormatter\"},\"plot\":{\"id\":\"d9d25000-2398-49c2-9f6e-b938298ea089\",\"subtype\":\"Figure\",\"type\":\"Plot\"},\"ticker\":{\"id\":\"60dcad7d-ad0a-44d5-9211-d57f2e24b0e8\",\"type\":\"BasicTicker\"}},\"id\":\"b764d635-d0ef-49c7-b169-d8179815f839\",\"type\":\"LinearAxis\"},{\"attributes\":{},\"id\":\"37c41634-2f48-472d-850b-0002fa315c89\",\"type\":\"BasicTickFormatter\"},{\"attributes\":{},\"id\":\"ea2ccfa7-db88-46e0-a090-dbc7d6831cc8\",\"type\":\"BasicTicker\"},{\"attributes\":{},\"id\":\"da6a211f-da3d-432d-ae1b-a4c46c02d8c5\",\"type\":\"WheelZoomTool\"},{\"attributes\":{\"bottom_units\":\"screen\",\"fill_alpha\":{\"value\":0.5},\"fill_color\":{\"value\":\"lightgrey\"},\"left_units\":\"screen\",\"level\":\"overlay\",\"line_alpha\":{\"value\":1.0},\"line_color\":{\"value\":\"black\"},\"line_dash\":[4,4],\"line_width\":{\"value\":2},\"plot\":null,\"render_mode\":\"css\",\"right_units\":\"screen\",\"top_units\":\"screen\"},\"id\":\"66af5862-145e-4b42-a0c9-8212b99f671b\",\"type\":\"BoxAnnotation\"},{\"attributes\":{},\"id\":\"794f3497-e387-47e8-a351-fa727c614dc9\",\"type\":\"PanTool\"},{\"attributes\":{},\"id\":\"d48a34c7-3cb6-4ba3-bddd-f2fc2ab198dc\",\"type\":\"ResetTool\"},{\"attributes\":{\"end_angle\":{\"units\":\"rad\",\"value\":5.497787143782138},\"fill_color\":{\"value\":\"darkgreen\"},\"line_color\":{\"value\":\"darkgreen\"},\"radius\":{\"units\":\"data\",\"value\":6},\"start_angle\":{\"units\":\"rad\",\"value\":0.7853981633974483},\"x\":{\"value\":0},\"y\":{\"value\":0}},\"id\":\"8e04be87-9499-4503-b83f-6de202ff2420\",\"type\":\"Wedge\"},{\"attributes\":{\"overlay\":{\"id\":\"66af5862-145e-4b42-a0c9-8212b99f671b\",\"type\":\"BoxAnnotation\"}},\"id\":\"dbc19d5b-4d4d-446e-b4c5-4c8e7fbc3546\",\"type\":\"BoxZoomTool\"},{\"attributes\":{\"below\":[{\"id\":\"223e3793-e6fb-4cd7-9982-99d832044baa\",\"type\":\"LinearAxis\"}],\"left\":[{\"id\":\"b764d635-d0ef-49c7-b169-d8179815f839\",\"type\":\"LinearAxis\"}],\"renderers\":[{\"id\":\"223e3793-e6fb-4cd7-9982-99d832044baa\",\"type\":\"LinearAxis\"},{\"id\":\"daf2944c-4ec6-42c3-a271-1b622358de46\",\"type\":\"Grid\"},{\"id\":\"b764d635-d0ef-49c7-b169-d8179815f839\",\"type\":\"LinearAxis\"},{\"id\":\"4a97a6f6-8a49-4937-ba0c-8183b6c4ec9d\",\"type\":\"Grid\"},{\"id\":\"66af5862-145e-4b42-a0c9-8212b99f671b\",\"type\":\"BoxAnnotation\"},{\"id\":\"173105f1-557b-474b-b0e0-07742e4476d5\",\"type\":\"GlyphRenderer\"}],\"title\":{\"id\":\"b6b76410-c0d0-404b-8f0c-63c3203ef6f1\",\"type\":\"Title\"},\"toolbar\":{\"id\":\"06aafd2b-22ea-487c-af61-c9672c827bab\",\"type\":\"Toolbar\"},\"x_range\":{\"id\":\"378403f9-cb58-4aba-8b21-b802d1a9382e\",\"type\":\"Range1d\"},\"x_scale\":{\"id\":\"2543a5db-ca54-4adc-b4bc-fe164ad50dd1\",\"type\":\"LinearScale\"},\"y_range\":{\"id\":\"053fdc55-032e-47f2-840b-3e7c0aec79ff\",\"type\":\"Range1d\"},\"y_scale\":{\"id\":\"a466cdca-325e-43d5-8202-805cb695b1de\",\"type\":\"LinearScale\"}},\"id\":\"d9d25000-2398-49c2-9f6e-b938298ea089\",\"subtype\":\"Figure\",\"type\":\"Plot\"},{\"attributes\":{},\"id\":\"49dc0f4a-141a-4c6c-9528-e85d93f4a439\",\"type\":\"SaveTool\"},{\"attributes\":{\"source\":{\"id\":\"71952995-7115-4644-b1aa-adae2f6fcf6c\",\"type\":\"ColumnDataSource\"}},\"id\":\"aa02ed79-101a-4222-9fff-7a7fccdc4633\",\"type\":\"CDSView\"},{\"attributes\":{},\"id\":\"602ff560-8a99-4ff7-945d-d930052e3048\",\"type\":\"HelpTool\"},{\"attributes\":{\"plot\":{\"id\":\"d9d25000-2398-49c2-9f6e-b938298ea089\",\"subtype\":\"Figure\",\"type\":\"Plot\"},\"ticker\":{\"id\":\"ea2ccfa7-db88-46e0-a090-dbc7d6831cc8\",\"type\":\"BasicTicker\"}},\"id\":\"daf2944c-4ec6-42c3-a271-1b622358de46\",\"type\":\"Grid\"},{\"attributes\":{\"data_source\":{\"id\":\"71952995-7115-4644-b1aa-adae2f6fcf6c\",\"type\":\"ColumnDataSource\"},\"glyph\":{\"id\":\"8e04be87-9499-4503-b83f-6de202ff2420\",\"type\":\"Wedge\"},\"hover_glyph\":null,\"muted_glyph\":null,\"nonselection_glyph\":{\"id\":\"0c62fa13-b955-4196-bdb7-ab0057672c83\",\"type\":\"Wedge\"},\"selection_glyph\":null,\"view\":{\"id\":\"aa02ed79-101a-4222-9fff-7a7fccdc4633\",\"type\":\"CDSView\"}},\"id\":\"173105f1-557b-474b-b0e0-07742e4476d5\",\"type\":\"GlyphRenderer\"},{\"attributes\":{\"plot\":null,\"text\":\"Semic\\u00edrculos\"},\"id\":\"b6b76410-c0d0-404b-8f0c-63c3203ef6f1\",\"type\":\"Title\"},{\"attributes\":{\"active_drag\":\"auto\",\"active_inspect\":\"auto\",\"active_scroll\":\"auto\",\"active_tap\":\"auto\",\"tools\":[{\"id\":\"794f3497-e387-47e8-a351-fa727c614dc9\",\"type\":\"PanTool\"},{\"id\":\"da6a211f-da3d-432d-ae1b-a4c46c02d8c5\",\"type\":\"WheelZoomTool\"},{\"id\":\"dbc19d5b-4d4d-446e-b4c5-4c8e7fbc3546\",\"type\":\"BoxZoomTool\"},{\"id\":\"49dc0f4a-141a-4c6c-9528-e85d93f4a439\",\"type\":\"SaveTool\"},{\"id\":\"d48a34c7-3cb6-4ba3-bddd-f2fc2ab198dc\",\"type\":\"ResetTool\"},{\"id\":\"602ff560-8a99-4ff7-945d-d930052e3048\",\"type\":\"HelpTool\"}]},\"id\":\"06aafd2b-22ea-487c-af61-c9672c827bab\",\"type\":\"Toolbar\"},{\"attributes\":{},\"id\":\"6a3e9959-6c00-4487-8ee0-791b9f013ad3\",\"type\":\"BasicTickFormatter\"},{\"attributes\":{\"callback\":null,\"end\":10,\"start\":-10},\"id\":\"378403f9-cb58-4aba-8b21-b802d1a9382e\",\"type\":\"Range1d\"},{\"attributes\":{},\"id\":\"2543a5db-ca54-4adc-b4bc-fe164ad50dd1\",\"type\":\"LinearScale\"},{\"attributes\":{\"callback\":null,\"end\":10,\"start\":-10},\"id\":\"053fdc55-032e-47f2-840b-3e7c0aec79ff\",\"type\":\"Range1d\"},{\"attributes\":{},\"id\":\"a466cdca-325e-43d5-8202-805cb695b1de\",\"type\":\"LinearScale\"},{\"attributes\":{},\"id\":\"60dcad7d-ad0a-44d5-9211-d57f2e24b0e8\",\"type\":\"BasicTicker\"},{\"attributes\":{\"axis_label\":\"x\",\"formatter\":{\"id\":\"6a3e9959-6c00-4487-8ee0-791b9f013ad3\",\"type\":\"BasicTickFormatter\"},\"plot\":{\"id\":\"d9d25000-2398-49c2-9f6e-b938298ea089\",\"subtype\":\"Figure\",\"type\":\"Plot\"},\"ticker\":{\"id\":\"ea2ccfa7-db88-46e0-a090-dbc7d6831cc8\",\"type\":\"BasicTicker\"}},\"id\":\"223e3793-e6fb-4cd7-9982-99d832044baa\",\"type\":\"LinearAxis\"}],\"root_ids\":[\"d9d25000-2398-49c2-9f6e-b938298ea089\"]},\"title\":\"Bokeh Application\",\"version\":\"0.12.10\"}};\n",
       "    var render_items = [{\"docid\":\"8261c896-11aa-455d-a2ee-71670be3f3ca\",\"elementid\":\"b6949d33-c090-47a5-8fc2-8ecb8de84756\",\"modelid\":\"d9d25000-2398-49c2-9f6e-b938298ea089\"}];\n",
       "\n",
       "    root.Bokeh.embed.embed_items(docs_json, render_items);\n",
       "  }\n",
       "\n",
       "  if (root.Bokeh !== undefined) {\n",
       "    embed_document(root);\n",
       "  } else {\n",
       "    var attempts = 0;\n",
       "    var timer = setInterval(function(root) {\n",
       "      if (root.Bokeh !== undefined) {\n",
       "        embed_document(root);\n",
       "        clearInterval(timer);\n",
       "      }\n",
       "      attempts++;\n",
       "      if (attempts > 100) {\n",
       "        console.log(\"Bokeh: ERROR: Unable to embed document because BokehJS library is missing\")\n",
       "        clearInterval(timer);\n",
       "      }\n",
       "    }, 10, root)\n",
       "  }\n",
       "})(window);"
      ],
      "application/vnd.bokehjs_exec.v0+json": ""
     },
     "metadata": {
      "application/vnd.bokehjs_exec.v0+json": {
       "id": "d9d25000-2398-49c2-9f6e-b938298ea089"
      }
     },
     "output_type": "display_data"
    }
   ],
   "source": [
    "p = figure(title=\"Semicírculos\", x_axis_label='x', y_axis_label='y', x_range=[-10,10], y_range=[-10,10])\n",
    "radio = 6\n",
    "\n",
    "p.wedge(x=0, y=0, radius=6, start_angle=45*pi/180, end_angle=315*pi/180, color=\"darkgreen\")\n",
    "show(p)"
   ]
  },
  {
   "cell_type": "code",
   "execution_count": null,
   "metadata": {
    "collapsed": true
   },
   "outputs": [],
   "source": []
  }
 ],
 "metadata": {
  "kernelspec": {
   "display_name": "Python 3",
   "language": "python",
   "name": "python3"
  },
  "language_info": {
   "codemirror_mode": {
    "name": "ipython",
    "version": 3
   },
   "file_extension": ".py",
   "mimetype": "text/x-python",
   "name": "python",
   "nbconvert_exporter": "python",
   "pygments_lexer": "ipython3",
   "version": "3.6.3"
  }
 },
 "nbformat": 4,
 "nbformat_minor": 2
}
