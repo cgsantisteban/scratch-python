{
 "cells": [
  {
   "cell_type": "markdown",
   "metadata": {},
   "source": [
    "# Gráficos con la biblioteca bokeh"
   ]
  },
  {
   "cell_type": "markdown",
   "metadata": {},
   "source": [
    "# Carga de la biblioteca bokeh\n",
    "\n",
    "#### Siempre que queramos dibjujar con bokeh lo primero que debemos hacer es poner las siguientes instrucciones:"
   ]
  },
  {
   "cell_type": "code",
   "execution_count": 2,
   "metadata": {},
   "outputs": [
    {
     "data": {
      "text/html": [
       "\n",
       "    <div class=\"bk-root\">\n",
       "        <a href=\"https://bokeh.pydata.org\" target=\"_blank\" class=\"bk-logo bk-logo-small bk-logo-notebook\"></a>\n",
       "        <span id=\"b980624e-a44e-4ad6-a379-fb18bb5beddb\">Loading BokehJS ...</span>\n",
       "    </div>"
      ]
     },
     "metadata": {},
     "output_type": "display_data"
    },
    {
     "data": {
      "application/javascript": [
       "\n",
       "(function(root) {\n",
       "  function now() {\n",
       "    return new Date();\n",
       "  }\n",
       "\n",
       "  var force = true;\n",
       "\n",
       "  if (typeof (root._bokeh_onload_callbacks) === \"undefined\" || force === true) {\n",
       "    root._bokeh_onload_callbacks = [];\n",
       "    root._bokeh_is_loading = undefined;\n",
       "  }\n",
       "\n",
       "  var JS_MIME_TYPE = 'application/javascript';\n",
       "  var HTML_MIME_TYPE = 'text/html';\n",
       "  var EXEC_MIME_TYPE = 'application/vnd.bokehjs_exec.v0+json';\n",
       "  var CLASS_NAME = 'output_bokeh rendered_html';\n",
       "\n",
       "  /**\n",
       "   * Render data to the DOM node\n",
       "   */\n",
       "  function render(props, node) {\n",
       "    var script = document.createElement(\"script\");\n",
       "    node.appendChild(script);\n",
       "  }\n",
       "\n",
       "  /**\n",
       "   * Handle when an output is cleared or removed\n",
       "   */\n",
       "  function handleClearOutput(event, handle) {\n",
       "    var cell = handle.cell;\n",
       "\n",
       "    var id = cell.output_area._bokeh_element_id;\n",
       "    var server_id = cell.output_area._bokeh_server_id;\n",
       "    // Clean up Bokeh references\n",
       "    if (id !== undefined) {\n",
       "      Bokeh.index[id].model.document.clear();\n",
       "      delete Bokeh.index[id];\n",
       "    }\n",
       "\n",
       "    if (server_id !== undefined) {\n",
       "      // Clean up Bokeh references\n",
       "      var cmd = \"from bokeh.io.state import curstate; print(curstate().uuid_to_server['\" + server_id + \"'].get_sessions()[0].document.roots[0]._id)\";\n",
       "      cell.notebook.kernel.execute(cmd, {\n",
       "        iopub: {\n",
       "          output: function(msg) {\n",
       "            var element_id = msg.content.text.trim();\n",
       "            Bokeh.index[element_id].model.document.clear();\n",
       "            delete Bokeh.index[element_id];\n",
       "          }\n",
       "        }\n",
       "      });\n",
       "      // Destroy server and session\n",
       "      var cmd = \"import bokeh.io.notebook as ion; ion.destroy_server('\" + server_id + \"')\";\n",
       "      cell.notebook.kernel.execute(cmd);\n",
       "    }\n",
       "  }\n",
       "\n",
       "  /**\n",
       "   * Handle when a new output is added\n",
       "   */\n",
       "  function handleAddOutput(event, handle) {\n",
       "    var output_area = handle.output_area;\n",
       "    var output = handle.output;\n",
       "\n",
       "    // limit handleAddOutput to display_data with EXEC_MIME_TYPE content only\n",
       "    if ((output.output_type != \"display_data\") || (!output.data.hasOwnProperty(EXEC_MIME_TYPE))) {\n",
       "      return\n",
       "    }\n",
       "\n",
       "    var toinsert = output_area.element.find(`.${CLASS_NAME.split(' ')[0]}`);\n",
       "\n",
       "    if (output.metadata[EXEC_MIME_TYPE][\"id\"] !== undefined) {\n",
       "      toinsert[0].firstChild.textContent = output.data[JS_MIME_TYPE];\n",
       "      // store reference to embed id on output_area\n",
       "      output_area._bokeh_element_id = output.metadata[EXEC_MIME_TYPE][\"id\"];\n",
       "    }\n",
       "    if (output.metadata[EXEC_MIME_TYPE][\"server_id\"] !== undefined) {\n",
       "      var bk_div = document.createElement(\"div\");\n",
       "      bk_div.innerHTML = output.data[HTML_MIME_TYPE];\n",
       "      var script_attrs = bk_div.children[0].attributes;\n",
       "      for (var i = 0; i < script_attrs.length; i++) {\n",
       "        toinsert[0].firstChild.setAttribute(script_attrs[i].name, script_attrs[i].value);\n",
       "      }\n",
       "      // store reference to server id on output_area\n",
       "      output_area._bokeh_server_id = output.metadata[EXEC_MIME_TYPE][\"server_id\"];\n",
       "    }\n",
       "  }\n",
       "\n",
       "  function register_renderer(events, OutputArea) {\n",
       "\n",
       "    function append_mime(data, metadata, element) {\n",
       "      // create a DOM node to render to\n",
       "      var toinsert = this.create_output_subarea(\n",
       "        metadata,\n",
       "        CLASS_NAME,\n",
       "        EXEC_MIME_TYPE\n",
       "      );\n",
       "      this.keyboard_manager.register_events(toinsert);\n",
       "      // Render to node\n",
       "      var props = {data: data, metadata: metadata[EXEC_MIME_TYPE]};\n",
       "      render(props, toinsert[0]);\n",
       "      element.append(toinsert);\n",
       "      return toinsert\n",
       "    }\n",
       "\n",
       "    /* Handle when an output is cleared or removed */\n",
       "    events.on('clear_output.CodeCell', handleClearOutput);\n",
       "    events.on('delete.Cell', handleClearOutput);\n",
       "\n",
       "    /* Handle when a new output is added */\n",
       "    events.on('output_added.OutputArea', handleAddOutput);\n",
       "\n",
       "    /**\n",
       "     * Register the mime type and append_mime function with output_area\n",
       "     */\n",
       "    OutputArea.prototype.register_mime_type(EXEC_MIME_TYPE, append_mime, {\n",
       "      /* Is output safe? */\n",
       "      safe: true,\n",
       "      /* Index of renderer in `output_area.display_order` */\n",
       "      index: 0\n",
       "    });\n",
       "  }\n",
       "\n",
       "  // register the mime type if in Jupyter Notebook environment and previously unregistered\n",
       "  if (root.Jupyter !== undefined) {\n",
       "    var events = require('base/js/events');\n",
       "    var OutputArea = require('notebook/js/outputarea').OutputArea;\n",
       "\n",
       "    if (OutputArea.prototype.mime_types().indexOf(EXEC_MIME_TYPE) == -1) {\n",
       "      register_renderer(events, OutputArea);\n",
       "    }\n",
       "  }\n",
       "\n",
       "  \n",
       "  if (typeof (root._bokeh_timeout) === \"undefined\" || force === true) {\n",
       "    root._bokeh_timeout = Date.now() + 5000;\n",
       "    root._bokeh_failed_load = false;\n",
       "  }\n",
       "\n",
       "  var NB_LOAD_WARNING = {'data': {'text/html':\n",
       "     \"<div style='background-color: #fdd'>\\n\"+\n",
       "     \"<p>\\n\"+\n",
       "     \"BokehJS does not appear to have successfully loaded. If loading BokehJS from CDN, this \\n\"+\n",
       "     \"may be due to a slow or bad network connection. Possible fixes:\\n\"+\n",
       "     \"</p>\\n\"+\n",
       "     \"<ul>\\n\"+\n",
       "     \"<li>re-rerun `output_notebook()` to attempt to load from CDN again, or</li>\\n\"+\n",
       "     \"<li>use INLINE resources instead, as so:</li>\\n\"+\n",
       "     \"</ul>\\n\"+\n",
       "     \"<code>\\n\"+\n",
       "     \"from bokeh.resources import INLINE\\n\"+\n",
       "     \"output_notebook(resources=INLINE)\\n\"+\n",
       "     \"</code>\\n\"+\n",
       "     \"</div>\"}};\n",
       "\n",
       "  function display_loaded() {\n",
       "    var el = document.getElementById(\"b980624e-a44e-4ad6-a379-fb18bb5beddb\");\n",
       "    if (el != null) {\n",
       "      el.textContent = \"BokehJS is loading...\";\n",
       "    }\n",
       "    if (root.Bokeh !== undefined) {\n",
       "      if (el != null) {\n",
       "        el.textContent = \"BokehJS \" + root.Bokeh.version + \" successfully loaded.\";\n",
       "      }\n",
       "    } else if (Date.now() < root._bokeh_timeout) {\n",
       "      setTimeout(display_loaded, 100)\n",
       "    }\n",
       "  }\n",
       "\n",
       "\n",
       "  function run_callbacks() {\n",
       "    try {\n",
       "      root._bokeh_onload_callbacks.forEach(function(callback) { callback() });\n",
       "    }\n",
       "    finally {\n",
       "      delete root._bokeh_onload_callbacks\n",
       "    }\n",
       "    console.info(\"Bokeh: all callbacks have finished\");\n",
       "  }\n",
       "\n",
       "  function load_libs(js_urls, callback) {\n",
       "    root._bokeh_onload_callbacks.push(callback);\n",
       "    if (root._bokeh_is_loading > 0) {\n",
       "      console.log(\"Bokeh: BokehJS is being loaded, scheduling callback at\", now());\n",
       "      return null;\n",
       "    }\n",
       "    if (js_urls == null || js_urls.length === 0) {\n",
       "      run_callbacks();\n",
       "      return null;\n",
       "    }\n",
       "    console.log(\"Bokeh: BokehJS not loaded, scheduling load and callback at\", now());\n",
       "    root._bokeh_is_loading = js_urls.length;\n",
       "    for (var i = 0; i < js_urls.length; i++) {\n",
       "      var url = js_urls[i];\n",
       "      var s = document.createElement('script');\n",
       "      s.src = url;\n",
       "      s.async = false;\n",
       "      s.onreadystatechange = s.onload = function() {\n",
       "        root._bokeh_is_loading--;\n",
       "        if (root._bokeh_is_loading === 0) {\n",
       "          console.log(\"Bokeh: all BokehJS libraries loaded\");\n",
       "          run_callbacks()\n",
       "        }\n",
       "      };\n",
       "      s.onerror = function() {\n",
       "        console.warn(\"failed to load library \" + url);\n",
       "      };\n",
       "      console.log(\"Bokeh: injecting script tag for BokehJS library: \", url);\n",
       "      document.getElementsByTagName(\"head\")[0].appendChild(s);\n",
       "    }\n",
       "  };var element = document.getElementById(\"b980624e-a44e-4ad6-a379-fb18bb5beddb\");\n",
       "  if (element == null) {\n",
       "    console.log(\"Bokeh: ERROR: autoload.js configured with elementid 'b980624e-a44e-4ad6-a379-fb18bb5beddb' but no matching script tag was found. \")\n",
       "    return false;\n",
       "  }\n",
       "\n",
       "  var js_urls = [\"https://cdn.pydata.org/bokeh/release/bokeh-0.12.10.min.js\", \"https://cdn.pydata.org/bokeh/release/bokeh-widgets-0.12.10.min.js\", \"https://cdn.pydata.org/bokeh/release/bokeh-tables-0.12.10.min.js\", \"https://cdn.pydata.org/bokeh/release/bokeh-gl-0.12.10.min.js\"];\n",
       "\n",
       "  var inline_js = [\n",
       "    function(Bokeh) {\n",
       "      Bokeh.set_log_level(\"info\");\n",
       "    },\n",
       "    \n",
       "    function(Bokeh) {\n",
       "      \n",
       "    },\n",
       "    function(Bokeh) {\n",
       "      console.log(\"Bokeh: injecting CSS: https://cdn.pydata.org/bokeh/release/bokeh-0.12.10.min.css\");\n",
       "      Bokeh.embed.inject_css(\"https://cdn.pydata.org/bokeh/release/bokeh-0.12.10.min.css\");\n",
       "      console.log(\"Bokeh: injecting CSS: https://cdn.pydata.org/bokeh/release/bokeh-widgets-0.12.10.min.css\");\n",
       "      Bokeh.embed.inject_css(\"https://cdn.pydata.org/bokeh/release/bokeh-widgets-0.12.10.min.css\");\n",
       "      console.log(\"Bokeh: injecting CSS: https://cdn.pydata.org/bokeh/release/bokeh-tables-0.12.10.min.css\");\n",
       "      Bokeh.embed.inject_css(\"https://cdn.pydata.org/bokeh/release/bokeh-tables-0.12.10.min.css\");\n",
       "    }\n",
       "  ];\n",
       "\n",
       "  function run_inline_js() {\n",
       "    \n",
       "    if ((root.Bokeh !== undefined) || (force === true)) {\n",
       "      for (var i = 0; i < inline_js.length; i++) {\n",
       "        inline_js[i].call(root, root.Bokeh);\n",
       "      }if (force === true) {\n",
       "        display_loaded();\n",
       "      }} else if (Date.now() < root._bokeh_timeout) {\n",
       "      setTimeout(run_inline_js, 100);\n",
       "    } else if (!root._bokeh_failed_load) {\n",
       "      console.log(\"Bokeh: BokehJS failed to load within specified timeout.\");\n",
       "      root._bokeh_failed_load = true;\n",
       "    } else if (force !== true) {\n",
       "      var cell = $(document.getElementById(\"b980624e-a44e-4ad6-a379-fb18bb5beddb\")).parents('.cell').data().cell;\n",
       "      cell.output_area.append_execute_result(NB_LOAD_WARNING)\n",
       "    }\n",
       "\n",
       "  }\n",
       "\n",
       "  if (root._bokeh_is_loading === 0) {\n",
       "    console.log(\"Bokeh: BokehJS loaded, going straight to plotting\");\n",
       "    run_inline_js();\n",
       "  } else {\n",
       "    load_libs(js_urls, function() {\n",
       "      console.log(\"Bokeh: BokehJS plotting callback run at\", now());\n",
       "      run_inline_js();\n",
       "    });\n",
       "  }\n",
       "}(window));"
      ],
      "application/vnd.bokehjs_load.v0+json": "\n(function(root) {\n  function now() {\n    return new Date();\n  }\n\n  var force = true;\n\n  if (typeof (root._bokeh_onload_callbacks) === \"undefined\" || force === true) {\n    root._bokeh_onload_callbacks = [];\n    root._bokeh_is_loading = undefined;\n  }\n\n  \n\n  \n  if (typeof (root._bokeh_timeout) === \"undefined\" || force === true) {\n    root._bokeh_timeout = Date.now() + 5000;\n    root._bokeh_failed_load = false;\n  }\n\n  var NB_LOAD_WARNING = {'data': {'text/html':\n     \"<div style='background-color: #fdd'>\\n\"+\n     \"<p>\\n\"+\n     \"BokehJS does not appear to have successfully loaded. If loading BokehJS from CDN, this \\n\"+\n     \"may be due to a slow or bad network connection. Possible fixes:\\n\"+\n     \"</p>\\n\"+\n     \"<ul>\\n\"+\n     \"<li>re-rerun `output_notebook()` to attempt to load from CDN again, or</li>\\n\"+\n     \"<li>use INLINE resources instead, as so:</li>\\n\"+\n     \"</ul>\\n\"+\n     \"<code>\\n\"+\n     \"from bokeh.resources import INLINE\\n\"+\n     \"output_notebook(resources=INLINE)\\n\"+\n     \"</code>\\n\"+\n     \"</div>\"}};\n\n  function display_loaded() {\n    var el = document.getElementById(\"b980624e-a44e-4ad6-a379-fb18bb5beddb\");\n    if (el != null) {\n      el.textContent = \"BokehJS is loading...\";\n    }\n    if (root.Bokeh !== undefined) {\n      if (el != null) {\n        el.textContent = \"BokehJS \" + root.Bokeh.version + \" successfully loaded.\";\n      }\n    } else if (Date.now() < root._bokeh_timeout) {\n      setTimeout(display_loaded, 100)\n    }\n  }\n\n\n  function run_callbacks() {\n    try {\n      root._bokeh_onload_callbacks.forEach(function(callback) { callback() });\n    }\n    finally {\n      delete root._bokeh_onload_callbacks\n    }\n    console.info(\"Bokeh: all callbacks have finished\");\n  }\n\n  function load_libs(js_urls, callback) {\n    root._bokeh_onload_callbacks.push(callback);\n    if (root._bokeh_is_loading > 0) {\n      console.log(\"Bokeh: BokehJS is being loaded, scheduling callback at\", now());\n      return null;\n    }\n    if (js_urls == null || js_urls.length === 0) {\n      run_callbacks();\n      return null;\n    }\n    console.log(\"Bokeh: BokehJS not loaded, scheduling load and callback at\", now());\n    root._bokeh_is_loading = js_urls.length;\n    for (var i = 0; i < js_urls.length; i++) {\n      var url = js_urls[i];\n      var s = document.createElement('script');\n      s.src = url;\n      s.async = false;\n      s.onreadystatechange = s.onload = function() {\n        root._bokeh_is_loading--;\n        if (root._bokeh_is_loading === 0) {\n          console.log(\"Bokeh: all BokehJS libraries loaded\");\n          run_callbacks()\n        }\n      };\n      s.onerror = function() {\n        console.warn(\"failed to load library \" + url);\n      };\n      console.log(\"Bokeh: injecting script tag for BokehJS library: \", url);\n      document.getElementsByTagName(\"head\")[0].appendChild(s);\n    }\n  };var element = document.getElementById(\"b980624e-a44e-4ad6-a379-fb18bb5beddb\");\n  if (element == null) {\n    console.log(\"Bokeh: ERROR: autoload.js configured with elementid 'b980624e-a44e-4ad6-a379-fb18bb5beddb' but no matching script tag was found. \")\n    return false;\n  }\n\n  var js_urls = [\"https://cdn.pydata.org/bokeh/release/bokeh-0.12.10.min.js\", \"https://cdn.pydata.org/bokeh/release/bokeh-widgets-0.12.10.min.js\", \"https://cdn.pydata.org/bokeh/release/bokeh-tables-0.12.10.min.js\", \"https://cdn.pydata.org/bokeh/release/bokeh-gl-0.12.10.min.js\"];\n\n  var inline_js = [\n    function(Bokeh) {\n      Bokeh.set_log_level(\"info\");\n    },\n    \n    function(Bokeh) {\n      \n    },\n    function(Bokeh) {\n      console.log(\"Bokeh: injecting CSS: https://cdn.pydata.org/bokeh/release/bokeh-0.12.10.min.css\");\n      Bokeh.embed.inject_css(\"https://cdn.pydata.org/bokeh/release/bokeh-0.12.10.min.css\");\n      console.log(\"Bokeh: injecting CSS: https://cdn.pydata.org/bokeh/release/bokeh-widgets-0.12.10.min.css\");\n      Bokeh.embed.inject_css(\"https://cdn.pydata.org/bokeh/release/bokeh-widgets-0.12.10.min.css\");\n      console.log(\"Bokeh: injecting CSS: https://cdn.pydata.org/bokeh/release/bokeh-tables-0.12.10.min.css\");\n      Bokeh.embed.inject_css(\"https://cdn.pydata.org/bokeh/release/bokeh-tables-0.12.10.min.css\");\n    }\n  ];\n\n  function run_inline_js() {\n    \n    if ((root.Bokeh !== undefined) || (force === true)) {\n      for (var i = 0; i < inline_js.length; i++) {\n        inline_js[i].call(root, root.Bokeh);\n      }if (force === true) {\n        display_loaded();\n      }} else if (Date.now() < root._bokeh_timeout) {\n      setTimeout(run_inline_js, 100);\n    } else if (!root._bokeh_failed_load) {\n      console.log(\"Bokeh: BokehJS failed to load within specified timeout.\");\n      root._bokeh_failed_load = true;\n    } else if (force !== true) {\n      var cell = $(document.getElementById(\"b980624e-a44e-4ad6-a379-fb18bb5beddb\")).parents('.cell').data().cell;\n      cell.output_area.append_execute_result(NB_LOAD_WARNING)\n    }\n\n  }\n\n  if (root._bokeh_is_loading === 0) {\n    console.log(\"Bokeh: BokehJS loaded, going straight to plotting\");\n    run_inline_js();\n  } else {\n    load_libs(js_urls, function() {\n      console.log(\"Bokeh: BokehJS plotting callback run at\", now());\n      run_inline_js();\n    });\n  }\n}(window));"
     },
     "metadata": {},
     "output_type": "display_data"
    }
   ],
   "source": [
    "from math import pi\n",
    "from bokeh.plotting import figure, show, output_notebook\n",
    "output_notebook()\n",
    "\n",
    "#Creamos los ejes de coordenadas y le ponemos un título a la imagen\n",
    "#El tamaño de la imagen es de 400x400 pixels\n",
    "#El eje X va de -10 a 10 y el eje Y de -10 a 10.\n",
    "p = figure(plot_width=400, plot_height=400, x_range = [-10,10], y_range= [-10,10], title=\"Gráficos\") "
   ]
  },
  {
   "cell_type": "markdown",
   "metadata": {},
   "source": [
    "## Puntos.\n",
    "#### Dibujamos los puntos (-4,2), (9,1) y (5,7) de color rojo"
   ]
  },
  {
   "cell_type": "code",
   "execution_count": 5,
   "metadata": {},
   "outputs": [
    {
     "data": {
      "text/html": [
       "\n",
       "<div class=\"bk-root\">\n",
       "    <div class=\"bk-plotdiv\" id=\"e39753bb-242a-4f74-9800-d3e1b937f6bb\"></div>\n",
       "</div>"
      ]
     },
     "metadata": {},
     "output_type": "display_data"
    },
    {
     "data": {
      "application/javascript": [
       "(function(root) {\n",
       "  function embed_document(root) {\n",
       "    var docs_json = {\"d0d3e6ae-eebe-4539-869d-682963f95702\":{\"roots\":{\"references\":[{\"attributes\":{\"fill_alpha\":{\"value\":0.1},\"fill_color\":{\"value\":\"#1f77b4\"},\"line_alpha\":{\"value\":0.1},\"line_color\":{\"value\":\"#1f77b4\"},\"x\":{\"field\":\"x\"},\"y\":{\"field\":\"y\"}},\"id\":\"c3b4bd47-2d91-4d31-83db-f9e31e6a7c05\",\"type\":\"Circle\"},{\"attributes\":{\"data_source\":{\"id\":\"7bddf2be-4a03-4377-8ad8-aaa777dc1756\",\"type\":\"ColumnDataSource\"},\"glyph\":{\"id\":\"83bb46b9-e9a9-437b-8b4a-4e07b52583f4\",\"type\":\"Circle\"},\"hover_glyph\":null,\"muted_glyph\":null,\"nonselection_glyph\":{\"id\":\"c3b4bd47-2d91-4d31-83db-f9e31e6a7c05\",\"type\":\"Circle\"},\"selection_glyph\":null,\"view\":{\"id\":\"dd54f1cb-3f7a-45a7-9054-0541ed60384f\",\"type\":\"CDSView\"}},\"id\":\"500ca2b6-237c-45f2-bfc6-2d7b9d61b085\",\"type\":\"GlyphRenderer\"},{\"attributes\":{\"source\":{\"id\":\"7bddf2be-4a03-4377-8ad8-aaa777dc1756\",\"type\":\"ColumnDataSource\"}},\"id\":\"dd54f1cb-3f7a-45a7-9054-0541ed60384f\",\"type\":\"CDSView\"},{\"attributes\":{\"fill_color\":{\"value\":\"red\"},\"line_color\":{\"value\":\"red\"},\"x\":{\"field\":\"x\"},\"y\":{\"field\":\"y\"}},\"id\":\"83bb46b9-e9a9-437b-8b4a-4e07b52583f4\",\"type\":\"Circle\"},{\"attributes\":{\"fill_color\":{\"value\":\"red\"},\"line_color\":{\"value\":\"red\"},\"x\":{\"field\":\"x\"},\"y\":{\"field\":\"y\"}},\"id\":\"d323fcf2-20e1-4e9d-a5d5-fc97ac9086af\",\"type\":\"Circle\"},{\"attributes\":{\"active_drag\":\"auto\",\"active_inspect\":\"auto\",\"active_scroll\":\"auto\",\"active_tap\":\"auto\",\"tools\":[{\"id\":\"b6e72306-a660-436e-9374-97ac5557656b\",\"type\":\"PanTool\"},{\"id\":\"5e2fbac7-1d40-4ea4-a709-d2c632721954\",\"type\":\"WheelZoomTool\"},{\"id\":\"ae596ede-bf87-47d9-830c-b7804193d321\",\"type\":\"BoxZoomTool\"},{\"id\":\"db37848c-d402-410b-8ce0-9869e5afed7c\",\"type\":\"SaveTool\"},{\"id\":\"a86ded31-8403-4430-b247-164a23edcf31\",\"type\":\"ResetTool\"},{\"id\":\"46a3e620-5989-449a-b93d-0f227d316aa0\",\"type\":\"HelpTool\"}]},\"id\":\"e5f67808-a2b1-4a93-80e0-4841245f9fbd\",\"type\":\"Toolbar\"},{\"attributes\":{\"callback\":null,\"column_names\":[\"x\",\"y\"],\"data\":{\"x\":[-4,9,8],\"y\":[2,1,7]}},\"id\":\"ff0c4c3f-0696-46a9-8ab6-87687ab7e411\",\"type\":\"ColumnDataSource\"},{\"attributes\":{\"fill_alpha\":{\"value\":0.1},\"fill_color\":{\"value\":\"#1f77b4\"},\"line_alpha\":{\"value\":0.1},\"line_color\":{\"value\":\"#1f77b4\"},\"x\":{\"field\":\"x\"},\"y\":{\"field\":\"y\"}},\"id\":\"7d582834-3711-457c-9d5c-7564386ae7c0\",\"type\":\"Circle\"},{\"attributes\":{\"source\":{\"id\":\"ff0c4c3f-0696-46a9-8ab6-87687ab7e411\",\"type\":\"ColumnDataSource\"}},\"id\":\"69ac0ca0-e87f-4004-a4c8-0e9d997cc985\",\"type\":\"CDSView\"},{\"attributes\":{\"callback\":null,\"end\":10,\"start\":-10},\"id\":\"1e27ba81-17b9-4c95-9dbb-c6ec3089c896\",\"type\":\"Range1d\"},{\"attributes\":{\"fill_color\":{\"value\":\"red\"},\"line_color\":{\"value\":\"red\"},\"x\":{\"field\":\"x\"},\"y\":{\"field\":\"y\"}},\"id\":\"1be6aba3-4bcb-4654-ad20-305920449016\",\"type\":\"Circle\"},{\"attributes\":{\"below\":[{\"id\":\"7e0481b0-3e43-4d5a-96cb-b4330e43651b\",\"type\":\"LinearAxis\"}],\"left\":[{\"id\":\"ccffd34a-f5a3-4143-90ec-735bfe05adee\",\"type\":\"LinearAxis\"}],\"plot_height\":400,\"plot_width\":400,\"renderers\":[{\"id\":\"7e0481b0-3e43-4d5a-96cb-b4330e43651b\",\"type\":\"LinearAxis\"},{\"id\":\"8b12e63b-bfa4-4c9a-912a-3a41b0d8c898\",\"type\":\"Grid\"},{\"id\":\"ccffd34a-f5a3-4143-90ec-735bfe05adee\",\"type\":\"LinearAxis\"},{\"id\":\"3dd84b87-a307-4cb1-8ca5-99b404ba4328\",\"type\":\"Grid\"},{\"id\":\"6df9c520-bbee-4800-9d80-726701172589\",\"type\":\"BoxAnnotation\"},{\"id\":\"21540fc3-a782-4c2c-bf07-1125cee01d2d\",\"type\":\"GlyphRenderer\"},{\"id\":\"500ca2b6-237c-45f2-bfc6-2d7b9d61b085\",\"type\":\"GlyphRenderer\"},{\"id\":\"4525fa7d-3be0-45c5-999b-05d24b22fbe5\",\"type\":\"GlyphRenderer\"}],\"title\":{\"id\":\"e1123215-00ca-4bd3-96cf-fd90383f2056\",\"type\":\"Title\"},\"toolbar\":{\"id\":\"e5f67808-a2b1-4a93-80e0-4841245f9fbd\",\"type\":\"Toolbar\"},\"x_range\":{\"id\":\"1e27ba81-17b9-4c95-9dbb-c6ec3089c896\",\"type\":\"Range1d\"},\"x_scale\":{\"id\":\"39eea02b-f582-4edc-8131-e3a1031d5c0a\",\"type\":\"LinearScale\"},\"y_range\":{\"id\":\"145b5bf3-e5dd-4fdc-bd92-92a3633ec795\",\"type\":\"Range1d\"},\"y_scale\":{\"id\":\"1328ae47-3b6c-4302-bad4-8d9654f83cca\",\"type\":\"LinearScale\"}},\"id\":\"47177a38-bffc-49f1-86ce-1e1fc94ad496\",\"subtype\":\"Figure\",\"type\":\"Plot\"},{\"attributes\":{\"plot\":null,\"text\":\"Gr\\u00e1ficos\"},\"id\":\"e1123215-00ca-4bd3-96cf-fd90383f2056\",\"type\":\"Title\"},{\"attributes\":{},\"id\":\"39eea02b-f582-4edc-8131-e3a1031d5c0a\",\"type\":\"LinearScale\"},{\"attributes\":{\"data_source\":{\"id\":\"3524f186-4886-4a98-8900-cadf83b0bbac\",\"type\":\"ColumnDataSource\"},\"glyph\":{\"id\":\"d323fcf2-20e1-4e9d-a5d5-fc97ac9086af\",\"type\":\"Circle\"},\"hover_glyph\":null,\"muted_glyph\":null,\"nonselection_glyph\":{\"id\":\"d7e8fa65-c18a-4461-8c32-1049baf91a6e\",\"type\":\"Circle\"},\"selection_glyph\":null,\"view\":{\"id\":\"b118d554-bc4f-43f9-9c21-3d4e08c747b7\",\"type\":\"CDSView\"}},\"id\":\"4525fa7d-3be0-45c5-999b-05d24b22fbe5\",\"type\":\"GlyphRenderer\"},{\"attributes\":{\"callback\":null,\"end\":10,\"start\":-10},\"id\":\"145b5bf3-e5dd-4fdc-bd92-92a3633ec795\",\"type\":\"Range1d\"},{\"attributes\":{},\"id\":\"1328ae47-3b6c-4302-bad4-8d9654f83cca\",\"type\":\"LinearScale\"},{\"attributes\":{\"formatter\":{\"id\":\"255c32ce-fbc5-4779-9aba-07533baaeccf\",\"type\":\"BasicTickFormatter\"},\"plot\":{\"id\":\"47177a38-bffc-49f1-86ce-1e1fc94ad496\",\"subtype\":\"Figure\",\"type\":\"Plot\"},\"ticker\":{\"id\":\"c3f31a8a-023e-4883-8d5b-0e6f58f1597f\",\"type\":\"BasicTicker\"}},\"id\":\"7e0481b0-3e43-4d5a-96cb-b4330e43651b\",\"type\":\"LinearAxis\"},{\"attributes\":{\"source\":{\"id\":\"3524f186-4886-4a98-8900-cadf83b0bbac\",\"type\":\"ColumnDataSource\"}},\"id\":\"b118d554-bc4f-43f9-9c21-3d4e08c747b7\",\"type\":\"CDSView\"},{\"attributes\":{},\"id\":\"c3f31a8a-023e-4883-8d5b-0e6f58f1597f\",\"type\":\"BasicTicker\"},{\"attributes\":{\"callback\":null,\"column_names\":[\"x\",\"y\"],\"data\":{\"x\":[-4,9,0],\"y\":[2,1,7]}},\"id\":\"3524f186-4886-4a98-8900-cadf83b0bbac\",\"type\":\"ColumnDataSource\"},{\"attributes\":{},\"id\":\"3d0b4f84-006d-4462-a0a0-b6818834c020\",\"type\":\"BasicTicker\"},{\"attributes\":{\"callback\":null,\"column_names\":[\"x\",\"y\"],\"data\":{\"x\":[-4,9,0],\"y\":[2,1,7]}},\"id\":\"7bddf2be-4a03-4377-8ad8-aaa777dc1756\",\"type\":\"ColumnDataSource\"},{\"attributes\":{\"formatter\":{\"id\":\"b8fe4f65-afc4-497b-87fe-010529392132\",\"type\":\"BasicTickFormatter\"},\"plot\":{\"id\":\"47177a38-bffc-49f1-86ce-1e1fc94ad496\",\"subtype\":\"Figure\",\"type\":\"Plot\"},\"ticker\":{\"id\":\"3d0b4f84-006d-4462-a0a0-b6818834c020\",\"type\":\"BasicTicker\"}},\"id\":\"ccffd34a-f5a3-4143-90ec-735bfe05adee\",\"type\":\"LinearAxis\"},{\"attributes\":{\"fill_alpha\":{\"value\":0.1},\"fill_color\":{\"value\":\"#1f77b4\"},\"line_alpha\":{\"value\":0.1},\"line_color\":{\"value\":\"#1f77b4\"},\"x\":{\"field\":\"x\"},\"y\":{\"field\":\"y\"}},\"id\":\"d7e8fa65-c18a-4461-8c32-1049baf91a6e\",\"type\":\"Circle\"},{\"attributes\":{\"plot\":{\"id\":\"47177a38-bffc-49f1-86ce-1e1fc94ad496\",\"subtype\":\"Figure\",\"type\":\"Plot\"},\"ticker\":{\"id\":\"c3f31a8a-023e-4883-8d5b-0e6f58f1597f\",\"type\":\"BasicTicker\"}},\"id\":\"8b12e63b-bfa4-4c9a-912a-3a41b0d8c898\",\"type\":\"Grid\"},{\"attributes\":{\"data_source\":{\"id\":\"ff0c4c3f-0696-46a9-8ab6-87687ab7e411\",\"type\":\"ColumnDataSource\"},\"glyph\":{\"id\":\"1be6aba3-4bcb-4654-ad20-305920449016\",\"type\":\"Circle\"},\"hover_glyph\":null,\"muted_glyph\":null,\"nonselection_glyph\":{\"id\":\"7d582834-3711-457c-9d5c-7564386ae7c0\",\"type\":\"Circle\"},\"selection_glyph\":null,\"view\":{\"id\":\"69ac0ca0-e87f-4004-a4c8-0e9d997cc985\",\"type\":\"CDSView\"}},\"id\":\"21540fc3-a782-4c2c-bf07-1125cee01d2d\",\"type\":\"GlyphRenderer\"},{\"attributes\":{\"dimension\":1,\"plot\":{\"id\":\"47177a38-bffc-49f1-86ce-1e1fc94ad496\",\"subtype\":\"Figure\",\"type\":\"Plot\"},\"ticker\":{\"id\":\"3d0b4f84-006d-4462-a0a0-b6818834c020\",\"type\":\"BasicTicker\"}},\"id\":\"3dd84b87-a307-4cb1-8ca5-99b404ba4328\",\"type\":\"Grid\"},{\"attributes\":{\"bottom_units\":\"screen\",\"fill_alpha\":{\"value\":0.5},\"fill_color\":{\"value\":\"lightgrey\"},\"left_units\":\"screen\",\"level\":\"overlay\",\"line_alpha\":{\"value\":1.0},\"line_color\":{\"value\":\"black\"},\"line_dash\":[4,4],\"line_width\":{\"value\":2},\"plot\":null,\"render_mode\":\"css\",\"right_units\":\"screen\",\"top_units\":\"screen\"},\"id\":\"6df9c520-bbee-4800-9d80-726701172589\",\"type\":\"BoxAnnotation\"},{\"attributes\":{},\"id\":\"b6e72306-a660-436e-9374-97ac5557656b\",\"type\":\"PanTool\"},{\"attributes\":{},\"id\":\"b8fe4f65-afc4-497b-87fe-010529392132\",\"type\":\"BasicTickFormatter\"},{\"attributes\":{},\"id\":\"a86ded31-8403-4430-b247-164a23edcf31\",\"type\":\"ResetTool\"},{\"attributes\":{},\"id\":\"5e2fbac7-1d40-4ea4-a709-d2c632721954\",\"type\":\"WheelZoomTool\"},{\"attributes\":{\"overlay\":{\"id\":\"6df9c520-bbee-4800-9d80-726701172589\",\"type\":\"BoxAnnotation\"}},\"id\":\"ae596ede-bf87-47d9-830c-b7804193d321\",\"type\":\"BoxZoomTool\"},{\"attributes\":{},\"id\":\"db37848c-d402-410b-8ce0-9869e5afed7c\",\"type\":\"SaveTool\"},{\"attributes\":{},\"id\":\"46a3e620-5989-449a-b93d-0f227d316aa0\",\"type\":\"HelpTool\"},{\"attributes\":{},\"id\":\"255c32ce-fbc5-4779-9aba-07533baaeccf\",\"type\":\"BasicTickFormatter\"}],\"root_ids\":[\"47177a38-bffc-49f1-86ce-1e1fc94ad496\"]},\"title\":\"Bokeh Application\",\"version\":\"0.12.10\"}};\n",
       "    var render_items = [{\"docid\":\"d0d3e6ae-eebe-4539-869d-682963f95702\",\"elementid\":\"e39753bb-242a-4f74-9800-d3e1b937f6bb\",\"modelid\":\"47177a38-bffc-49f1-86ce-1e1fc94ad496\"}];\n",
       "\n",
       "    root.Bokeh.embed.embed_items(docs_json, render_items);\n",
       "  }\n",
       "\n",
       "  if (root.Bokeh !== undefined) {\n",
       "    embed_document(root);\n",
       "  } else {\n",
       "    var attempts = 0;\n",
       "    var timer = setInterval(function(root) {\n",
       "      if (root.Bokeh !== undefined) {\n",
       "        embed_document(root);\n",
       "        clearInterval(timer);\n",
       "      }\n",
       "      attempts++;\n",
       "      if (attempts > 100) {\n",
       "        console.log(\"Bokeh: ERROR: Unable to embed document because BokehJS library is missing\")\n",
       "        clearInterval(timer);\n",
       "      }\n",
       "    }, 10, root)\n",
       "  }\n",
       "})(window);"
      ],
      "application/vnd.bokehjs_exec.v0+json": ""
     },
     "metadata": {
      "application/vnd.bokehjs_exec.v0+json": {
       "id": "47177a38-bffc-49f1-86ce-1e1fc94ad496"
      }
     },
     "output_type": "display_data"
    }
   ],
   "source": [
    "#Definimos las coordenadas y creamos los puntos\n",
    "coordenadas_x= [-4,9,5]\n",
    "coordenadas_y = [2,1,7]\n",
    "p.scatter(coordenadas_x, coordenadas_y, color=\"red\")\n",
    "\n",
    "#Mostramos el gráfico\n",
    "show(p)"
   ]
  },
  {
   "cell_type": "markdown",
   "metadata": {
    "collapsed": true
   },
   "source": [
    "## Rectángulo.\n",
    "#### Dibujamos un rectángulo centrado en las coordenadas (5,5) de anchura 4, de altura 2 y color de fondo verde"
   ]
  },
  {
   "cell_type": "code",
   "execution_count": 3,
   "metadata": {},
   "outputs": [
    {
     "data": {
      "text/html": [
       "\n",
       "<div class=\"bk-root\">\n",
       "    <div class=\"bk-plotdiv\" id=\"13d674c0-cda3-4d7c-ac0e-6fe747704b0f\"></div>\n",
       "</div>"
      ]
     },
     "metadata": {},
     "output_type": "display_data"
    },
    {
     "data": {
      "application/javascript": [
       "(function(root) {\n",
       "  function embed_document(root) {\n",
       "    var docs_json = {\"dbdb14a3-5206-445f-9229-cf67b0a6e47c\":{\"roots\":{\"references\":[{\"attributes\":{\"dimension\":1,\"plot\":{\"id\":\"daafb60d-adaf-4a59-ad38-0b5aff201e8f\",\"subtype\":\"Figure\",\"type\":\"Plot\"},\"ticker\":{\"id\":\"a19f052e-3d85-4652-a457-4df8f23d129e\",\"type\":\"BasicTicker\"}},\"id\":\"e86ee3fc-c762-47c8-9fd4-aa4ee6efb4d0\",\"type\":\"Grid\"},{\"attributes\":{\"bottom_units\":\"screen\",\"fill_alpha\":{\"value\":0.5},\"fill_color\":{\"value\":\"lightgrey\"},\"left_units\":\"screen\",\"level\":\"overlay\",\"line_alpha\":{\"value\":1.0},\"line_color\":{\"value\":\"black\"},\"line_dash\":[4,4],\"line_width\":{\"value\":2},\"plot\":null,\"render_mode\":\"css\",\"right_units\":\"screen\",\"top_units\":\"screen\"},\"id\":\"dd9cb53c-23dd-4ec9-9b66-0ba1958716ec\",\"type\":\"BoxAnnotation\"},{\"attributes\":{},\"id\":\"511840ca-20d6-4fcd-9c13-9313c3bd43fc\",\"type\":\"PanTool\"},{\"attributes\":{},\"id\":\"94d891c8-770c-40a2-9c9e-b931dc336e68\",\"type\":\"ResetTool\"},{\"attributes\":{\"fill_alpha\":{\"value\":0.1},\"fill_color\":{\"value\":\"#1f77b4\"},\"height\":{\"units\":\"data\",\"value\":2},\"line_alpha\":{\"value\":0.1},\"line_color\":{\"value\":\"#1f77b4\"},\"width\":{\"units\":\"data\",\"value\":4},\"x\":{\"value\":5},\"y\":{\"value\":5}},\"id\":\"fcaf9dc2-89ae-433e-9599-f76855933ef2\",\"type\":\"Rect\"},{\"attributes\":{},\"id\":\"74df1d79-ab69-4dc0-81ab-74273a7bac79\",\"type\":\"WheelZoomTool\"},{\"attributes\":{\"source\":{\"id\":\"3b56c82a-0ea0-43f6-8a53-075482db526d\",\"type\":\"ColumnDataSource\"}},\"id\":\"15adcd34-5fbe-46ea-8ab1-c201f653e4a0\",\"type\":\"CDSView\"},{\"attributes\":{\"overlay\":{\"id\":\"dd9cb53c-23dd-4ec9-9b66-0ba1958716ec\",\"type\":\"BoxAnnotation\"}},\"id\":\"d0454843-af0c-4f22-a2ab-eba00132e61b\",\"type\":\"BoxZoomTool\"},{\"attributes\":{},\"id\":\"266e4680-0b2a-4cf5-a5ad-b9f6cfcea0cf\",\"type\":\"SaveTool\"},{\"attributes\":{\"data_source\":{\"id\":\"3b56c82a-0ea0-43f6-8a53-075482db526d\",\"type\":\"ColumnDataSource\"},\"glyph\":{\"id\":\"602c2bb6-a649-4883-a4e3-ed0a63251513\",\"type\":\"Rect\"},\"hover_glyph\":null,\"muted_glyph\":null,\"nonselection_glyph\":{\"id\":\"fcaf9dc2-89ae-433e-9599-f76855933ef2\",\"type\":\"Rect\"},\"selection_glyph\":null,\"view\":{\"id\":\"15adcd34-5fbe-46ea-8ab1-c201f653e4a0\",\"type\":\"CDSView\"}},\"id\":\"70023e9f-7087-4067-babe-cf651051a08f\",\"type\":\"GlyphRenderer\"},{\"attributes\":{},\"id\":\"4f7699cd-a166-4e71-a5c2-d847bc2c14e1\",\"type\":\"HelpTool\"},{\"attributes\":{},\"id\":\"3edd5b67-02f6-4363-9f1c-bc84d830a33a\",\"type\":\"BasicTickFormatter\"},{\"attributes\":{\"fill_alpha\":{\"value\":0.1},\"fill_color\":{\"value\":\"#1f77b4\"},\"line_alpha\":{\"value\":0.1},\"line_color\":{\"value\":\"#1f77b4\"},\"x\":{\"field\":\"x\"},\"y\":{\"field\":\"y\"}},\"id\":\"b61fbec9-ac1e-499b-af3a-70ff7bb46167\",\"type\":\"Circle\"},{\"attributes\":{\"source\":{\"id\":\"ae22e841-be5e-41f6-8bb8-f25b55757460\",\"type\":\"ColumnDataSource\"}},\"id\":\"fbebc28d-2133-49e2-ba0a-f8805f74d066\",\"type\":\"CDSView\"},{\"attributes\":{\"fill_color\":{\"value\":\"green\"},\"height\":{\"units\":\"data\",\"value\":2},\"line_color\":{\"value\":\"green\"},\"width\":{\"units\":\"data\",\"value\":4},\"x\":{\"value\":5},\"y\":{\"value\":5}},\"id\":\"602c2bb6-a649-4883-a4e3-ed0a63251513\",\"type\":\"Rect\"},{\"attributes\":{\"fill_color\":{\"value\":\"red\"},\"line_color\":{\"value\":\"red\"},\"x\":{\"field\":\"x\"},\"y\":{\"field\":\"y\"}},\"id\":\"a368dcba-10d2-4d33-8353-1a5a5bff9651\",\"type\":\"Circle\"},{\"attributes\":{\"active_drag\":\"auto\",\"active_inspect\":\"auto\",\"active_scroll\":\"auto\",\"active_tap\":\"auto\",\"tools\":[{\"id\":\"511840ca-20d6-4fcd-9c13-9313c3bd43fc\",\"type\":\"PanTool\"},{\"id\":\"74df1d79-ab69-4dc0-81ab-74273a7bac79\",\"type\":\"WheelZoomTool\"},{\"id\":\"d0454843-af0c-4f22-a2ab-eba00132e61b\",\"type\":\"BoxZoomTool\"},{\"id\":\"266e4680-0b2a-4cf5-a5ad-b9f6cfcea0cf\",\"type\":\"SaveTool\"},{\"id\":\"94d891c8-770c-40a2-9c9e-b931dc336e68\",\"type\":\"ResetTool\"},{\"id\":\"4f7699cd-a166-4e71-a5c2-d847bc2c14e1\",\"type\":\"HelpTool\"}]},\"id\":\"f4faa512-b315-476c-8122-b1c7e121e440\",\"type\":\"Toolbar\"},{\"attributes\":{\"data_source\":{\"id\":\"ae22e841-be5e-41f6-8bb8-f25b55757460\",\"type\":\"ColumnDataSource\"},\"glyph\":{\"id\":\"a368dcba-10d2-4d33-8353-1a5a5bff9651\",\"type\":\"Circle\"},\"hover_glyph\":null,\"muted_glyph\":null,\"nonselection_glyph\":{\"id\":\"b61fbec9-ac1e-499b-af3a-70ff7bb46167\",\"type\":\"Circle\"},\"selection_glyph\":null,\"view\":{\"id\":\"fbebc28d-2133-49e2-ba0a-f8805f74d066\",\"type\":\"CDSView\"}},\"id\":\"a93807cb-f09a-40a2-af0b-b7d42c764a4f\",\"type\":\"GlyphRenderer\"},{\"attributes\":{\"callback\":null,\"column_names\":[\"x\",\"y\"],\"data\":{\"x\":[-4,9,5],\"y\":[2,1,7]}},\"id\":\"ae22e841-be5e-41f6-8bb8-f25b55757460\",\"type\":\"ColumnDataSource\"},{\"attributes\":{\"callback\":null,\"end\":10,\"start\":-10},\"id\":\"19aab6fd-cda5-4a68-89a1-cd8a0aad8579\",\"type\":\"Range1d\"},{\"attributes\":{\"below\":[{\"id\":\"aafb2099-c6db-4208-959e-ccc14271a8b1\",\"type\":\"LinearAxis\"}],\"left\":[{\"id\":\"ed10a26a-3a72-46e3-bf52-965221f48229\",\"type\":\"LinearAxis\"}],\"plot_height\":400,\"plot_width\":400,\"renderers\":[{\"id\":\"aafb2099-c6db-4208-959e-ccc14271a8b1\",\"type\":\"LinearAxis\"},{\"id\":\"b00f2f4b-3da8-4524-8e49-877d992eb54d\",\"type\":\"Grid\"},{\"id\":\"ed10a26a-3a72-46e3-bf52-965221f48229\",\"type\":\"LinearAxis\"},{\"id\":\"e86ee3fc-c762-47c8-9fd4-aa4ee6efb4d0\",\"type\":\"Grid\"},{\"id\":\"dd9cb53c-23dd-4ec9-9b66-0ba1958716ec\",\"type\":\"BoxAnnotation\"},{\"id\":\"a93807cb-f09a-40a2-af0b-b7d42c764a4f\",\"type\":\"GlyphRenderer\"},{\"id\":\"70023e9f-7087-4067-babe-cf651051a08f\",\"type\":\"GlyphRenderer\"}],\"title\":{\"id\":\"4c40a45b-7133-46fc-94f9-f8ca86929c97\",\"type\":\"Title\"},\"toolbar\":{\"id\":\"f4faa512-b315-476c-8122-b1c7e121e440\",\"type\":\"Toolbar\"},\"x_range\":{\"id\":\"19aab6fd-cda5-4a68-89a1-cd8a0aad8579\",\"type\":\"Range1d\"},\"x_scale\":{\"id\":\"a7c91949-69fa-4ed3-9c67-15a6ad8b2e3a\",\"type\":\"LinearScale\"},\"y_range\":{\"id\":\"fe71a759-863d-4fd3-a01d-b9f97347b4d0\",\"type\":\"Range1d\"},\"y_scale\":{\"id\":\"08d9ce78-671d-4705-b4b8-4fc60e32594b\",\"type\":\"LinearScale\"}},\"id\":\"daafb60d-adaf-4a59-ad38-0b5aff201e8f\",\"subtype\":\"Figure\",\"type\":\"Plot\"},{\"attributes\":{\"plot\":null,\"text\":\"Gr\\u00e1ficos\"},\"id\":\"4c40a45b-7133-46fc-94f9-f8ca86929c97\",\"type\":\"Title\"},{\"attributes\":{},\"id\":\"a7c91949-69fa-4ed3-9c67-15a6ad8b2e3a\",\"type\":\"LinearScale\"},{\"attributes\":{\"callback\":null,\"end\":10,\"start\":-10},\"id\":\"fe71a759-863d-4fd3-a01d-b9f97347b4d0\",\"type\":\"Range1d\"},{\"attributes\":{},\"id\":\"08d9ce78-671d-4705-b4b8-4fc60e32594b\",\"type\":\"LinearScale\"},{\"attributes\":{\"formatter\":{\"id\":\"3edd5b67-02f6-4363-9f1c-bc84d830a33a\",\"type\":\"BasicTickFormatter\"},\"plot\":{\"id\":\"daafb60d-adaf-4a59-ad38-0b5aff201e8f\",\"subtype\":\"Figure\",\"type\":\"Plot\"},\"ticker\":{\"id\":\"f899956c-7bc6-42c8-998e-55a79843956b\",\"type\":\"BasicTicker\"}},\"id\":\"aafb2099-c6db-4208-959e-ccc14271a8b1\",\"type\":\"LinearAxis\"},{\"attributes\":{},\"id\":\"f899956c-7bc6-42c8-998e-55a79843956b\",\"type\":\"BasicTicker\"},{\"attributes\":{},\"id\":\"a19f052e-3d85-4652-a457-4df8f23d129e\",\"type\":\"BasicTicker\"},{\"attributes\":{\"formatter\":{\"id\":\"55c08929-cf43-4c98-99d5-716e8d5b73f0\",\"type\":\"BasicTickFormatter\"},\"plot\":{\"id\":\"daafb60d-adaf-4a59-ad38-0b5aff201e8f\",\"subtype\":\"Figure\",\"type\":\"Plot\"},\"ticker\":{\"id\":\"a19f052e-3d85-4652-a457-4df8f23d129e\",\"type\":\"BasicTicker\"}},\"id\":\"ed10a26a-3a72-46e3-bf52-965221f48229\",\"type\":\"LinearAxis\"},{\"attributes\":{\"plot\":{\"id\":\"daafb60d-adaf-4a59-ad38-0b5aff201e8f\",\"subtype\":\"Figure\",\"type\":\"Plot\"},\"ticker\":{\"id\":\"f899956c-7bc6-42c8-998e-55a79843956b\",\"type\":\"BasicTicker\"}},\"id\":\"b00f2f4b-3da8-4524-8e49-877d992eb54d\",\"type\":\"Grid\"},{\"attributes\":{},\"id\":\"55c08929-cf43-4c98-99d5-716e8d5b73f0\",\"type\":\"BasicTickFormatter\"},{\"attributes\":{\"callback\":null,\"data\":{}},\"id\":\"3b56c82a-0ea0-43f6-8a53-075482db526d\",\"type\":\"ColumnDataSource\"}],\"root_ids\":[\"daafb60d-adaf-4a59-ad38-0b5aff201e8f\"]},\"title\":\"Bokeh Application\",\"version\":\"0.12.10\"}};\n",
       "    var render_items = [{\"docid\":\"dbdb14a3-5206-445f-9229-cf67b0a6e47c\",\"elementid\":\"13d674c0-cda3-4d7c-ac0e-6fe747704b0f\",\"modelid\":\"daafb60d-adaf-4a59-ad38-0b5aff201e8f\"}];\n",
       "\n",
       "    root.Bokeh.embed.embed_items(docs_json, render_items);\n",
       "  }\n",
       "\n",
       "  if (root.Bokeh !== undefined) {\n",
       "    embed_document(root);\n",
       "  } else {\n",
       "    var attempts = 0;\n",
       "    var timer = setInterval(function(root) {\n",
       "      if (root.Bokeh !== undefined) {\n",
       "        embed_document(root);\n",
       "        clearInterval(timer);\n",
       "      }\n",
       "      attempts++;\n",
       "      if (attempts > 100) {\n",
       "        console.log(\"Bokeh: ERROR: Unable to embed document because BokehJS library is missing\")\n",
       "        clearInterval(timer);\n",
       "      }\n",
       "    }, 10, root)\n",
       "  }\n",
       "})(window);"
      ],
      "application/vnd.bokehjs_exec.v0+json": ""
     },
     "metadata": {
      "application/vnd.bokehjs_exec.v0+json": {
       "id": "daafb60d-adaf-4a59-ad38-0b5aff201e8f"
      }
     },
     "output_type": "display_data"
    }
   ],
   "source": [
    "#Creamos el rectángulo\n",
    "p.rect(x=5, y=5, width=4, height=2, color=\"green\")\n",
    "\n",
    "#Mostramos el gráfico\n",
    "show(p)"
   ]
  },
  {
   "cell_type": "markdown",
   "metadata": {},
   "source": [
    "## Circunferencia.\n",
    "#### Dibujamos una circunferencia de radio 2 centrada en las coordenadas (-5,5) y de color de línea rojo oscuro"
   ]
  },
  {
   "cell_type": "code",
   "execution_count": 4,
   "metadata": {},
   "outputs": [
    {
     "data": {
      "text/html": [
       "\n",
       "<div class=\"bk-root\">\n",
       "    <div class=\"bk-plotdiv\" id=\"a3fcc476-81f3-4e2f-a6f7-657e3d79b73b\"></div>\n",
       "</div>"
      ]
     },
     "metadata": {},
     "output_type": "display_data"
    },
    {
     "data": {
      "application/javascript": [
       "(function(root) {\n",
       "  function embed_document(root) {\n",
       "    var docs_json = {\"a33e0fe5-a9a3-443b-b70a-f74a990f7f5a\":{\"roots\":{\"references\":[{\"attributes\":{\"dimension\":1,\"plot\":{\"id\":\"daafb60d-adaf-4a59-ad38-0b5aff201e8f\",\"subtype\":\"Figure\",\"type\":\"Plot\"},\"ticker\":{\"id\":\"a19f052e-3d85-4652-a457-4df8f23d129e\",\"type\":\"BasicTicker\"}},\"id\":\"e86ee3fc-c762-47c8-9fd4-aa4ee6efb4d0\",\"type\":\"Grid\"},{\"attributes\":{\"bottom_units\":\"screen\",\"fill_alpha\":{\"value\":0.5},\"fill_color\":{\"value\":\"lightgrey\"},\"left_units\":\"screen\",\"level\":\"overlay\",\"line_alpha\":{\"value\":1.0},\"line_color\":{\"value\":\"black\"},\"line_dash\":[4,4],\"line_width\":{\"value\":2},\"plot\":null,\"render_mode\":\"css\",\"right_units\":\"screen\",\"top_units\":\"screen\"},\"id\":\"dd9cb53c-23dd-4ec9-9b66-0ba1958716ec\",\"type\":\"BoxAnnotation\"},{\"attributes\":{},\"id\":\"511840ca-20d6-4fcd-9c13-9313c3bd43fc\",\"type\":\"PanTool\"},{\"attributes\":{},\"id\":\"94d891c8-770c-40a2-9c9e-b931dc336e68\",\"type\":\"ResetTool\"},{\"attributes\":{\"fill_alpha\":{\"value\":0.1},\"fill_color\":{\"value\":\"#1f77b4\"},\"height\":{\"units\":\"data\",\"value\":2},\"line_alpha\":{\"value\":0.1},\"line_color\":{\"value\":\"#1f77b4\"},\"width\":{\"units\":\"data\",\"value\":4},\"x\":{\"value\":5},\"y\":{\"value\":5}},\"id\":\"fcaf9dc2-89ae-433e-9599-f76855933ef2\",\"type\":\"Rect\"},{\"attributes\":{},\"id\":\"74df1d79-ab69-4dc0-81ab-74273a7bac79\",\"type\":\"WheelZoomTool\"},{\"attributes\":{\"source\":{\"id\":\"3b56c82a-0ea0-43f6-8a53-075482db526d\",\"type\":\"ColumnDataSource\"}},\"id\":\"15adcd34-5fbe-46ea-8ab1-c201f653e4a0\",\"type\":\"CDSView\"},{\"attributes\":{\"callback\":null,\"data\":{}},\"id\":\"3b56c82a-0ea0-43f6-8a53-075482db526d\",\"type\":\"ColumnDataSource\"},{\"attributes\":{\"overlay\":{\"id\":\"dd9cb53c-23dd-4ec9-9b66-0ba1958716ec\",\"type\":\"BoxAnnotation\"}},\"id\":\"d0454843-af0c-4f22-a2ab-eba00132e61b\",\"type\":\"BoxZoomTool\"},{\"attributes\":{},\"id\":\"266e4680-0b2a-4cf5-a5ad-b9f6cfcea0cf\",\"type\":\"SaveTool\"},{\"attributes\":{\"callback\":null,\"data\":{}},\"id\":\"58e7688b-2971-41f1-8f1c-40288e555826\",\"type\":\"ColumnDataSource\"},{\"attributes\":{\"data_source\":{\"id\":\"3b56c82a-0ea0-43f6-8a53-075482db526d\",\"type\":\"ColumnDataSource\"},\"glyph\":{\"id\":\"602c2bb6-a649-4883-a4e3-ed0a63251513\",\"type\":\"Rect\"},\"hover_glyph\":null,\"muted_glyph\":null,\"nonselection_glyph\":{\"id\":\"fcaf9dc2-89ae-433e-9599-f76855933ef2\",\"type\":\"Rect\"},\"selection_glyph\":null,\"view\":{\"id\":\"15adcd34-5fbe-46ea-8ab1-c201f653e4a0\",\"type\":\"CDSView\"}},\"id\":\"70023e9f-7087-4067-babe-cf651051a08f\",\"type\":\"GlyphRenderer\"},{\"attributes\":{},\"id\":\"4f7699cd-a166-4e71-a5c2-d847bc2c14e1\",\"type\":\"HelpTool\"},{\"attributes\":{\"fill_alpha\":{\"value\":0.1},\"fill_color\":{\"value\":\"#1f77b4\"},\"line_alpha\":{\"value\":0.1},\"line_color\":{\"value\":\"#1f77b4\"},\"x\":{\"field\":\"x\"},\"y\":{\"field\":\"y\"}},\"id\":\"b61fbec9-ac1e-499b-af3a-70ff7bb46167\",\"type\":\"Circle\"},{\"attributes\":{},\"id\":\"55c08929-cf43-4c98-99d5-716e8d5b73f0\",\"type\":\"BasicTickFormatter\"},{\"attributes\":{\"source\":{\"id\":\"ae22e841-be5e-41f6-8bb8-f25b55757460\",\"type\":\"ColumnDataSource\"}},\"id\":\"fbebc28d-2133-49e2-ba0a-f8805f74d066\",\"type\":\"CDSView\"},{\"attributes\":{\"fill_color\":{\"value\":\"green\"},\"height\":{\"units\":\"data\",\"value\":2},\"line_color\":{\"value\":\"green\"},\"width\":{\"units\":\"data\",\"value\":4},\"x\":{\"value\":5},\"y\":{\"value\":5}},\"id\":\"602c2bb6-a649-4883-a4e3-ed0a63251513\",\"type\":\"Rect\"},{\"attributes\":{\"fill_color\":{\"value\":\"red\"},\"line_color\":{\"value\":\"red\"},\"x\":{\"field\":\"x\"},\"y\":{\"field\":\"y\"}},\"id\":\"a368dcba-10d2-4d33-8353-1a5a5bff9651\",\"type\":\"Circle\"},{\"attributes\":{\"active_drag\":\"auto\",\"active_inspect\":\"auto\",\"active_scroll\":\"auto\",\"active_tap\":\"auto\",\"tools\":[{\"id\":\"511840ca-20d6-4fcd-9c13-9313c3bd43fc\",\"type\":\"PanTool\"},{\"id\":\"74df1d79-ab69-4dc0-81ab-74273a7bac79\",\"type\":\"WheelZoomTool\"},{\"id\":\"d0454843-af0c-4f22-a2ab-eba00132e61b\",\"type\":\"BoxZoomTool\"},{\"id\":\"266e4680-0b2a-4cf5-a5ad-b9f6cfcea0cf\",\"type\":\"SaveTool\"},{\"id\":\"94d891c8-770c-40a2-9c9e-b931dc336e68\",\"type\":\"ResetTool\"},{\"id\":\"4f7699cd-a166-4e71-a5c2-d847bc2c14e1\",\"type\":\"HelpTool\"}]},\"id\":\"f4faa512-b315-476c-8122-b1c7e121e440\",\"type\":\"Toolbar\"},{\"attributes\":{\"data_source\":{\"id\":\"ae22e841-be5e-41f6-8bb8-f25b55757460\",\"type\":\"ColumnDataSource\"},\"glyph\":{\"id\":\"a368dcba-10d2-4d33-8353-1a5a5bff9651\",\"type\":\"Circle\"},\"hover_glyph\":null,\"muted_glyph\":null,\"nonselection_glyph\":{\"id\":\"b61fbec9-ac1e-499b-af3a-70ff7bb46167\",\"type\":\"Circle\"},\"selection_glyph\":null,\"view\":{\"id\":\"fbebc28d-2133-49e2-ba0a-f8805f74d066\",\"type\":\"CDSView\"}},\"id\":\"a93807cb-f09a-40a2-af0b-b7d42c764a4f\",\"type\":\"GlyphRenderer\"},{\"attributes\":{\"callback\":null,\"column_names\":[\"x\",\"y\"],\"data\":{\"x\":[-4,9,5],\"y\":[2,1,7]}},\"id\":\"ae22e841-be5e-41f6-8bb8-f25b55757460\",\"type\":\"ColumnDataSource\"},{\"attributes\":{\"fill_alpha\":{\"value\":0.1},\"fill_color\":{\"value\":\"#1f77b4\"},\"line_alpha\":{\"value\":0.1},\"line_color\":{\"value\":\"#1f77b4\"},\"radius\":{\"units\":\"data\",\"value\":2},\"x\":{\"value\":-5},\"y\":{\"value\":5}},\"id\":\"1989de98-cf75-4707-9627-09808ffae238\",\"type\":\"Circle\"},{\"attributes\":{\"fill_color\":{\"value\":null},\"line_color\":{\"value\":\"darkred\"},\"radius\":{\"units\":\"data\",\"value\":2},\"x\":{\"value\":-5},\"y\":{\"value\":5}},\"id\":\"3dc6f829-9eab-4ae8-b78a-cf8a628b6439\",\"type\":\"Circle\"},{\"attributes\":{\"callback\":null,\"end\":10,\"start\":-10},\"id\":\"19aab6fd-cda5-4a68-89a1-cd8a0aad8579\",\"type\":\"Range1d\"},{\"attributes\":{\"source\":{\"id\":\"58e7688b-2971-41f1-8f1c-40288e555826\",\"type\":\"ColumnDataSource\"}},\"id\":\"7e5b868b-e636-4c79-877c-423bcf3689e7\",\"type\":\"CDSView\"},{\"attributes\":{\"below\":[{\"id\":\"aafb2099-c6db-4208-959e-ccc14271a8b1\",\"type\":\"LinearAxis\"}],\"left\":[{\"id\":\"ed10a26a-3a72-46e3-bf52-965221f48229\",\"type\":\"LinearAxis\"}],\"plot_height\":400,\"plot_width\":400,\"renderers\":[{\"id\":\"aafb2099-c6db-4208-959e-ccc14271a8b1\",\"type\":\"LinearAxis\"},{\"id\":\"b00f2f4b-3da8-4524-8e49-877d992eb54d\",\"type\":\"Grid\"},{\"id\":\"ed10a26a-3a72-46e3-bf52-965221f48229\",\"type\":\"LinearAxis\"},{\"id\":\"e86ee3fc-c762-47c8-9fd4-aa4ee6efb4d0\",\"type\":\"Grid\"},{\"id\":\"dd9cb53c-23dd-4ec9-9b66-0ba1958716ec\",\"type\":\"BoxAnnotation\"},{\"id\":\"a93807cb-f09a-40a2-af0b-b7d42c764a4f\",\"type\":\"GlyphRenderer\"},{\"id\":\"70023e9f-7087-4067-babe-cf651051a08f\",\"type\":\"GlyphRenderer\"},{\"id\":\"c4b6fae8-2e06-45f0-b02e-08718f709556\",\"type\":\"GlyphRenderer\"}],\"title\":{\"id\":\"4c40a45b-7133-46fc-94f9-f8ca86929c97\",\"type\":\"Title\"},\"toolbar\":{\"id\":\"f4faa512-b315-476c-8122-b1c7e121e440\",\"type\":\"Toolbar\"},\"x_range\":{\"id\":\"19aab6fd-cda5-4a68-89a1-cd8a0aad8579\",\"type\":\"Range1d\"},\"x_scale\":{\"id\":\"a7c91949-69fa-4ed3-9c67-15a6ad8b2e3a\",\"type\":\"LinearScale\"},\"y_range\":{\"id\":\"fe71a759-863d-4fd3-a01d-b9f97347b4d0\",\"type\":\"Range1d\"},\"y_scale\":{\"id\":\"08d9ce78-671d-4705-b4b8-4fc60e32594b\",\"type\":\"LinearScale\"}},\"id\":\"daafb60d-adaf-4a59-ad38-0b5aff201e8f\",\"subtype\":\"Figure\",\"type\":\"Plot\"},{\"attributes\":{\"plot\":null,\"text\":\"Gr\\u00e1ficos\"},\"id\":\"4c40a45b-7133-46fc-94f9-f8ca86929c97\",\"type\":\"Title\"},{\"attributes\":{},\"id\":\"a7c91949-69fa-4ed3-9c67-15a6ad8b2e3a\",\"type\":\"LinearScale\"},{\"attributes\":{\"callback\":null,\"end\":10,\"start\":-10},\"id\":\"fe71a759-863d-4fd3-a01d-b9f97347b4d0\",\"type\":\"Range1d\"},{\"attributes\":{},\"id\":\"08d9ce78-671d-4705-b4b8-4fc60e32594b\",\"type\":\"LinearScale\"},{\"attributes\":{\"formatter\":{\"id\":\"3edd5b67-02f6-4363-9f1c-bc84d830a33a\",\"type\":\"BasicTickFormatter\"},\"plot\":{\"id\":\"daafb60d-adaf-4a59-ad38-0b5aff201e8f\",\"subtype\":\"Figure\",\"type\":\"Plot\"},\"ticker\":{\"id\":\"f899956c-7bc6-42c8-998e-55a79843956b\",\"type\":\"BasicTicker\"}},\"id\":\"aafb2099-c6db-4208-959e-ccc14271a8b1\",\"type\":\"LinearAxis\"},{\"attributes\":{},\"id\":\"f899956c-7bc6-42c8-998e-55a79843956b\",\"type\":\"BasicTicker\"},{\"attributes\":{},\"id\":\"a19f052e-3d85-4652-a457-4df8f23d129e\",\"type\":\"BasicTicker\"},{\"attributes\":{\"formatter\":{\"id\":\"55c08929-cf43-4c98-99d5-716e8d5b73f0\",\"type\":\"BasicTickFormatter\"},\"plot\":{\"id\":\"daafb60d-adaf-4a59-ad38-0b5aff201e8f\",\"subtype\":\"Figure\",\"type\":\"Plot\"},\"ticker\":{\"id\":\"a19f052e-3d85-4652-a457-4df8f23d129e\",\"type\":\"BasicTicker\"}},\"id\":\"ed10a26a-3a72-46e3-bf52-965221f48229\",\"type\":\"LinearAxis\"},{\"attributes\":{\"plot\":{\"id\":\"daafb60d-adaf-4a59-ad38-0b5aff201e8f\",\"subtype\":\"Figure\",\"type\":\"Plot\"},\"ticker\":{\"id\":\"f899956c-7bc6-42c8-998e-55a79843956b\",\"type\":\"BasicTicker\"}},\"id\":\"b00f2f4b-3da8-4524-8e49-877d992eb54d\",\"type\":\"Grid\"},{\"attributes\":{},\"id\":\"3edd5b67-02f6-4363-9f1c-bc84d830a33a\",\"type\":\"BasicTickFormatter\"},{\"attributes\":{\"data_source\":{\"id\":\"58e7688b-2971-41f1-8f1c-40288e555826\",\"type\":\"ColumnDataSource\"},\"glyph\":{\"id\":\"3dc6f829-9eab-4ae8-b78a-cf8a628b6439\",\"type\":\"Circle\"},\"hover_glyph\":null,\"muted_glyph\":null,\"nonselection_glyph\":{\"id\":\"1989de98-cf75-4707-9627-09808ffae238\",\"type\":\"Circle\"},\"selection_glyph\":null,\"view\":{\"id\":\"7e5b868b-e636-4c79-877c-423bcf3689e7\",\"type\":\"CDSView\"}},\"id\":\"c4b6fae8-2e06-45f0-b02e-08718f709556\",\"type\":\"GlyphRenderer\"}],\"root_ids\":[\"daafb60d-adaf-4a59-ad38-0b5aff201e8f\"]},\"title\":\"Bokeh Application\",\"version\":\"0.12.10\"}};\n",
       "    var render_items = [{\"docid\":\"a33e0fe5-a9a3-443b-b70a-f74a990f7f5a\",\"elementid\":\"a3fcc476-81f3-4e2f-a6f7-657e3d79b73b\",\"modelid\":\"daafb60d-adaf-4a59-ad38-0b5aff201e8f\"}];\n",
       "\n",
       "    root.Bokeh.embed.embed_items(docs_json, render_items);\n",
       "  }\n",
       "\n",
       "  if (root.Bokeh !== undefined) {\n",
       "    embed_document(root);\n",
       "  } else {\n",
       "    var attempts = 0;\n",
       "    var timer = setInterval(function(root) {\n",
       "      if (root.Bokeh !== undefined) {\n",
       "        embed_document(root);\n",
       "        clearInterval(timer);\n",
       "      }\n",
       "      attempts++;\n",
       "      if (attempts > 100) {\n",
       "        console.log(\"Bokeh: ERROR: Unable to embed document because BokehJS library is missing\")\n",
       "        clearInterval(timer);\n",
       "      }\n",
       "    }, 10, root)\n",
       "  }\n",
       "})(window);"
      ],
      "application/vnd.bokehjs_exec.v0+json": ""
     },
     "metadata": {
      "application/vnd.bokehjs_exec.v0+json": {
       "id": "daafb60d-adaf-4a59-ad38-0b5aff201e8f"
      }
     },
     "output_type": "display_data"
    }
   ],
   "source": [
    "#Creamos el círculo\n",
    "p.circle(x=-5,y=5, radius=2, color=None, line_color=\"darkred\")\n",
    "\n",
    "#Mostraoms el gráfico\n",
    "show(p)"
   ]
  },
  {
   "cell_type": "markdown",
   "metadata": {},
   "source": [
    "## Elipse.\n",
    "#### Dibujamos una elipse de radio mayor 6 y radio menor 4 en el punto (-5,-2)"
   ]
  },
  {
   "cell_type": "code",
   "execution_count": 5,
   "metadata": {},
   "outputs": [
    {
     "data": {
      "text/html": [
       "\n",
       "<div class=\"bk-root\">\n",
       "    <div class=\"bk-plotdiv\" id=\"d9b1af39-007e-4d41-afa9-fb7ea0bf07c9\"></div>\n",
       "</div>"
      ]
     },
     "metadata": {},
     "output_type": "display_data"
    },
    {
     "data": {
      "application/javascript": [
       "(function(root) {\n",
       "  function embed_document(root) {\n",
       "    var docs_json = {\"b5ffa2b5-306b-477a-9b3d-a2c1c0de6fcd\":{\"roots\":{\"references\":[{\"attributes\":{\"dimension\":1,\"plot\":{\"id\":\"daafb60d-adaf-4a59-ad38-0b5aff201e8f\",\"subtype\":\"Figure\",\"type\":\"Plot\"},\"ticker\":{\"id\":\"a19f052e-3d85-4652-a457-4df8f23d129e\",\"type\":\"BasicTicker\"}},\"id\":\"e86ee3fc-c762-47c8-9fd4-aa4ee6efb4d0\",\"type\":\"Grid\"},{\"attributes\":{\"callback\":null,\"data\":{}},\"id\":\"1e761fe1-f015-4c07-ad1c-d0b40ecbe7d4\",\"type\":\"ColumnDataSource\"},{\"attributes\":{\"bottom_units\":\"screen\",\"fill_alpha\":{\"value\":0.5},\"fill_color\":{\"value\":\"lightgrey\"},\"left_units\":\"screen\",\"level\":\"overlay\",\"line_alpha\":{\"value\":1.0},\"line_color\":{\"value\":\"black\"},\"line_dash\":[4,4],\"line_width\":{\"value\":2},\"plot\":null,\"render_mode\":\"css\",\"right_units\":\"screen\",\"top_units\":\"screen\"},\"id\":\"dd9cb53c-23dd-4ec9-9b66-0ba1958716ec\",\"type\":\"BoxAnnotation\"},{\"attributes\":{\"fill_color\":{\"value\":null},\"height\":{\"units\":\"data\",\"value\":4},\"line_color\":{\"value\":\"blue\"},\"width\":{\"units\":\"data\",\"value\":6},\"x\":{\"value\":-5},\"y\":{\"value\":-2}},\"id\":\"23b2382a-cce1-41e6-84da-f5c39d7523d6\",\"type\":\"Oval\"},{\"attributes\":{},\"id\":\"511840ca-20d6-4fcd-9c13-9313c3bd43fc\",\"type\":\"PanTool\"},{\"attributes\":{},\"id\":\"94d891c8-770c-40a2-9c9e-b931dc336e68\",\"type\":\"ResetTool\"},{\"attributes\":{\"fill_alpha\":{\"value\":0.1},\"fill_color\":{\"value\":\"#1f77b4\"},\"height\":{\"units\":\"data\",\"value\":2},\"line_alpha\":{\"value\":0.1},\"line_color\":{\"value\":\"#1f77b4\"},\"width\":{\"units\":\"data\",\"value\":4},\"x\":{\"value\":5},\"y\":{\"value\":5}},\"id\":\"fcaf9dc2-89ae-433e-9599-f76855933ef2\",\"type\":\"Rect\"},{\"attributes\":{},\"id\":\"74df1d79-ab69-4dc0-81ab-74273a7bac79\",\"type\":\"WheelZoomTool\"},{\"attributes\":{\"source\":{\"id\":\"3b56c82a-0ea0-43f6-8a53-075482db526d\",\"type\":\"ColumnDataSource\"}},\"id\":\"15adcd34-5fbe-46ea-8ab1-c201f653e4a0\",\"type\":\"CDSView\"},{\"attributes\":{\"callback\":null,\"data\":{}},\"id\":\"3b56c82a-0ea0-43f6-8a53-075482db526d\",\"type\":\"ColumnDataSource\"},{\"attributes\":{\"fill_alpha\":{\"value\":0.1},\"fill_color\":{\"value\":\"#1f77b4\"},\"height\":{\"units\":\"data\",\"value\":4},\"line_alpha\":{\"value\":0.1},\"line_color\":{\"value\":\"#1f77b4\"},\"width\":{\"units\":\"data\",\"value\":6},\"x\":{\"value\":-5},\"y\":{\"value\":-2}},\"id\":\"6c9255f1-9cc1-4c67-ab77-75dbee1f0c40\",\"type\":\"Oval\"},{\"attributes\":{\"overlay\":{\"id\":\"dd9cb53c-23dd-4ec9-9b66-0ba1958716ec\",\"type\":\"BoxAnnotation\"}},\"id\":\"d0454843-af0c-4f22-a2ab-eba00132e61b\",\"type\":\"BoxZoomTool\"},{\"attributes\":{\"callback\":null,\"data\":{}},\"id\":\"58e7688b-2971-41f1-8f1c-40288e555826\",\"type\":\"ColumnDataSource\"},{\"attributes\":{},\"id\":\"266e4680-0b2a-4cf5-a5ad-b9f6cfcea0cf\",\"type\":\"SaveTool\"},{\"attributes\":{\"data_source\":{\"id\":\"3b56c82a-0ea0-43f6-8a53-075482db526d\",\"type\":\"ColumnDataSource\"},\"glyph\":{\"id\":\"602c2bb6-a649-4883-a4e3-ed0a63251513\",\"type\":\"Rect\"},\"hover_glyph\":null,\"muted_glyph\":null,\"nonselection_glyph\":{\"id\":\"fcaf9dc2-89ae-433e-9599-f76855933ef2\",\"type\":\"Rect\"},\"selection_glyph\":null,\"view\":{\"id\":\"15adcd34-5fbe-46ea-8ab1-c201f653e4a0\",\"type\":\"CDSView\"}},\"id\":\"70023e9f-7087-4067-babe-cf651051a08f\",\"type\":\"GlyphRenderer\"},{\"attributes\":{},\"id\":\"4f7699cd-a166-4e71-a5c2-d847bc2c14e1\",\"type\":\"HelpTool\"},{\"attributes\":{\"fill_alpha\":{\"value\":0.1},\"fill_color\":{\"value\":\"#1f77b4\"},\"line_alpha\":{\"value\":0.1},\"line_color\":{\"value\":\"#1f77b4\"},\"x\":{\"field\":\"x\"},\"y\":{\"field\":\"y\"}},\"id\":\"b61fbec9-ac1e-499b-af3a-70ff7bb46167\",\"type\":\"Circle\"},{\"attributes\":{},\"id\":\"55c08929-cf43-4c98-99d5-716e8d5b73f0\",\"type\":\"BasicTickFormatter\"},{\"attributes\":{\"source\":{\"id\":\"ae22e841-be5e-41f6-8bb8-f25b55757460\",\"type\":\"ColumnDataSource\"}},\"id\":\"fbebc28d-2133-49e2-ba0a-f8805f74d066\",\"type\":\"CDSView\"},{\"attributes\":{\"fill_color\":{\"value\":\"green\"},\"height\":{\"units\":\"data\",\"value\":2},\"line_color\":{\"value\":\"green\"},\"width\":{\"units\":\"data\",\"value\":4},\"x\":{\"value\":5},\"y\":{\"value\":5}},\"id\":\"602c2bb6-a649-4883-a4e3-ed0a63251513\",\"type\":\"Rect\"},{\"attributes\":{\"fill_color\":{\"value\":\"red\"},\"line_color\":{\"value\":\"red\"},\"x\":{\"field\":\"x\"},\"y\":{\"field\":\"y\"}},\"id\":\"a368dcba-10d2-4d33-8353-1a5a5bff9651\",\"type\":\"Circle\"},{\"attributes\":{\"active_drag\":\"auto\",\"active_inspect\":\"auto\",\"active_scroll\":\"auto\",\"active_tap\":\"auto\",\"tools\":[{\"id\":\"511840ca-20d6-4fcd-9c13-9313c3bd43fc\",\"type\":\"PanTool\"},{\"id\":\"74df1d79-ab69-4dc0-81ab-74273a7bac79\",\"type\":\"WheelZoomTool\"},{\"id\":\"d0454843-af0c-4f22-a2ab-eba00132e61b\",\"type\":\"BoxZoomTool\"},{\"id\":\"266e4680-0b2a-4cf5-a5ad-b9f6cfcea0cf\",\"type\":\"SaveTool\"},{\"id\":\"94d891c8-770c-40a2-9c9e-b931dc336e68\",\"type\":\"ResetTool\"},{\"id\":\"4f7699cd-a166-4e71-a5c2-d847bc2c14e1\",\"type\":\"HelpTool\"}]},\"id\":\"f4faa512-b315-476c-8122-b1c7e121e440\",\"type\":\"Toolbar\"},{\"attributes\":{\"data_source\":{\"id\":\"ae22e841-be5e-41f6-8bb8-f25b55757460\",\"type\":\"ColumnDataSource\"},\"glyph\":{\"id\":\"a368dcba-10d2-4d33-8353-1a5a5bff9651\",\"type\":\"Circle\"},\"hover_glyph\":null,\"muted_glyph\":null,\"nonselection_glyph\":{\"id\":\"b61fbec9-ac1e-499b-af3a-70ff7bb46167\",\"type\":\"Circle\"},\"selection_glyph\":null,\"view\":{\"id\":\"fbebc28d-2133-49e2-ba0a-f8805f74d066\",\"type\":\"CDSView\"}},\"id\":\"a93807cb-f09a-40a2-af0b-b7d42c764a4f\",\"type\":\"GlyphRenderer\"},{\"attributes\":{\"callback\":null,\"column_names\":[\"x\",\"y\"],\"data\":{\"x\":[-4,9,5],\"y\":[2,1,7]}},\"id\":\"ae22e841-be5e-41f6-8bb8-f25b55757460\",\"type\":\"ColumnDataSource\"},{\"attributes\":{\"fill_alpha\":{\"value\":0.1},\"fill_color\":{\"value\":\"#1f77b4\"},\"line_alpha\":{\"value\":0.1},\"line_color\":{\"value\":\"#1f77b4\"},\"radius\":{\"units\":\"data\",\"value\":2},\"x\":{\"value\":-5},\"y\":{\"value\":5}},\"id\":\"1989de98-cf75-4707-9627-09808ffae238\",\"type\":\"Circle\"},{\"attributes\":{\"fill_color\":{\"value\":null},\"line_color\":{\"value\":\"darkred\"},\"radius\":{\"units\":\"data\",\"value\":2},\"x\":{\"value\":-5},\"y\":{\"value\":5}},\"id\":\"3dc6f829-9eab-4ae8-b78a-cf8a628b6439\",\"type\":\"Circle\"},{\"attributes\":{\"callback\":null,\"end\":10,\"start\":-10},\"id\":\"19aab6fd-cda5-4a68-89a1-cd8a0aad8579\",\"type\":\"Range1d\"},{\"attributes\":{\"source\":{\"id\":\"58e7688b-2971-41f1-8f1c-40288e555826\",\"type\":\"ColumnDataSource\"}},\"id\":\"7e5b868b-e636-4c79-877c-423bcf3689e7\",\"type\":\"CDSView\"},{\"attributes\":{\"below\":[{\"id\":\"aafb2099-c6db-4208-959e-ccc14271a8b1\",\"type\":\"LinearAxis\"}],\"left\":[{\"id\":\"ed10a26a-3a72-46e3-bf52-965221f48229\",\"type\":\"LinearAxis\"}],\"plot_height\":400,\"plot_width\":400,\"renderers\":[{\"id\":\"aafb2099-c6db-4208-959e-ccc14271a8b1\",\"type\":\"LinearAxis\"},{\"id\":\"b00f2f4b-3da8-4524-8e49-877d992eb54d\",\"type\":\"Grid\"},{\"id\":\"ed10a26a-3a72-46e3-bf52-965221f48229\",\"type\":\"LinearAxis\"},{\"id\":\"e86ee3fc-c762-47c8-9fd4-aa4ee6efb4d0\",\"type\":\"Grid\"},{\"id\":\"dd9cb53c-23dd-4ec9-9b66-0ba1958716ec\",\"type\":\"BoxAnnotation\"},{\"id\":\"a93807cb-f09a-40a2-af0b-b7d42c764a4f\",\"type\":\"GlyphRenderer\"},{\"id\":\"70023e9f-7087-4067-babe-cf651051a08f\",\"type\":\"GlyphRenderer\"},{\"id\":\"c4b6fae8-2e06-45f0-b02e-08718f709556\",\"type\":\"GlyphRenderer\"},{\"id\":\"d6e3469c-8afc-4194-bb7c-5d8c13c91913\",\"type\":\"GlyphRenderer\"}],\"title\":{\"id\":\"4c40a45b-7133-46fc-94f9-f8ca86929c97\",\"type\":\"Title\"},\"toolbar\":{\"id\":\"f4faa512-b315-476c-8122-b1c7e121e440\",\"type\":\"Toolbar\"},\"x_range\":{\"id\":\"19aab6fd-cda5-4a68-89a1-cd8a0aad8579\",\"type\":\"Range1d\"},\"x_scale\":{\"id\":\"a7c91949-69fa-4ed3-9c67-15a6ad8b2e3a\",\"type\":\"LinearScale\"},\"y_range\":{\"id\":\"fe71a759-863d-4fd3-a01d-b9f97347b4d0\",\"type\":\"Range1d\"},\"y_scale\":{\"id\":\"08d9ce78-671d-4705-b4b8-4fc60e32594b\",\"type\":\"LinearScale\"}},\"id\":\"daafb60d-adaf-4a59-ad38-0b5aff201e8f\",\"subtype\":\"Figure\",\"type\":\"Plot\"},{\"attributes\":{\"plot\":null,\"text\":\"Gr\\u00e1ficos\"},\"id\":\"4c40a45b-7133-46fc-94f9-f8ca86929c97\",\"type\":\"Title\"},{\"attributes\":{},\"id\":\"a7c91949-69fa-4ed3-9c67-15a6ad8b2e3a\",\"type\":\"LinearScale\"},{\"attributes\":{\"callback\":null,\"end\":10,\"start\":-10},\"id\":\"fe71a759-863d-4fd3-a01d-b9f97347b4d0\",\"type\":\"Range1d\"},{\"attributes\":{\"data_source\":{\"id\":\"1e761fe1-f015-4c07-ad1c-d0b40ecbe7d4\",\"type\":\"ColumnDataSource\"},\"glyph\":{\"id\":\"23b2382a-cce1-41e6-84da-f5c39d7523d6\",\"type\":\"Oval\"},\"hover_glyph\":null,\"muted_glyph\":null,\"nonselection_glyph\":{\"id\":\"6c9255f1-9cc1-4c67-ab77-75dbee1f0c40\",\"type\":\"Oval\"},\"selection_glyph\":null,\"view\":{\"id\":\"83f5b297-48fe-4606-926b-d554de93286d\",\"type\":\"CDSView\"}},\"id\":\"d6e3469c-8afc-4194-bb7c-5d8c13c91913\",\"type\":\"GlyphRenderer\"},{\"attributes\":{},\"id\":\"08d9ce78-671d-4705-b4b8-4fc60e32594b\",\"type\":\"LinearScale\"},{\"attributes\":{\"formatter\":{\"id\":\"3edd5b67-02f6-4363-9f1c-bc84d830a33a\",\"type\":\"BasicTickFormatter\"},\"plot\":{\"id\":\"daafb60d-adaf-4a59-ad38-0b5aff201e8f\",\"subtype\":\"Figure\",\"type\":\"Plot\"},\"ticker\":{\"id\":\"f899956c-7bc6-42c8-998e-55a79843956b\",\"type\":\"BasicTicker\"}},\"id\":\"aafb2099-c6db-4208-959e-ccc14271a8b1\",\"type\":\"LinearAxis\"},{\"attributes\":{},\"id\":\"f899956c-7bc6-42c8-998e-55a79843956b\",\"type\":\"BasicTicker\"},{\"attributes\":{},\"id\":\"a19f052e-3d85-4652-a457-4df8f23d129e\",\"type\":\"BasicTicker\"},{\"attributes\":{\"formatter\":{\"id\":\"55c08929-cf43-4c98-99d5-716e8d5b73f0\",\"type\":\"BasicTickFormatter\"},\"plot\":{\"id\":\"daafb60d-adaf-4a59-ad38-0b5aff201e8f\",\"subtype\":\"Figure\",\"type\":\"Plot\"},\"ticker\":{\"id\":\"a19f052e-3d85-4652-a457-4df8f23d129e\",\"type\":\"BasicTicker\"}},\"id\":\"ed10a26a-3a72-46e3-bf52-965221f48229\",\"type\":\"LinearAxis\"},{\"attributes\":{\"plot\":{\"id\":\"daafb60d-adaf-4a59-ad38-0b5aff201e8f\",\"subtype\":\"Figure\",\"type\":\"Plot\"},\"ticker\":{\"id\":\"f899956c-7bc6-42c8-998e-55a79843956b\",\"type\":\"BasicTicker\"}},\"id\":\"b00f2f4b-3da8-4524-8e49-877d992eb54d\",\"type\":\"Grid\"},{\"attributes\":{\"source\":{\"id\":\"1e761fe1-f015-4c07-ad1c-d0b40ecbe7d4\",\"type\":\"ColumnDataSource\"}},\"id\":\"83f5b297-48fe-4606-926b-d554de93286d\",\"type\":\"CDSView\"},{\"attributes\":{},\"id\":\"3edd5b67-02f6-4363-9f1c-bc84d830a33a\",\"type\":\"BasicTickFormatter\"},{\"attributes\":{\"data_source\":{\"id\":\"58e7688b-2971-41f1-8f1c-40288e555826\",\"type\":\"ColumnDataSource\"},\"glyph\":{\"id\":\"3dc6f829-9eab-4ae8-b78a-cf8a628b6439\",\"type\":\"Circle\"},\"hover_glyph\":null,\"muted_glyph\":null,\"nonselection_glyph\":{\"id\":\"1989de98-cf75-4707-9627-09808ffae238\",\"type\":\"Circle\"},\"selection_glyph\":null,\"view\":{\"id\":\"7e5b868b-e636-4c79-877c-423bcf3689e7\",\"type\":\"CDSView\"}},\"id\":\"c4b6fae8-2e06-45f0-b02e-08718f709556\",\"type\":\"GlyphRenderer\"}],\"root_ids\":[\"daafb60d-adaf-4a59-ad38-0b5aff201e8f\"]},\"title\":\"Bokeh Application\",\"version\":\"0.12.10\"}};\n",
       "    var render_items = [{\"docid\":\"b5ffa2b5-306b-477a-9b3d-a2c1c0de6fcd\",\"elementid\":\"d9b1af39-007e-4d41-afa9-fb7ea0bf07c9\",\"modelid\":\"daafb60d-adaf-4a59-ad38-0b5aff201e8f\"}];\n",
       "\n",
       "    root.Bokeh.embed.embed_items(docs_json, render_items);\n",
       "  }\n",
       "\n",
       "  if (root.Bokeh !== undefined) {\n",
       "    embed_document(root);\n",
       "  } else {\n",
       "    var attempts = 0;\n",
       "    var timer = setInterval(function(root) {\n",
       "      if (root.Bokeh !== undefined) {\n",
       "        embed_document(root);\n",
       "        clearInterval(timer);\n",
       "      }\n",
       "      attempts++;\n",
       "      if (attempts > 100) {\n",
       "        console.log(\"Bokeh: ERROR: Unable to embed document because BokehJS library is missing\")\n",
       "        clearInterval(timer);\n",
       "      }\n",
       "    }, 10, root)\n",
       "  }\n",
       "})(window);"
      ],
      "application/vnd.bokehjs_exec.v0+json": ""
     },
     "metadata": {
      "application/vnd.bokehjs_exec.v0+json": {
       "id": "daafb60d-adaf-4a59-ad38-0b5aff201e8f"
      }
     },
     "output_type": "display_data"
    }
   ],
   "source": [
    "#Creamos la elipse\n",
    "p.oval(x=-5, y=-2, width=6, height=4, color = None, line_color=\"blue\")\n",
    "\n",
    "#Mostramos el gráfico\n",
    "show(p)"
   ]
  },
  {
   "cell_type": "markdown",
   "metadata": {},
   "source": [
    "## Polígono.\n",
    "#### Dibujamos un triángulo de vértices (0,-5), (5,-5) y (5,0) con color de fondo naranja"
   ]
  },
  {
   "cell_type": "code",
   "execution_count": 6,
   "metadata": {},
   "outputs": [
    {
     "data": {
      "text/html": [
       "\n",
       "<div class=\"bk-root\">\n",
       "    <div class=\"bk-plotdiv\" id=\"23dc1e77-c64e-4c07-9a45-cda523bdcd73\"></div>\n",
       "</div>"
      ]
     },
     "metadata": {},
     "output_type": "display_data"
    },
    {
     "data": {
      "application/javascript": [
       "(function(root) {\n",
       "  function embed_document(root) {\n",
       "    var docs_json = {\"34879c47-959e-4c00-a2e7-d75a6a5911e9\":{\"roots\":{\"references\":[{\"attributes\":{\"dimension\":1,\"plot\":{\"id\":\"daafb60d-adaf-4a59-ad38-0b5aff201e8f\",\"subtype\":\"Figure\",\"type\":\"Plot\"},\"ticker\":{\"id\":\"a19f052e-3d85-4652-a457-4df8f23d129e\",\"type\":\"BasicTicker\"}},\"id\":\"e86ee3fc-c762-47c8-9fd4-aa4ee6efb4d0\",\"type\":\"Grid\"},{\"attributes\":{\"callback\":null,\"data\":{}},\"id\":\"1e761fe1-f015-4c07-ad1c-d0b40ecbe7d4\",\"type\":\"ColumnDataSource\"},{\"attributes\":{\"bottom_units\":\"screen\",\"fill_alpha\":{\"value\":0.5},\"fill_color\":{\"value\":\"lightgrey\"},\"left_units\":\"screen\",\"level\":\"overlay\",\"line_alpha\":{\"value\":1.0},\"line_color\":{\"value\":\"black\"},\"line_dash\":[4,4],\"line_width\":{\"value\":2},\"plot\":null,\"render_mode\":\"css\",\"right_units\":\"screen\",\"top_units\":\"screen\"},\"id\":\"dd9cb53c-23dd-4ec9-9b66-0ba1958716ec\",\"type\":\"BoxAnnotation\"},{\"attributes\":{\"fill_color\":{\"value\":null},\"height\":{\"units\":\"data\",\"value\":4},\"line_color\":{\"value\":\"blue\"},\"width\":{\"units\":\"data\",\"value\":6},\"x\":{\"value\":-5},\"y\":{\"value\":-2}},\"id\":\"23b2382a-cce1-41e6-84da-f5c39d7523d6\",\"type\":\"Oval\"},{\"attributes\":{},\"id\":\"511840ca-20d6-4fcd-9c13-9313c3bd43fc\",\"type\":\"PanTool\"},{\"attributes\":{},\"id\":\"94d891c8-770c-40a2-9c9e-b931dc336e68\",\"type\":\"ResetTool\"},{\"attributes\":{\"fill_alpha\":{\"value\":0.1},\"fill_color\":{\"value\":\"#1f77b4\"},\"height\":{\"units\":\"data\",\"value\":2},\"line_alpha\":{\"value\":0.1},\"line_color\":{\"value\":\"#1f77b4\"},\"width\":{\"units\":\"data\",\"value\":4},\"x\":{\"value\":5},\"y\":{\"value\":5}},\"id\":\"fcaf9dc2-89ae-433e-9599-f76855933ef2\",\"type\":\"Rect\"},{\"attributes\":{\"data_source\":{\"id\":\"6866a959-352f-4416-b0e5-1c356cb44de8\",\"type\":\"ColumnDataSource\"},\"glyph\":{\"id\":\"6bc74ee1-68b8-4e49-aa96-f5695f721e0c\",\"type\":\"Patch\"},\"hover_glyph\":null,\"muted_glyph\":null,\"nonselection_glyph\":{\"id\":\"8a828328-89cf-45f9-b60d-9be813eb1d47\",\"type\":\"Patch\"},\"selection_glyph\":null,\"view\":{\"id\":\"91f7e24e-b863-4af4-9413-3db7ce97f5e8\",\"type\":\"CDSView\"}},\"id\":\"1c149561-f3e3-4a1d-8539-86e3fcd18bf4\",\"type\":\"GlyphRenderer\"},{\"attributes\":{},\"id\":\"74df1d79-ab69-4dc0-81ab-74273a7bac79\",\"type\":\"WheelZoomTool\"},{\"attributes\":{\"source\":{\"id\":\"3b56c82a-0ea0-43f6-8a53-075482db526d\",\"type\":\"ColumnDataSource\"}},\"id\":\"15adcd34-5fbe-46ea-8ab1-c201f653e4a0\",\"type\":\"CDSView\"},{\"attributes\":{\"callback\":null,\"data\":{}},\"id\":\"3b56c82a-0ea0-43f6-8a53-075482db526d\",\"type\":\"ColumnDataSource\"},{\"attributes\":{\"fill_alpha\":{\"value\":0.1},\"fill_color\":{\"value\":\"#1f77b4\"},\"height\":{\"units\":\"data\",\"value\":4},\"line_alpha\":{\"value\":0.1},\"line_color\":{\"value\":\"#1f77b4\"},\"width\":{\"units\":\"data\",\"value\":6},\"x\":{\"value\":-5},\"y\":{\"value\":-2}},\"id\":\"6c9255f1-9cc1-4c67-ab77-75dbee1f0c40\",\"type\":\"Oval\"},{\"attributes\":{\"overlay\":{\"id\":\"dd9cb53c-23dd-4ec9-9b66-0ba1958716ec\",\"type\":\"BoxAnnotation\"}},\"id\":\"d0454843-af0c-4f22-a2ab-eba00132e61b\",\"type\":\"BoxZoomTool\"},{\"attributes\":{\"callback\":null,\"data\":{}},\"id\":\"58e7688b-2971-41f1-8f1c-40288e555826\",\"type\":\"ColumnDataSource\"},{\"attributes\":{},\"id\":\"266e4680-0b2a-4cf5-a5ad-b9f6cfcea0cf\",\"type\":\"SaveTool\"},{\"attributes\":{\"data_source\":{\"id\":\"3b56c82a-0ea0-43f6-8a53-075482db526d\",\"type\":\"ColumnDataSource\"},\"glyph\":{\"id\":\"602c2bb6-a649-4883-a4e3-ed0a63251513\",\"type\":\"Rect\"},\"hover_glyph\":null,\"muted_glyph\":null,\"nonselection_glyph\":{\"id\":\"fcaf9dc2-89ae-433e-9599-f76855933ef2\",\"type\":\"Rect\"},\"selection_glyph\":null,\"view\":{\"id\":\"15adcd34-5fbe-46ea-8ab1-c201f653e4a0\",\"type\":\"CDSView\"}},\"id\":\"70023e9f-7087-4067-babe-cf651051a08f\",\"type\":\"GlyphRenderer\"},{\"attributes\":{},\"id\":\"4f7699cd-a166-4e71-a5c2-d847bc2c14e1\",\"type\":\"HelpTool\"},{\"attributes\":{\"fill_alpha\":{\"value\":0.1},\"fill_color\":{\"value\":\"#1f77b4\"},\"line_alpha\":{\"value\":0.1},\"line_color\":{\"value\":\"#1f77b4\"},\"x\":{\"field\":\"x\"},\"y\":{\"field\":\"y\"}},\"id\":\"b61fbec9-ac1e-499b-af3a-70ff7bb46167\",\"type\":\"Circle\"},{\"attributes\":{\"fill_alpha\":{\"value\":0.1},\"fill_color\":{\"value\":\"#1f77b4\"},\"line_alpha\":{\"value\":0.1},\"line_color\":{\"value\":\"#1f77b4\"},\"x\":{\"field\":\"x\"},\"y\":{\"field\":\"y\"}},\"id\":\"8a828328-89cf-45f9-b60d-9be813eb1d47\",\"type\":\"Patch\"},{\"attributes\":{},\"id\":\"55c08929-cf43-4c98-99d5-716e8d5b73f0\",\"type\":\"BasicTickFormatter\"},{\"attributes\":{\"source\":{\"id\":\"ae22e841-be5e-41f6-8bb8-f25b55757460\",\"type\":\"ColumnDataSource\"}},\"id\":\"fbebc28d-2133-49e2-ba0a-f8805f74d066\",\"type\":\"CDSView\"},{\"attributes\":{\"fill_color\":{\"value\":\"green\"},\"height\":{\"units\":\"data\",\"value\":2},\"line_color\":{\"value\":\"green\"},\"width\":{\"units\":\"data\",\"value\":4},\"x\":{\"value\":5},\"y\":{\"value\":5}},\"id\":\"602c2bb6-a649-4883-a4e3-ed0a63251513\",\"type\":\"Rect\"},{\"attributes\":{\"fill_color\":{\"value\":\"red\"},\"line_color\":{\"value\":\"red\"},\"x\":{\"field\":\"x\"},\"y\":{\"field\":\"y\"}},\"id\":\"a368dcba-10d2-4d33-8353-1a5a5bff9651\",\"type\":\"Circle\"},{\"attributes\":{\"fill_color\":{\"value\":\"orange\"},\"line_color\":{\"value\":\"orange\"},\"x\":{\"field\":\"x\"},\"y\":{\"field\":\"y\"}},\"id\":\"6bc74ee1-68b8-4e49-aa96-f5695f721e0c\",\"type\":\"Patch\"},{\"attributes\":{\"active_drag\":\"auto\",\"active_inspect\":\"auto\",\"active_scroll\":\"auto\",\"active_tap\":\"auto\",\"tools\":[{\"id\":\"511840ca-20d6-4fcd-9c13-9313c3bd43fc\",\"type\":\"PanTool\"},{\"id\":\"74df1d79-ab69-4dc0-81ab-74273a7bac79\",\"type\":\"WheelZoomTool\"},{\"id\":\"d0454843-af0c-4f22-a2ab-eba00132e61b\",\"type\":\"BoxZoomTool\"},{\"id\":\"266e4680-0b2a-4cf5-a5ad-b9f6cfcea0cf\",\"type\":\"SaveTool\"},{\"id\":\"94d891c8-770c-40a2-9c9e-b931dc336e68\",\"type\":\"ResetTool\"},{\"id\":\"4f7699cd-a166-4e71-a5c2-d847bc2c14e1\",\"type\":\"HelpTool\"}]},\"id\":\"f4faa512-b315-476c-8122-b1c7e121e440\",\"type\":\"Toolbar\"},{\"attributes\":{\"data_source\":{\"id\":\"ae22e841-be5e-41f6-8bb8-f25b55757460\",\"type\":\"ColumnDataSource\"},\"glyph\":{\"id\":\"a368dcba-10d2-4d33-8353-1a5a5bff9651\",\"type\":\"Circle\"},\"hover_glyph\":null,\"muted_glyph\":null,\"nonselection_glyph\":{\"id\":\"b61fbec9-ac1e-499b-af3a-70ff7bb46167\",\"type\":\"Circle\"},\"selection_glyph\":null,\"view\":{\"id\":\"fbebc28d-2133-49e2-ba0a-f8805f74d066\",\"type\":\"CDSView\"}},\"id\":\"a93807cb-f09a-40a2-af0b-b7d42c764a4f\",\"type\":\"GlyphRenderer\"},{\"attributes\":{\"callback\":null,\"column_names\":[\"x\",\"y\"],\"data\":{\"x\":[-4,9,5],\"y\":[2,1,7]}},\"id\":\"ae22e841-be5e-41f6-8bb8-f25b55757460\",\"type\":\"ColumnDataSource\"},{\"attributes\":{\"fill_alpha\":{\"value\":0.1},\"fill_color\":{\"value\":\"#1f77b4\"},\"line_alpha\":{\"value\":0.1},\"line_color\":{\"value\":\"#1f77b4\"},\"radius\":{\"units\":\"data\",\"value\":2},\"x\":{\"value\":-5},\"y\":{\"value\":5}},\"id\":\"1989de98-cf75-4707-9627-09808ffae238\",\"type\":\"Circle\"},{\"attributes\":{\"fill_color\":{\"value\":null},\"line_color\":{\"value\":\"darkred\"},\"radius\":{\"units\":\"data\",\"value\":2},\"x\":{\"value\":-5},\"y\":{\"value\":5}},\"id\":\"3dc6f829-9eab-4ae8-b78a-cf8a628b6439\",\"type\":\"Circle\"},{\"attributes\":{\"callback\":null,\"end\":10,\"start\":-10},\"id\":\"19aab6fd-cda5-4a68-89a1-cd8a0aad8579\",\"type\":\"Range1d\"},{\"attributes\":{\"source\":{\"id\":\"58e7688b-2971-41f1-8f1c-40288e555826\",\"type\":\"ColumnDataSource\"}},\"id\":\"7e5b868b-e636-4c79-877c-423bcf3689e7\",\"type\":\"CDSView\"},{\"attributes\":{\"below\":[{\"id\":\"aafb2099-c6db-4208-959e-ccc14271a8b1\",\"type\":\"LinearAxis\"}],\"left\":[{\"id\":\"ed10a26a-3a72-46e3-bf52-965221f48229\",\"type\":\"LinearAxis\"}],\"plot_height\":400,\"plot_width\":400,\"renderers\":[{\"id\":\"aafb2099-c6db-4208-959e-ccc14271a8b1\",\"type\":\"LinearAxis\"},{\"id\":\"b00f2f4b-3da8-4524-8e49-877d992eb54d\",\"type\":\"Grid\"},{\"id\":\"ed10a26a-3a72-46e3-bf52-965221f48229\",\"type\":\"LinearAxis\"},{\"id\":\"e86ee3fc-c762-47c8-9fd4-aa4ee6efb4d0\",\"type\":\"Grid\"},{\"id\":\"dd9cb53c-23dd-4ec9-9b66-0ba1958716ec\",\"type\":\"BoxAnnotation\"},{\"id\":\"a93807cb-f09a-40a2-af0b-b7d42c764a4f\",\"type\":\"GlyphRenderer\"},{\"id\":\"70023e9f-7087-4067-babe-cf651051a08f\",\"type\":\"GlyphRenderer\"},{\"id\":\"c4b6fae8-2e06-45f0-b02e-08718f709556\",\"type\":\"GlyphRenderer\"},{\"id\":\"d6e3469c-8afc-4194-bb7c-5d8c13c91913\",\"type\":\"GlyphRenderer\"},{\"id\":\"1c149561-f3e3-4a1d-8539-86e3fcd18bf4\",\"type\":\"GlyphRenderer\"}],\"title\":{\"id\":\"4c40a45b-7133-46fc-94f9-f8ca86929c97\",\"type\":\"Title\"},\"toolbar\":{\"id\":\"f4faa512-b315-476c-8122-b1c7e121e440\",\"type\":\"Toolbar\"},\"x_range\":{\"id\":\"19aab6fd-cda5-4a68-89a1-cd8a0aad8579\",\"type\":\"Range1d\"},\"x_scale\":{\"id\":\"a7c91949-69fa-4ed3-9c67-15a6ad8b2e3a\",\"type\":\"LinearScale\"},\"y_range\":{\"id\":\"fe71a759-863d-4fd3-a01d-b9f97347b4d0\",\"type\":\"Range1d\"},\"y_scale\":{\"id\":\"08d9ce78-671d-4705-b4b8-4fc60e32594b\",\"type\":\"LinearScale\"}},\"id\":\"daafb60d-adaf-4a59-ad38-0b5aff201e8f\",\"subtype\":\"Figure\",\"type\":\"Plot\"},{\"attributes\":{\"plot\":null,\"text\":\"Gr\\u00e1ficos\"},\"id\":\"4c40a45b-7133-46fc-94f9-f8ca86929c97\",\"type\":\"Title\"},{\"attributes\":{},\"id\":\"a7c91949-69fa-4ed3-9c67-15a6ad8b2e3a\",\"type\":\"LinearScale\"},{\"attributes\":{\"callback\":null,\"end\":10,\"start\":-10},\"id\":\"fe71a759-863d-4fd3-a01d-b9f97347b4d0\",\"type\":\"Range1d\"},{\"attributes\":{\"data_source\":{\"id\":\"1e761fe1-f015-4c07-ad1c-d0b40ecbe7d4\",\"type\":\"ColumnDataSource\"},\"glyph\":{\"id\":\"23b2382a-cce1-41e6-84da-f5c39d7523d6\",\"type\":\"Oval\"},\"hover_glyph\":null,\"muted_glyph\":null,\"nonselection_glyph\":{\"id\":\"6c9255f1-9cc1-4c67-ab77-75dbee1f0c40\",\"type\":\"Oval\"},\"selection_glyph\":null,\"view\":{\"id\":\"83f5b297-48fe-4606-926b-d554de93286d\",\"type\":\"CDSView\"}},\"id\":\"d6e3469c-8afc-4194-bb7c-5d8c13c91913\",\"type\":\"GlyphRenderer\"},{\"attributes\":{},\"id\":\"08d9ce78-671d-4705-b4b8-4fc60e32594b\",\"type\":\"LinearScale\"},{\"attributes\":{\"formatter\":{\"id\":\"3edd5b67-02f6-4363-9f1c-bc84d830a33a\",\"type\":\"BasicTickFormatter\"},\"plot\":{\"id\":\"daafb60d-adaf-4a59-ad38-0b5aff201e8f\",\"subtype\":\"Figure\",\"type\":\"Plot\"},\"ticker\":{\"id\":\"f899956c-7bc6-42c8-998e-55a79843956b\",\"type\":\"BasicTicker\"}},\"id\":\"aafb2099-c6db-4208-959e-ccc14271a8b1\",\"type\":\"LinearAxis\"},{\"attributes\":{\"source\":{\"id\":\"6866a959-352f-4416-b0e5-1c356cb44de8\",\"type\":\"ColumnDataSource\"}},\"id\":\"91f7e24e-b863-4af4-9413-3db7ce97f5e8\",\"type\":\"CDSView\"},{\"attributes\":{},\"id\":\"f899956c-7bc6-42c8-998e-55a79843956b\",\"type\":\"BasicTicker\"},{\"attributes\":{},\"id\":\"a19f052e-3d85-4652-a457-4df8f23d129e\",\"type\":\"BasicTicker\"},{\"attributes\":{\"formatter\":{\"id\":\"55c08929-cf43-4c98-99d5-716e8d5b73f0\",\"type\":\"BasicTickFormatter\"},\"plot\":{\"id\":\"daafb60d-adaf-4a59-ad38-0b5aff201e8f\",\"subtype\":\"Figure\",\"type\":\"Plot\"},\"ticker\":{\"id\":\"a19f052e-3d85-4652-a457-4df8f23d129e\",\"type\":\"BasicTicker\"}},\"id\":\"ed10a26a-3a72-46e3-bf52-965221f48229\",\"type\":\"LinearAxis\"},{\"attributes\":{\"callback\":null,\"column_names\":[\"x\",\"y\"],\"data\":{\"x\":[0,5,5],\"y\":[-5,-5,0]}},\"id\":\"6866a959-352f-4416-b0e5-1c356cb44de8\",\"type\":\"ColumnDataSource\"},{\"attributes\":{\"plot\":{\"id\":\"daafb60d-adaf-4a59-ad38-0b5aff201e8f\",\"subtype\":\"Figure\",\"type\":\"Plot\"},\"ticker\":{\"id\":\"f899956c-7bc6-42c8-998e-55a79843956b\",\"type\":\"BasicTicker\"}},\"id\":\"b00f2f4b-3da8-4524-8e49-877d992eb54d\",\"type\":\"Grid\"},{\"attributes\":{\"source\":{\"id\":\"1e761fe1-f015-4c07-ad1c-d0b40ecbe7d4\",\"type\":\"ColumnDataSource\"}},\"id\":\"83f5b297-48fe-4606-926b-d554de93286d\",\"type\":\"CDSView\"},{\"attributes\":{},\"id\":\"3edd5b67-02f6-4363-9f1c-bc84d830a33a\",\"type\":\"BasicTickFormatter\"},{\"attributes\":{\"data_source\":{\"id\":\"58e7688b-2971-41f1-8f1c-40288e555826\",\"type\":\"ColumnDataSource\"},\"glyph\":{\"id\":\"3dc6f829-9eab-4ae8-b78a-cf8a628b6439\",\"type\":\"Circle\"},\"hover_glyph\":null,\"muted_glyph\":null,\"nonselection_glyph\":{\"id\":\"1989de98-cf75-4707-9627-09808ffae238\",\"type\":\"Circle\"},\"selection_glyph\":null,\"view\":{\"id\":\"7e5b868b-e636-4c79-877c-423bcf3689e7\",\"type\":\"CDSView\"}},\"id\":\"c4b6fae8-2e06-45f0-b02e-08718f709556\",\"type\":\"GlyphRenderer\"}],\"root_ids\":[\"daafb60d-adaf-4a59-ad38-0b5aff201e8f\"]},\"title\":\"Bokeh Application\",\"version\":\"0.12.10\"}};\n",
       "    var render_items = [{\"docid\":\"34879c47-959e-4c00-a2e7-d75a6a5911e9\",\"elementid\":\"23dc1e77-c64e-4c07-9a45-cda523bdcd73\",\"modelid\":\"daafb60d-adaf-4a59-ad38-0b5aff201e8f\"}];\n",
       "\n",
       "    root.Bokeh.embed.embed_items(docs_json, render_items);\n",
       "  }\n",
       "\n",
       "  if (root.Bokeh !== undefined) {\n",
       "    embed_document(root);\n",
       "  } else {\n",
       "    var attempts = 0;\n",
       "    var timer = setInterval(function(root) {\n",
       "      if (root.Bokeh !== undefined) {\n",
       "        embed_document(root);\n",
       "        clearInterval(timer);\n",
       "      }\n",
       "      attempts++;\n",
       "      if (attempts > 100) {\n",
       "        console.log(\"Bokeh: ERROR: Unable to embed document because BokehJS library is missing\")\n",
       "        clearInterval(timer);\n",
       "      }\n",
       "    }, 10, root)\n",
       "  }\n",
       "})(window);"
      ],
      "application/vnd.bokehjs_exec.v0+json": ""
     },
     "metadata": {
      "application/vnd.bokehjs_exec.v0+json": {
       "id": "daafb60d-adaf-4a59-ad38-0b5aff201e8f"
      }
     },
     "output_type": "display_data"
    }
   ],
   "source": [
    "\n",
    "#Definimos las vértices y creamos el polígono\n",
    "coordenadas_x = [0,5,5]\n",
    "coordenadas_y = [-5,-5,0]\n",
    "p.patch(coordenadas_x, coordenadas_y, color=\"orange\")\n",
    "\n",
    "#Mostramos el gráfico\n",
    "show(p)"
   ]
  },
  {
   "cell_type": "markdown",
   "metadata": {},
   "source": [
    "## Porción de círculo\n",
    "#### Dibujamos una porción de círculo en (-6,-8) de radio 3.5 con color de relleno azul oscuro que comience en los 30 grados y llegue hasta los 150 grados. \n",
    "#### Nota: El ángulo debemos ponerlo en radianes por lo tanto debemos multiplicar el ángulo por pi y dividirlo entre 180."
   ]
  },
  {
   "cell_type": "code",
   "execution_count": 7,
   "metadata": {},
   "outputs": [
    {
     "data": {
      "text/html": [
       "\n",
       "<div class=\"bk-root\">\n",
       "    <div class=\"bk-plotdiv\" id=\"0040419e-b95d-4450-88b1-5c9c60f352ca\"></div>\n",
       "</div>"
      ]
     },
     "metadata": {},
     "output_type": "display_data"
    },
    {
     "data": {
      "application/javascript": [
       "(function(root) {\n",
       "  function embed_document(root) {\n",
       "    var docs_json = {\"4fd97ffd-2172-4816-8a34-82be387dacf9\":{\"roots\":{\"references\":[{\"attributes\":{\"dimension\":1,\"plot\":{\"id\":\"daafb60d-adaf-4a59-ad38-0b5aff201e8f\",\"subtype\":\"Figure\",\"type\":\"Plot\"},\"ticker\":{\"id\":\"a19f052e-3d85-4652-a457-4df8f23d129e\",\"type\":\"BasicTicker\"}},\"id\":\"e86ee3fc-c762-47c8-9fd4-aa4ee6efb4d0\",\"type\":\"Grid\"},{\"attributes\":{\"end_angle\":{\"units\":\"rad\",\"value\":2.6179938779914944},\"fill_color\":{\"value\":\"darkblue\"},\"line_color\":{\"value\":\"darkblue\"},\"radius\":{\"units\":\"data\",\"value\":3.5},\"start_angle\":{\"units\":\"rad\",\"value\":0.5235987755982988},\"x\":{\"value\":-6},\"y\":{\"value\":-8}},\"id\":\"9ea19d27-4d3f-42dc-a7b4-edc4ba866d1b\",\"type\":\"Wedge\"},{\"attributes\":{\"callback\":null,\"data\":{}},\"id\":\"1e761fe1-f015-4c07-ad1c-d0b40ecbe7d4\",\"type\":\"ColumnDataSource\"},{\"attributes\":{\"bottom_units\":\"screen\",\"fill_alpha\":{\"value\":0.5},\"fill_color\":{\"value\":\"lightgrey\"},\"left_units\":\"screen\",\"level\":\"overlay\",\"line_alpha\":{\"value\":1.0},\"line_color\":{\"value\":\"black\"},\"line_dash\":[4,4],\"line_width\":{\"value\":2},\"plot\":null,\"render_mode\":\"css\",\"right_units\":\"screen\",\"top_units\":\"screen\"},\"id\":\"dd9cb53c-23dd-4ec9-9b66-0ba1958716ec\",\"type\":\"BoxAnnotation\"},{\"attributes\":{\"fill_color\":{\"value\":null},\"height\":{\"units\":\"data\",\"value\":4},\"line_color\":{\"value\":\"blue\"},\"width\":{\"units\":\"data\",\"value\":6},\"x\":{\"value\":-5},\"y\":{\"value\":-2}},\"id\":\"23b2382a-cce1-41e6-84da-f5c39d7523d6\",\"type\":\"Oval\"},{\"attributes\":{},\"id\":\"511840ca-20d6-4fcd-9c13-9313c3bd43fc\",\"type\":\"PanTool\"},{\"attributes\":{},\"id\":\"94d891c8-770c-40a2-9c9e-b931dc336e68\",\"type\":\"ResetTool\"},{\"attributes\":{\"data_source\":{\"id\":\"ce1f5a67-6338-4f5d-b27e-0b4973824656\",\"type\":\"ColumnDataSource\"},\"glyph\":{\"id\":\"9ea19d27-4d3f-42dc-a7b4-edc4ba866d1b\",\"type\":\"Wedge\"},\"hover_glyph\":null,\"muted_glyph\":null,\"nonselection_glyph\":{\"id\":\"188eb725-f454-408c-beb9-376ca45b103b\",\"type\":\"Wedge\"},\"selection_glyph\":null,\"view\":{\"id\":\"ca282126-9eba-4a29-8408-673c86ff0764\",\"type\":\"CDSView\"}},\"id\":\"aa72e979-5a43-4073-905e-ca274abd9a28\",\"type\":\"GlyphRenderer\"},{\"attributes\":{\"fill_alpha\":{\"value\":0.1},\"fill_color\":{\"value\":\"#1f77b4\"},\"height\":{\"units\":\"data\",\"value\":2},\"line_alpha\":{\"value\":0.1},\"line_color\":{\"value\":\"#1f77b4\"},\"width\":{\"units\":\"data\",\"value\":4},\"x\":{\"value\":5},\"y\":{\"value\":5}},\"id\":\"fcaf9dc2-89ae-433e-9599-f76855933ef2\",\"type\":\"Rect\"},{\"attributes\":{\"data_source\":{\"id\":\"6866a959-352f-4416-b0e5-1c356cb44de8\",\"type\":\"ColumnDataSource\"},\"glyph\":{\"id\":\"6bc74ee1-68b8-4e49-aa96-f5695f721e0c\",\"type\":\"Patch\"},\"hover_glyph\":null,\"muted_glyph\":null,\"nonselection_glyph\":{\"id\":\"8a828328-89cf-45f9-b60d-9be813eb1d47\",\"type\":\"Patch\"},\"selection_glyph\":null,\"view\":{\"id\":\"91f7e24e-b863-4af4-9413-3db7ce97f5e8\",\"type\":\"CDSView\"}},\"id\":\"1c149561-f3e3-4a1d-8539-86e3fcd18bf4\",\"type\":\"GlyphRenderer\"},{\"attributes\":{},\"id\":\"74df1d79-ab69-4dc0-81ab-74273a7bac79\",\"type\":\"WheelZoomTool\"},{\"attributes\":{\"source\":{\"id\":\"3b56c82a-0ea0-43f6-8a53-075482db526d\",\"type\":\"ColumnDataSource\"}},\"id\":\"15adcd34-5fbe-46ea-8ab1-c201f653e4a0\",\"type\":\"CDSView\"},{\"attributes\":{\"callback\":null,\"data\":{}},\"id\":\"3b56c82a-0ea0-43f6-8a53-075482db526d\",\"type\":\"ColumnDataSource\"},{\"attributes\":{\"fill_alpha\":{\"value\":0.1},\"fill_color\":{\"value\":\"#1f77b4\"},\"height\":{\"units\":\"data\",\"value\":4},\"line_alpha\":{\"value\":0.1},\"line_color\":{\"value\":\"#1f77b4\"},\"width\":{\"units\":\"data\",\"value\":6},\"x\":{\"value\":-5},\"y\":{\"value\":-2}},\"id\":\"6c9255f1-9cc1-4c67-ab77-75dbee1f0c40\",\"type\":\"Oval\"},{\"attributes\":{\"overlay\":{\"id\":\"dd9cb53c-23dd-4ec9-9b66-0ba1958716ec\",\"type\":\"BoxAnnotation\"}},\"id\":\"d0454843-af0c-4f22-a2ab-eba00132e61b\",\"type\":\"BoxZoomTool\"},{\"attributes\":{\"callback\":null,\"data\":{}},\"id\":\"58e7688b-2971-41f1-8f1c-40288e555826\",\"type\":\"ColumnDataSource\"},{\"attributes\":{},\"id\":\"266e4680-0b2a-4cf5-a5ad-b9f6cfcea0cf\",\"type\":\"SaveTool\"},{\"attributes\":{\"data_source\":{\"id\":\"3b56c82a-0ea0-43f6-8a53-075482db526d\",\"type\":\"ColumnDataSource\"},\"glyph\":{\"id\":\"602c2bb6-a649-4883-a4e3-ed0a63251513\",\"type\":\"Rect\"},\"hover_glyph\":null,\"muted_glyph\":null,\"nonselection_glyph\":{\"id\":\"fcaf9dc2-89ae-433e-9599-f76855933ef2\",\"type\":\"Rect\"},\"selection_glyph\":null,\"view\":{\"id\":\"15adcd34-5fbe-46ea-8ab1-c201f653e4a0\",\"type\":\"CDSView\"}},\"id\":\"70023e9f-7087-4067-babe-cf651051a08f\",\"type\":\"GlyphRenderer\"},{\"attributes\":{},\"id\":\"4f7699cd-a166-4e71-a5c2-d847bc2c14e1\",\"type\":\"HelpTool\"},{\"attributes\":{\"fill_alpha\":{\"value\":0.1},\"fill_color\":{\"value\":\"#1f77b4\"},\"line_alpha\":{\"value\":0.1},\"line_color\":{\"value\":\"#1f77b4\"},\"x\":{\"field\":\"x\"},\"y\":{\"field\":\"y\"}},\"id\":\"b61fbec9-ac1e-499b-af3a-70ff7bb46167\",\"type\":\"Circle\"},{\"attributes\":{\"fill_alpha\":{\"value\":0.1},\"fill_color\":{\"value\":\"#1f77b4\"},\"line_alpha\":{\"value\":0.1},\"line_color\":{\"value\":\"#1f77b4\"},\"x\":{\"field\":\"x\"},\"y\":{\"field\":\"y\"}},\"id\":\"8a828328-89cf-45f9-b60d-9be813eb1d47\",\"type\":\"Patch\"},{\"attributes\":{},\"id\":\"55c08929-cf43-4c98-99d5-716e8d5b73f0\",\"type\":\"BasicTickFormatter\"},{\"attributes\":{\"source\":{\"id\":\"ae22e841-be5e-41f6-8bb8-f25b55757460\",\"type\":\"ColumnDataSource\"}},\"id\":\"fbebc28d-2133-49e2-ba0a-f8805f74d066\",\"type\":\"CDSView\"},{\"attributes\":{\"fill_color\":{\"value\":\"green\"},\"height\":{\"units\":\"data\",\"value\":2},\"line_color\":{\"value\":\"green\"},\"width\":{\"units\":\"data\",\"value\":4},\"x\":{\"value\":5},\"y\":{\"value\":5}},\"id\":\"602c2bb6-a649-4883-a4e3-ed0a63251513\",\"type\":\"Rect\"},{\"attributes\":{\"fill_color\":{\"value\":\"red\"},\"line_color\":{\"value\":\"red\"},\"x\":{\"field\":\"x\"},\"y\":{\"field\":\"y\"}},\"id\":\"a368dcba-10d2-4d33-8353-1a5a5bff9651\",\"type\":\"Circle\"},{\"attributes\":{\"fill_color\":{\"value\":\"orange\"},\"line_color\":{\"value\":\"orange\"},\"x\":{\"field\":\"x\"},\"y\":{\"field\":\"y\"}},\"id\":\"6bc74ee1-68b8-4e49-aa96-f5695f721e0c\",\"type\":\"Patch\"},{\"attributes\":{\"active_drag\":\"auto\",\"active_inspect\":\"auto\",\"active_scroll\":\"auto\",\"active_tap\":\"auto\",\"tools\":[{\"id\":\"511840ca-20d6-4fcd-9c13-9313c3bd43fc\",\"type\":\"PanTool\"},{\"id\":\"74df1d79-ab69-4dc0-81ab-74273a7bac79\",\"type\":\"WheelZoomTool\"},{\"id\":\"d0454843-af0c-4f22-a2ab-eba00132e61b\",\"type\":\"BoxZoomTool\"},{\"id\":\"266e4680-0b2a-4cf5-a5ad-b9f6cfcea0cf\",\"type\":\"SaveTool\"},{\"id\":\"94d891c8-770c-40a2-9c9e-b931dc336e68\",\"type\":\"ResetTool\"},{\"id\":\"4f7699cd-a166-4e71-a5c2-d847bc2c14e1\",\"type\":\"HelpTool\"}]},\"id\":\"f4faa512-b315-476c-8122-b1c7e121e440\",\"type\":\"Toolbar\"},{\"attributes\":{\"data_source\":{\"id\":\"ae22e841-be5e-41f6-8bb8-f25b55757460\",\"type\":\"ColumnDataSource\"},\"glyph\":{\"id\":\"a368dcba-10d2-4d33-8353-1a5a5bff9651\",\"type\":\"Circle\"},\"hover_glyph\":null,\"muted_glyph\":null,\"nonselection_glyph\":{\"id\":\"b61fbec9-ac1e-499b-af3a-70ff7bb46167\",\"type\":\"Circle\"},\"selection_glyph\":null,\"view\":{\"id\":\"fbebc28d-2133-49e2-ba0a-f8805f74d066\",\"type\":\"CDSView\"}},\"id\":\"a93807cb-f09a-40a2-af0b-b7d42c764a4f\",\"type\":\"GlyphRenderer\"},{\"attributes\":{\"callback\":null,\"column_names\":[\"x\",\"y\"],\"data\":{\"x\":[-4,9,5],\"y\":[2,1,7]}},\"id\":\"ae22e841-be5e-41f6-8bb8-f25b55757460\",\"type\":\"ColumnDataSource\"},{\"attributes\":{\"fill_alpha\":{\"value\":0.1},\"fill_color\":{\"value\":\"#1f77b4\"},\"line_alpha\":{\"value\":0.1},\"line_color\":{\"value\":\"#1f77b4\"},\"radius\":{\"units\":\"data\",\"value\":2},\"x\":{\"value\":-5},\"y\":{\"value\":5}},\"id\":\"1989de98-cf75-4707-9627-09808ffae238\",\"type\":\"Circle\"},{\"attributes\":{\"fill_color\":{\"value\":null},\"line_color\":{\"value\":\"darkred\"},\"radius\":{\"units\":\"data\",\"value\":2},\"x\":{\"value\":-5},\"y\":{\"value\":5}},\"id\":\"3dc6f829-9eab-4ae8-b78a-cf8a628b6439\",\"type\":\"Circle\"},{\"attributes\":{\"source\":{\"id\":\"ce1f5a67-6338-4f5d-b27e-0b4973824656\",\"type\":\"ColumnDataSource\"}},\"id\":\"ca282126-9eba-4a29-8408-673c86ff0764\",\"type\":\"CDSView\"},{\"attributes\":{\"callback\":null,\"end\":10,\"start\":-10},\"id\":\"19aab6fd-cda5-4a68-89a1-cd8a0aad8579\",\"type\":\"Range1d\"},{\"attributes\":{\"source\":{\"id\":\"58e7688b-2971-41f1-8f1c-40288e555826\",\"type\":\"ColumnDataSource\"}},\"id\":\"7e5b868b-e636-4c79-877c-423bcf3689e7\",\"type\":\"CDSView\"},{\"attributes\":{\"callback\":null,\"data\":{}},\"id\":\"ce1f5a67-6338-4f5d-b27e-0b4973824656\",\"type\":\"ColumnDataSource\"},{\"attributes\":{\"below\":[{\"id\":\"aafb2099-c6db-4208-959e-ccc14271a8b1\",\"type\":\"LinearAxis\"}],\"left\":[{\"id\":\"ed10a26a-3a72-46e3-bf52-965221f48229\",\"type\":\"LinearAxis\"}],\"plot_height\":400,\"plot_width\":400,\"renderers\":[{\"id\":\"aafb2099-c6db-4208-959e-ccc14271a8b1\",\"type\":\"LinearAxis\"},{\"id\":\"b00f2f4b-3da8-4524-8e49-877d992eb54d\",\"type\":\"Grid\"},{\"id\":\"ed10a26a-3a72-46e3-bf52-965221f48229\",\"type\":\"LinearAxis\"},{\"id\":\"e86ee3fc-c762-47c8-9fd4-aa4ee6efb4d0\",\"type\":\"Grid\"},{\"id\":\"dd9cb53c-23dd-4ec9-9b66-0ba1958716ec\",\"type\":\"BoxAnnotation\"},{\"id\":\"a93807cb-f09a-40a2-af0b-b7d42c764a4f\",\"type\":\"GlyphRenderer\"},{\"id\":\"70023e9f-7087-4067-babe-cf651051a08f\",\"type\":\"GlyphRenderer\"},{\"id\":\"c4b6fae8-2e06-45f0-b02e-08718f709556\",\"type\":\"GlyphRenderer\"},{\"id\":\"d6e3469c-8afc-4194-bb7c-5d8c13c91913\",\"type\":\"GlyphRenderer\"},{\"id\":\"1c149561-f3e3-4a1d-8539-86e3fcd18bf4\",\"type\":\"GlyphRenderer\"},{\"id\":\"aa72e979-5a43-4073-905e-ca274abd9a28\",\"type\":\"GlyphRenderer\"}],\"title\":{\"id\":\"4c40a45b-7133-46fc-94f9-f8ca86929c97\",\"type\":\"Title\"},\"toolbar\":{\"id\":\"f4faa512-b315-476c-8122-b1c7e121e440\",\"type\":\"Toolbar\"},\"x_range\":{\"id\":\"19aab6fd-cda5-4a68-89a1-cd8a0aad8579\",\"type\":\"Range1d\"},\"x_scale\":{\"id\":\"a7c91949-69fa-4ed3-9c67-15a6ad8b2e3a\",\"type\":\"LinearScale\"},\"y_range\":{\"id\":\"fe71a759-863d-4fd3-a01d-b9f97347b4d0\",\"type\":\"Range1d\"},\"y_scale\":{\"id\":\"08d9ce78-671d-4705-b4b8-4fc60e32594b\",\"type\":\"LinearScale\"}},\"id\":\"daafb60d-adaf-4a59-ad38-0b5aff201e8f\",\"subtype\":\"Figure\",\"type\":\"Plot\"},{\"attributes\":{\"plot\":null,\"text\":\"Gr\\u00e1ficos\"},\"id\":\"4c40a45b-7133-46fc-94f9-f8ca86929c97\",\"type\":\"Title\"},{\"attributes\":{},\"id\":\"a7c91949-69fa-4ed3-9c67-15a6ad8b2e3a\",\"type\":\"LinearScale\"},{\"attributes\":{\"callback\":null,\"end\":10,\"start\":-10},\"id\":\"fe71a759-863d-4fd3-a01d-b9f97347b4d0\",\"type\":\"Range1d\"},{\"attributes\":{\"data_source\":{\"id\":\"1e761fe1-f015-4c07-ad1c-d0b40ecbe7d4\",\"type\":\"ColumnDataSource\"},\"glyph\":{\"id\":\"23b2382a-cce1-41e6-84da-f5c39d7523d6\",\"type\":\"Oval\"},\"hover_glyph\":null,\"muted_glyph\":null,\"nonselection_glyph\":{\"id\":\"6c9255f1-9cc1-4c67-ab77-75dbee1f0c40\",\"type\":\"Oval\"},\"selection_glyph\":null,\"view\":{\"id\":\"83f5b297-48fe-4606-926b-d554de93286d\",\"type\":\"CDSView\"}},\"id\":\"d6e3469c-8afc-4194-bb7c-5d8c13c91913\",\"type\":\"GlyphRenderer\"},{\"attributes\":{},\"id\":\"08d9ce78-671d-4705-b4b8-4fc60e32594b\",\"type\":\"LinearScale\"},{\"attributes\":{\"formatter\":{\"id\":\"3edd5b67-02f6-4363-9f1c-bc84d830a33a\",\"type\":\"BasicTickFormatter\"},\"plot\":{\"id\":\"daafb60d-adaf-4a59-ad38-0b5aff201e8f\",\"subtype\":\"Figure\",\"type\":\"Plot\"},\"ticker\":{\"id\":\"f899956c-7bc6-42c8-998e-55a79843956b\",\"type\":\"BasicTicker\"}},\"id\":\"aafb2099-c6db-4208-959e-ccc14271a8b1\",\"type\":\"LinearAxis\"},{\"attributes\":{\"source\":{\"id\":\"6866a959-352f-4416-b0e5-1c356cb44de8\",\"type\":\"ColumnDataSource\"}},\"id\":\"91f7e24e-b863-4af4-9413-3db7ce97f5e8\",\"type\":\"CDSView\"},{\"attributes\":{},\"id\":\"f899956c-7bc6-42c8-998e-55a79843956b\",\"type\":\"BasicTicker\"},{\"attributes\":{},\"id\":\"a19f052e-3d85-4652-a457-4df8f23d129e\",\"type\":\"BasicTicker\"},{\"attributes\":{\"formatter\":{\"id\":\"55c08929-cf43-4c98-99d5-716e8d5b73f0\",\"type\":\"BasicTickFormatter\"},\"plot\":{\"id\":\"daafb60d-adaf-4a59-ad38-0b5aff201e8f\",\"subtype\":\"Figure\",\"type\":\"Plot\"},\"ticker\":{\"id\":\"a19f052e-3d85-4652-a457-4df8f23d129e\",\"type\":\"BasicTicker\"}},\"id\":\"ed10a26a-3a72-46e3-bf52-965221f48229\",\"type\":\"LinearAxis\"},{\"attributes\":{\"callback\":null,\"column_names\":[\"x\",\"y\"],\"data\":{\"x\":[0,5,5],\"y\":[-5,-5,0]}},\"id\":\"6866a959-352f-4416-b0e5-1c356cb44de8\",\"type\":\"ColumnDataSource\"},{\"attributes\":{\"plot\":{\"id\":\"daafb60d-adaf-4a59-ad38-0b5aff201e8f\",\"subtype\":\"Figure\",\"type\":\"Plot\"},\"ticker\":{\"id\":\"f899956c-7bc6-42c8-998e-55a79843956b\",\"type\":\"BasicTicker\"}},\"id\":\"b00f2f4b-3da8-4524-8e49-877d992eb54d\",\"type\":\"Grid\"},{\"attributes\":{\"end_angle\":{\"units\":\"rad\",\"value\":2.6179938779914944},\"fill_alpha\":{\"value\":0.1},\"fill_color\":{\"value\":\"#1f77b4\"},\"line_alpha\":{\"value\":0.1},\"line_color\":{\"value\":\"#1f77b4\"},\"radius\":{\"units\":\"data\",\"value\":3.5},\"start_angle\":{\"units\":\"rad\",\"value\":0.5235987755982988},\"x\":{\"value\":-6},\"y\":{\"value\":-8}},\"id\":\"188eb725-f454-408c-beb9-376ca45b103b\",\"type\":\"Wedge\"},{\"attributes\":{\"source\":{\"id\":\"1e761fe1-f015-4c07-ad1c-d0b40ecbe7d4\",\"type\":\"ColumnDataSource\"}},\"id\":\"83f5b297-48fe-4606-926b-d554de93286d\",\"type\":\"CDSView\"},{\"attributes\":{},\"id\":\"3edd5b67-02f6-4363-9f1c-bc84d830a33a\",\"type\":\"BasicTickFormatter\"},{\"attributes\":{\"data_source\":{\"id\":\"58e7688b-2971-41f1-8f1c-40288e555826\",\"type\":\"ColumnDataSource\"},\"glyph\":{\"id\":\"3dc6f829-9eab-4ae8-b78a-cf8a628b6439\",\"type\":\"Circle\"},\"hover_glyph\":null,\"muted_glyph\":null,\"nonselection_glyph\":{\"id\":\"1989de98-cf75-4707-9627-09808ffae238\",\"type\":\"Circle\"},\"selection_glyph\":null,\"view\":{\"id\":\"7e5b868b-e636-4c79-877c-423bcf3689e7\",\"type\":\"CDSView\"}},\"id\":\"c4b6fae8-2e06-45f0-b02e-08718f709556\",\"type\":\"GlyphRenderer\"}],\"root_ids\":[\"daafb60d-adaf-4a59-ad38-0b5aff201e8f\"]},\"title\":\"Bokeh Application\",\"version\":\"0.12.10\"}};\n",
       "    var render_items = [{\"docid\":\"4fd97ffd-2172-4816-8a34-82be387dacf9\",\"elementid\":\"0040419e-b95d-4450-88b1-5c9c60f352ca\",\"modelid\":\"daafb60d-adaf-4a59-ad38-0b5aff201e8f\"}];\n",
       "\n",
       "    root.Bokeh.embed.embed_items(docs_json, render_items);\n",
       "  }\n",
       "\n",
       "  if (root.Bokeh !== undefined) {\n",
       "    embed_document(root);\n",
       "  } else {\n",
       "    var attempts = 0;\n",
       "    var timer = setInterval(function(root) {\n",
       "      if (root.Bokeh !== undefined) {\n",
       "        embed_document(root);\n",
       "        clearInterval(timer);\n",
       "      }\n",
       "      attempts++;\n",
       "      if (attempts > 100) {\n",
       "        console.log(\"Bokeh: ERROR: Unable to embed document because BokehJS library is missing\")\n",
       "        clearInterval(timer);\n",
       "      }\n",
       "    }, 10, root)\n",
       "  }\n",
       "})(window);"
      ],
      "application/vnd.bokehjs_exec.v0+json": ""
     },
     "metadata": {
      "application/vnd.bokehjs_exec.v0+json": {
       "id": "daafb60d-adaf-4a59-ad38-0b5aff201e8f"
      }
     },
     "output_type": "display_data"
    }
   ],
   "source": [
    "#Creamos la porción\n",
    "p.wedge(x=-6, y=-8, radius=3.5, start_angle=30*pi/180, end_angle=150*pi/180,color=\"darkblue\")\n",
    "\n",
    "#Mostramos el gráfico\n",
    "show(p)"
   ]
  },
  {
   "cell_type": "markdown",
   "metadata": {},
   "source": [
    "## Porción de anillo\n",
    "#### Dibujamos una porción de anillo centrado en (5,-9), de radio exterior 3.5 y radio interior 2 con color de fondo lima. La porción comienza en el ángulo 60 grados y llega hasta los 190 grados. "
   ]
  },
  {
   "cell_type": "code",
   "execution_count": 8,
   "metadata": {},
   "outputs": [
    {
     "data": {
      "text/html": [
       "\n",
       "<div class=\"bk-root\">\n",
       "    <div class=\"bk-plotdiv\" id=\"93e1099d-4507-4870-986e-349fab5471eb\"></div>\n",
       "</div>"
      ]
     },
     "metadata": {},
     "output_type": "display_data"
    },
    {
     "data": {
      "application/javascript": [
       "(function(root) {\n",
       "  function embed_document(root) {\n",
       "    var docs_json = {\"5095a9de-7cd4-4446-bfe6-442f32647c7e\":{\"roots\":{\"references\":[{\"attributes\":{\"dimension\":1,\"plot\":{\"id\":\"daafb60d-adaf-4a59-ad38-0b5aff201e8f\",\"subtype\":\"Figure\",\"type\":\"Plot\"},\"ticker\":{\"id\":\"a19f052e-3d85-4652-a457-4df8f23d129e\",\"type\":\"BasicTicker\"}},\"id\":\"e86ee3fc-c762-47c8-9fd4-aa4ee6efb4d0\",\"type\":\"Grid\"},{\"attributes\":{\"end_angle\":{\"units\":\"rad\",\"value\":2.6179938779914944},\"fill_color\":{\"value\":\"darkblue\"},\"line_color\":{\"value\":\"darkblue\"},\"radius\":{\"units\":\"data\",\"value\":3.5},\"start_angle\":{\"units\":\"rad\",\"value\":0.5235987755982988},\"x\":{\"value\":-6},\"y\":{\"value\":-8}},\"id\":\"9ea19d27-4d3f-42dc-a7b4-edc4ba866d1b\",\"type\":\"Wedge\"},{\"attributes\":{\"callback\":null,\"data\":{}},\"id\":\"1e761fe1-f015-4c07-ad1c-d0b40ecbe7d4\",\"type\":\"ColumnDataSource\"},{\"attributes\":{\"bottom_units\":\"screen\",\"fill_alpha\":{\"value\":0.5},\"fill_color\":{\"value\":\"lightgrey\"},\"left_units\":\"screen\",\"level\":\"overlay\",\"line_alpha\":{\"value\":1.0},\"line_color\":{\"value\":\"black\"},\"line_dash\":[4,4],\"line_width\":{\"value\":2},\"plot\":null,\"render_mode\":\"css\",\"right_units\":\"screen\",\"top_units\":\"screen\"},\"id\":\"dd9cb53c-23dd-4ec9-9b66-0ba1958716ec\",\"type\":\"BoxAnnotation\"},{\"attributes\":{\"fill_color\":{\"value\":null},\"height\":{\"units\":\"data\",\"value\":4},\"line_color\":{\"value\":\"blue\"},\"width\":{\"units\":\"data\",\"value\":6},\"x\":{\"value\":-5},\"y\":{\"value\":-2}},\"id\":\"23b2382a-cce1-41e6-84da-f5c39d7523d6\",\"type\":\"Oval\"},{\"attributes\":{},\"id\":\"511840ca-20d6-4fcd-9c13-9313c3bd43fc\",\"type\":\"PanTool\"},{\"attributes\":{},\"id\":\"94d891c8-770c-40a2-9c9e-b931dc336e68\",\"type\":\"ResetTool\"},{\"attributes\":{\"data_source\":{\"id\":\"ce1f5a67-6338-4f5d-b27e-0b4973824656\",\"type\":\"ColumnDataSource\"},\"glyph\":{\"id\":\"9ea19d27-4d3f-42dc-a7b4-edc4ba866d1b\",\"type\":\"Wedge\"},\"hover_glyph\":null,\"muted_glyph\":null,\"nonselection_glyph\":{\"id\":\"188eb725-f454-408c-beb9-376ca45b103b\",\"type\":\"Wedge\"},\"selection_glyph\":null,\"view\":{\"id\":\"ca282126-9eba-4a29-8408-673c86ff0764\",\"type\":\"CDSView\"}},\"id\":\"aa72e979-5a43-4073-905e-ca274abd9a28\",\"type\":\"GlyphRenderer\"},{\"attributes\":{\"fill_alpha\":{\"value\":0.1},\"fill_color\":{\"value\":\"#1f77b4\"},\"height\":{\"units\":\"data\",\"value\":2},\"line_alpha\":{\"value\":0.1},\"line_color\":{\"value\":\"#1f77b4\"},\"width\":{\"units\":\"data\",\"value\":4},\"x\":{\"value\":5},\"y\":{\"value\":5}},\"id\":\"fcaf9dc2-89ae-433e-9599-f76855933ef2\",\"type\":\"Rect\"},{\"attributes\":{\"data_source\":{\"id\":\"6866a959-352f-4416-b0e5-1c356cb44de8\",\"type\":\"ColumnDataSource\"},\"glyph\":{\"id\":\"6bc74ee1-68b8-4e49-aa96-f5695f721e0c\",\"type\":\"Patch\"},\"hover_glyph\":null,\"muted_glyph\":null,\"nonselection_glyph\":{\"id\":\"8a828328-89cf-45f9-b60d-9be813eb1d47\",\"type\":\"Patch\"},\"selection_glyph\":null,\"view\":{\"id\":\"91f7e24e-b863-4af4-9413-3db7ce97f5e8\",\"type\":\"CDSView\"}},\"id\":\"1c149561-f3e3-4a1d-8539-86e3fcd18bf4\",\"type\":\"GlyphRenderer\"},{\"attributes\":{},\"id\":\"74df1d79-ab69-4dc0-81ab-74273a7bac79\",\"type\":\"WheelZoomTool\"},{\"attributes\":{\"source\":{\"id\":\"3b56c82a-0ea0-43f6-8a53-075482db526d\",\"type\":\"ColumnDataSource\"}},\"id\":\"15adcd34-5fbe-46ea-8ab1-c201f653e4a0\",\"type\":\"CDSView\"},{\"attributes\":{\"callback\":null,\"data\":{}},\"id\":\"3b56c82a-0ea0-43f6-8a53-075482db526d\",\"type\":\"ColumnDataSource\"},{\"attributes\":{\"fill_alpha\":{\"value\":0.1},\"fill_color\":{\"value\":\"#1f77b4\"},\"height\":{\"units\":\"data\",\"value\":4},\"line_alpha\":{\"value\":0.1},\"line_color\":{\"value\":\"#1f77b4\"},\"width\":{\"units\":\"data\",\"value\":6},\"x\":{\"value\":-5},\"y\":{\"value\":-2}},\"id\":\"6c9255f1-9cc1-4c67-ab77-75dbee1f0c40\",\"type\":\"Oval\"},{\"attributes\":{\"overlay\":{\"id\":\"dd9cb53c-23dd-4ec9-9b66-0ba1958716ec\",\"type\":\"BoxAnnotation\"}},\"id\":\"d0454843-af0c-4f22-a2ab-eba00132e61b\",\"type\":\"BoxZoomTool\"},{\"attributes\":{\"callback\":null,\"data\":{}},\"id\":\"58e7688b-2971-41f1-8f1c-40288e555826\",\"type\":\"ColumnDataSource\"},{\"attributes\":{},\"id\":\"266e4680-0b2a-4cf5-a5ad-b9f6cfcea0cf\",\"type\":\"SaveTool\"},{\"attributes\":{\"data_source\":{\"id\":\"3b56c82a-0ea0-43f6-8a53-075482db526d\",\"type\":\"ColumnDataSource\"},\"glyph\":{\"id\":\"602c2bb6-a649-4883-a4e3-ed0a63251513\",\"type\":\"Rect\"},\"hover_glyph\":null,\"muted_glyph\":null,\"nonselection_glyph\":{\"id\":\"fcaf9dc2-89ae-433e-9599-f76855933ef2\",\"type\":\"Rect\"},\"selection_glyph\":null,\"view\":{\"id\":\"15adcd34-5fbe-46ea-8ab1-c201f653e4a0\",\"type\":\"CDSView\"}},\"id\":\"70023e9f-7087-4067-babe-cf651051a08f\",\"type\":\"GlyphRenderer\"},{\"attributes\":{},\"id\":\"4f7699cd-a166-4e71-a5c2-d847bc2c14e1\",\"type\":\"HelpTool\"},{\"attributes\":{\"fill_alpha\":{\"value\":0.1},\"fill_color\":{\"value\":\"#1f77b4\"},\"line_alpha\":{\"value\":0.1},\"line_color\":{\"value\":\"#1f77b4\"},\"x\":{\"field\":\"x\"},\"y\":{\"field\":\"y\"}},\"id\":\"b61fbec9-ac1e-499b-af3a-70ff7bb46167\",\"type\":\"Circle\"},{\"attributes\":{\"fill_alpha\":{\"value\":0.1},\"fill_color\":{\"value\":\"#1f77b4\"},\"line_alpha\":{\"value\":0.1},\"line_color\":{\"value\":\"#1f77b4\"},\"x\":{\"field\":\"x\"},\"y\":{\"field\":\"y\"}},\"id\":\"8a828328-89cf-45f9-b60d-9be813eb1d47\",\"type\":\"Patch\"},{\"attributes\":{},\"id\":\"55c08929-cf43-4c98-99d5-716e8d5b73f0\",\"type\":\"BasicTickFormatter\"},{\"attributes\":{\"source\":{\"id\":\"ae22e841-be5e-41f6-8bb8-f25b55757460\",\"type\":\"ColumnDataSource\"}},\"id\":\"fbebc28d-2133-49e2-ba0a-f8805f74d066\",\"type\":\"CDSView\"},{\"attributes\":{\"fill_color\":{\"value\":\"green\"},\"height\":{\"units\":\"data\",\"value\":2},\"line_color\":{\"value\":\"green\"},\"width\":{\"units\":\"data\",\"value\":4},\"x\":{\"value\":5},\"y\":{\"value\":5}},\"id\":\"602c2bb6-a649-4883-a4e3-ed0a63251513\",\"type\":\"Rect\"},{\"attributes\":{\"callback\":null,\"data\":{}},\"id\":\"943d682c-9d2e-4d8d-ad71-7fa33368d972\",\"type\":\"ColumnDataSource\"},{\"attributes\":{\"data_source\":{\"id\":\"943d682c-9d2e-4d8d-ad71-7fa33368d972\",\"type\":\"ColumnDataSource\"},\"glyph\":{\"id\":\"fc61de50-edb6-495e-b636-e37d5e40e1ea\",\"type\":\"AnnularWedge\"},\"hover_glyph\":null,\"muted_glyph\":null,\"nonselection_glyph\":{\"id\":\"944fda5f-7a69-4b67-8a5e-eea04e750c7f\",\"type\":\"AnnularWedge\"},\"selection_glyph\":null,\"view\":{\"id\":\"cd2bea9f-d897-4aa0-a554-ff68925f329e\",\"type\":\"CDSView\"}},\"id\":\"db6945ec-7b4a-422e-a6a5-163a612cf7c0\",\"type\":\"GlyphRenderer\"},{\"attributes\":{\"fill_color\":{\"value\":\"red\"},\"line_color\":{\"value\":\"red\"},\"x\":{\"field\":\"x\"},\"y\":{\"field\":\"y\"}},\"id\":\"a368dcba-10d2-4d33-8353-1a5a5bff9651\",\"type\":\"Circle\"},{\"attributes\":{\"source\":{\"id\":\"943d682c-9d2e-4d8d-ad71-7fa33368d972\",\"type\":\"ColumnDataSource\"}},\"id\":\"cd2bea9f-d897-4aa0-a554-ff68925f329e\",\"type\":\"CDSView\"},{\"attributes\":{\"fill_color\":{\"value\":\"orange\"},\"line_color\":{\"value\":\"orange\"},\"x\":{\"field\":\"x\"},\"y\":{\"field\":\"y\"}},\"id\":\"6bc74ee1-68b8-4e49-aa96-f5695f721e0c\",\"type\":\"Patch\"},{\"attributes\":{\"active_drag\":\"auto\",\"active_inspect\":\"auto\",\"active_scroll\":\"auto\",\"active_tap\":\"auto\",\"tools\":[{\"id\":\"511840ca-20d6-4fcd-9c13-9313c3bd43fc\",\"type\":\"PanTool\"},{\"id\":\"74df1d79-ab69-4dc0-81ab-74273a7bac79\",\"type\":\"WheelZoomTool\"},{\"id\":\"d0454843-af0c-4f22-a2ab-eba00132e61b\",\"type\":\"BoxZoomTool\"},{\"id\":\"266e4680-0b2a-4cf5-a5ad-b9f6cfcea0cf\",\"type\":\"SaveTool\"},{\"id\":\"94d891c8-770c-40a2-9c9e-b931dc336e68\",\"type\":\"ResetTool\"},{\"id\":\"4f7699cd-a166-4e71-a5c2-d847bc2c14e1\",\"type\":\"HelpTool\"}]},\"id\":\"f4faa512-b315-476c-8122-b1c7e121e440\",\"type\":\"Toolbar\"},{\"attributes\":{\"data_source\":{\"id\":\"ae22e841-be5e-41f6-8bb8-f25b55757460\",\"type\":\"ColumnDataSource\"},\"glyph\":{\"id\":\"a368dcba-10d2-4d33-8353-1a5a5bff9651\",\"type\":\"Circle\"},\"hover_glyph\":null,\"muted_glyph\":null,\"nonselection_glyph\":{\"id\":\"b61fbec9-ac1e-499b-af3a-70ff7bb46167\",\"type\":\"Circle\"},\"selection_glyph\":null,\"view\":{\"id\":\"fbebc28d-2133-49e2-ba0a-f8805f74d066\",\"type\":\"CDSView\"}},\"id\":\"a93807cb-f09a-40a2-af0b-b7d42c764a4f\",\"type\":\"GlyphRenderer\"},{\"attributes\":{\"callback\":null,\"column_names\":[\"x\",\"y\"],\"data\":{\"x\":[-4,9,5],\"y\":[2,1,7]}},\"id\":\"ae22e841-be5e-41f6-8bb8-f25b55757460\",\"type\":\"ColumnDataSource\"},{\"attributes\":{\"fill_alpha\":{\"value\":0.1},\"fill_color\":{\"value\":\"#1f77b4\"},\"line_alpha\":{\"value\":0.1},\"line_color\":{\"value\":\"#1f77b4\"},\"radius\":{\"units\":\"data\",\"value\":2},\"x\":{\"value\":-5},\"y\":{\"value\":5}},\"id\":\"1989de98-cf75-4707-9627-09808ffae238\",\"type\":\"Circle\"},{\"attributes\":{\"fill_color\":{\"value\":null},\"line_color\":{\"value\":\"darkred\"},\"radius\":{\"units\":\"data\",\"value\":2},\"x\":{\"value\":-5},\"y\":{\"value\":5}},\"id\":\"3dc6f829-9eab-4ae8-b78a-cf8a628b6439\",\"type\":\"Circle\"},{\"attributes\":{\"end_angle\":{\"units\":\"rad\",\"value\":3.3161255787892263},\"fill_alpha\":{\"value\":0.1},\"fill_color\":{\"value\":\"#1f77b4\"},\"inner_radius\":{\"units\":\"data\",\"value\":2},\"line_alpha\":{\"value\":0.1},\"line_color\":{\"value\":\"#1f77b4\"},\"outer_radius\":{\"units\":\"data\",\"value\":3.5},\"start_angle\":{\"units\":\"rad\",\"value\":1.0471975511965976},\"x\":{\"value\":5},\"y\":{\"value\":-9}},\"id\":\"944fda5f-7a69-4b67-8a5e-eea04e750c7f\",\"type\":\"AnnularWedge\"},{\"attributes\":{\"end_angle\":{\"units\":\"rad\",\"value\":3.3161255787892263},\"fill_color\":{\"value\":\"lime\"},\"inner_radius\":{\"units\":\"data\",\"value\":2},\"line_color\":{\"value\":\"lime\"},\"outer_radius\":{\"units\":\"data\",\"value\":3.5},\"start_angle\":{\"units\":\"rad\",\"value\":1.0471975511965976},\"x\":{\"value\":5},\"y\":{\"value\":-9}},\"id\":\"fc61de50-edb6-495e-b636-e37d5e40e1ea\",\"type\":\"AnnularWedge\"},{\"attributes\":{\"source\":{\"id\":\"ce1f5a67-6338-4f5d-b27e-0b4973824656\",\"type\":\"ColumnDataSource\"}},\"id\":\"ca282126-9eba-4a29-8408-673c86ff0764\",\"type\":\"CDSView\"},{\"attributes\":{\"callback\":null,\"end\":10,\"start\":-10},\"id\":\"19aab6fd-cda5-4a68-89a1-cd8a0aad8579\",\"type\":\"Range1d\"},{\"attributes\":{\"source\":{\"id\":\"58e7688b-2971-41f1-8f1c-40288e555826\",\"type\":\"ColumnDataSource\"}},\"id\":\"7e5b868b-e636-4c79-877c-423bcf3689e7\",\"type\":\"CDSView\"},{\"attributes\":{\"callback\":null,\"data\":{}},\"id\":\"ce1f5a67-6338-4f5d-b27e-0b4973824656\",\"type\":\"ColumnDataSource\"},{\"attributes\":{\"below\":[{\"id\":\"aafb2099-c6db-4208-959e-ccc14271a8b1\",\"type\":\"LinearAxis\"}],\"left\":[{\"id\":\"ed10a26a-3a72-46e3-bf52-965221f48229\",\"type\":\"LinearAxis\"}],\"plot_height\":400,\"plot_width\":400,\"renderers\":[{\"id\":\"aafb2099-c6db-4208-959e-ccc14271a8b1\",\"type\":\"LinearAxis\"},{\"id\":\"b00f2f4b-3da8-4524-8e49-877d992eb54d\",\"type\":\"Grid\"},{\"id\":\"ed10a26a-3a72-46e3-bf52-965221f48229\",\"type\":\"LinearAxis\"},{\"id\":\"e86ee3fc-c762-47c8-9fd4-aa4ee6efb4d0\",\"type\":\"Grid\"},{\"id\":\"dd9cb53c-23dd-4ec9-9b66-0ba1958716ec\",\"type\":\"BoxAnnotation\"},{\"id\":\"a93807cb-f09a-40a2-af0b-b7d42c764a4f\",\"type\":\"GlyphRenderer\"},{\"id\":\"70023e9f-7087-4067-babe-cf651051a08f\",\"type\":\"GlyphRenderer\"},{\"id\":\"c4b6fae8-2e06-45f0-b02e-08718f709556\",\"type\":\"GlyphRenderer\"},{\"id\":\"d6e3469c-8afc-4194-bb7c-5d8c13c91913\",\"type\":\"GlyphRenderer\"},{\"id\":\"1c149561-f3e3-4a1d-8539-86e3fcd18bf4\",\"type\":\"GlyphRenderer\"},{\"id\":\"aa72e979-5a43-4073-905e-ca274abd9a28\",\"type\":\"GlyphRenderer\"},{\"id\":\"db6945ec-7b4a-422e-a6a5-163a612cf7c0\",\"type\":\"GlyphRenderer\"}],\"title\":{\"id\":\"4c40a45b-7133-46fc-94f9-f8ca86929c97\",\"type\":\"Title\"},\"toolbar\":{\"id\":\"f4faa512-b315-476c-8122-b1c7e121e440\",\"type\":\"Toolbar\"},\"x_range\":{\"id\":\"19aab6fd-cda5-4a68-89a1-cd8a0aad8579\",\"type\":\"Range1d\"},\"x_scale\":{\"id\":\"a7c91949-69fa-4ed3-9c67-15a6ad8b2e3a\",\"type\":\"LinearScale\"},\"y_range\":{\"id\":\"fe71a759-863d-4fd3-a01d-b9f97347b4d0\",\"type\":\"Range1d\"},\"y_scale\":{\"id\":\"08d9ce78-671d-4705-b4b8-4fc60e32594b\",\"type\":\"LinearScale\"}},\"id\":\"daafb60d-adaf-4a59-ad38-0b5aff201e8f\",\"subtype\":\"Figure\",\"type\":\"Plot\"},{\"attributes\":{\"plot\":null,\"text\":\"Gr\\u00e1ficos\"},\"id\":\"4c40a45b-7133-46fc-94f9-f8ca86929c97\",\"type\":\"Title\"},{\"attributes\":{},\"id\":\"a7c91949-69fa-4ed3-9c67-15a6ad8b2e3a\",\"type\":\"LinearScale\"},{\"attributes\":{\"callback\":null,\"end\":10,\"start\":-10},\"id\":\"fe71a759-863d-4fd3-a01d-b9f97347b4d0\",\"type\":\"Range1d\"},{\"attributes\":{\"data_source\":{\"id\":\"1e761fe1-f015-4c07-ad1c-d0b40ecbe7d4\",\"type\":\"ColumnDataSource\"},\"glyph\":{\"id\":\"23b2382a-cce1-41e6-84da-f5c39d7523d6\",\"type\":\"Oval\"},\"hover_glyph\":null,\"muted_glyph\":null,\"nonselection_glyph\":{\"id\":\"6c9255f1-9cc1-4c67-ab77-75dbee1f0c40\",\"type\":\"Oval\"},\"selection_glyph\":null,\"view\":{\"id\":\"83f5b297-48fe-4606-926b-d554de93286d\",\"type\":\"CDSView\"}},\"id\":\"d6e3469c-8afc-4194-bb7c-5d8c13c91913\",\"type\":\"GlyphRenderer\"},{\"attributes\":{},\"id\":\"08d9ce78-671d-4705-b4b8-4fc60e32594b\",\"type\":\"LinearScale\"},{\"attributes\":{\"formatter\":{\"id\":\"3edd5b67-02f6-4363-9f1c-bc84d830a33a\",\"type\":\"BasicTickFormatter\"},\"plot\":{\"id\":\"daafb60d-adaf-4a59-ad38-0b5aff201e8f\",\"subtype\":\"Figure\",\"type\":\"Plot\"},\"ticker\":{\"id\":\"f899956c-7bc6-42c8-998e-55a79843956b\",\"type\":\"BasicTicker\"}},\"id\":\"aafb2099-c6db-4208-959e-ccc14271a8b1\",\"type\":\"LinearAxis\"},{\"attributes\":{\"source\":{\"id\":\"6866a959-352f-4416-b0e5-1c356cb44de8\",\"type\":\"ColumnDataSource\"}},\"id\":\"91f7e24e-b863-4af4-9413-3db7ce97f5e8\",\"type\":\"CDSView\"},{\"attributes\":{},\"id\":\"f899956c-7bc6-42c8-998e-55a79843956b\",\"type\":\"BasicTicker\"},{\"attributes\":{},\"id\":\"a19f052e-3d85-4652-a457-4df8f23d129e\",\"type\":\"BasicTicker\"},{\"attributes\":{\"formatter\":{\"id\":\"55c08929-cf43-4c98-99d5-716e8d5b73f0\",\"type\":\"BasicTickFormatter\"},\"plot\":{\"id\":\"daafb60d-adaf-4a59-ad38-0b5aff201e8f\",\"subtype\":\"Figure\",\"type\":\"Plot\"},\"ticker\":{\"id\":\"a19f052e-3d85-4652-a457-4df8f23d129e\",\"type\":\"BasicTicker\"}},\"id\":\"ed10a26a-3a72-46e3-bf52-965221f48229\",\"type\":\"LinearAxis\"},{\"attributes\":{\"callback\":null,\"column_names\":[\"x\",\"y\"],\"data\":{\"x\":[0,5,5],\"y\":[-5,-5,0]}},\"id\":\"6866a959-352f-4416-b0e5-1c356cb44de8\",\"type\":\"ColumnDataSource\"},{\"attributes\":{\"plot\":{\"id\":\"daafb60d-adaf-4a59-ad38-0b5aff201e8f\",\"subtype\":\"Figure\",\"type\":\"Plot\"},\"ticker\":{\"id\":\"f899956c-7bc6-42c8-998e-55a79843956b\",\"type\":\"BasicTicker\"}},\"id\":\"b00f2f4b-3da8-4524-8e49-877d992eb54d\",\"type\":\"Grid\"},{\"attributes\":{\"end_angle\":{\"units\":\"rad\",\"value\":2.6179938779914944},\"fill_alpha\":{\"value\":0.1},\"fill_color\":{\"value\":\"#1f77b4\"},\"line_alpha\":{\"value\":0.1},\"line_color\":{\"value\":\"#1f77b4\"},\"radius\":{\"units\":\"data\",\"value\":3.5},\"start_angle\":{\"units\":\"rad\",\"value\":0.5235987755982988},\"x\":{\"value\":-6},\"y\":{\"value\":-8}},\"id\":\"188eb725-f454-408c-beb9-376ca45b103b\",\"type\":\"Wedge\"},{\"attributes\":{\"source\":{\"id\":\"1e761fe1-f015-4c07-ad1c-d0b40ecbe7d4\",\"type\":\"ColumnDataSource\"}},\"id\":\"83f5b297-48fe-4606-926b-d554de93286d\",\"type\":\"CDSView\"},{\"attributes\":{},\"id\":\"3edd5b67-02f6-4363-9f1c-bc84d830a33a\",\"type\":\"BasicTickFormatter\"},{\"attributes\":{\"data_source\":{\"id\":\"58e7688b-2971-41f1-8f1c-40288e555826\",\"type\":\"ColumnDataSource\"},\"glyph\":{\"id\":\"3dc6f829-9eab-4ae8-b78a-cf8a628b6439\",\"type\":\"Circle\"},\"hover_glyph\":null,\"muted_glyph\":null,\"nonselection_glyph\":{\"id\":\"1989de98-cf75-4707-9627-09808ffae238\",\"type\":\"Circle\"},\"selection_glyph\":null,\"view\":{\"id\":\"7e5b868b-e636-4c79-877c-423bcf3689e7\",\"type\":\"CDSView\"}},\"id\":\"c4b6fae8-2e06-45f0-b02e-08718f709556\",\"type\":\"GlyphRenderer\"}],\"root_ids\":[\"daafb60d-adaf-4a59-ad38-0b5aff201e8f\"]},\"title\":\"Bokeh Application\",\"version\":\"0.12.10\"}};\n",
       "    var render_items = [{\"docid\":\"5095a9de-7cd4-4446-bfe6-442f32647c7e\",\"elementid\":\"93e1099d-4507-4870-986e-349fab5471eb\",\"modelid\":\"daafb60d-adaf-4a59-ad38-0b5aff201e8f\"}];\n",
       "\n",
       "    root.Bokeh.embed.embed_items(docs_json, render_items);\n",
       "  }\n",
       "\n",
       "  if (root.Bokeh !== undefined) {\n",
       "    embed_document(root);\n",
       "  } else {\n",
       "    var attempts = 0;\n",
       "    var timer = setInterval(function(root) {\n",
       "      if (root.Bokeh !== undefined) {\n",
       "        embed_document(root);\n",
       "        clearInterval(timer);\n",
       "      }\n",
       "      attempts++;\n",
       "      if (attempts > 100) {\n",
       "        console.log(\"Bokeh: ERROR: Unable to embed document because BokehJS library is missing\")\n",
       "        clearInterval(timer);\n",
       "      }\n",
       "    }, 10, root)\n",
       "  }\n",
       "})(window);"
      ],
      "application/vnd.bokehjs_exec.v0+json": ""
     },
     "metadata": {
      "application/vnd.bokehjs_exec.v0+json": {
       "id": "daafb60d-adaf-4a59-ad38-0b5aff201e8f"
      }
     },
     "output_type": "display_data"
    }
   ],
   "source": [
    "#Creamos el anillo\n",
    "p.annular_wedge(x=5, y=-9, inner_radius=2, outer_radius=3.5,start_angle=60*pi/180, end_angle=190*pi/180, color=\"lime\")\n",
    "\n",
    "#Mostramos el gráfico\n",
    "show(p)\n"
   ]
  },
  {
   "cell_type": "code",
   "execution_count": null,
   "metadata": {
    "collapsed": true
   },
   "outputs": [],
   "source": []
  }
 ],
 "metadata": {
  "kernelspec": {
   "display_name": "Python 3",
   "language": "python",
   "name": "python3"
  },
  "language_info": {
   "codemirror_mode": {
    "name": "ipython",
    "version": 3
   },
   "file_extension": ".py",
   "mimetype": "text/x-python",
   "name": "python",
   "nbconvert_exporter": "python",
   "pygments_lexer": "ipython3",
   "version": "3.6.3"
  }
 },
 "nbformat": 4,
 "nbformat_minor": 2
}
